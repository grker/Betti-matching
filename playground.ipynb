{
 "cells": [
  {
   "attachments": {},
   "cell_type": "markdown",
   "metadata": {},
   "source": [
    "# Introduction to Betti matching"
   ]
  },
  {
   "cell_type": "code",
   "execution_count": 1,
   "metadata": {},
   "outputs": [
    {
     "data": {
      "application/javascript": "(function(root) {\n  function now() {\n    return new Date();\n  }\n\n  var force = true;\n\n  if (typeof root._bokeh_onload_callbacks === \"undefined\" || force === true) {\n    root._bokeh_onload_callbacks = [];\n    root._bokeh_is_loading = undefined;\n  }\n\n  if (typeof (root._bokeh_timeout) === \"undefined\" || force === true) {\n    root._bokeh_timeout = Date.now() + 5000;\n    root._bokeh_failed_load = false;\n  }\n\n  function run_callbacks() {\n    try {\n      root._bokeh_onload_callbacks.forEach(function(callback) {\n        if (callback != null)\n          callback();\n      });\n    } finally {\n      delete root._bokeh_onload_callbacks\n    }\n    console.debug(\"Bokeh: all callbacks have finished\");\n  }\n\n  function load_libs(css_urls, js_urls, js_modules, callback) {\n    if (css_urls == null) css_urls = [];\n    if (js_urls == null) js_urls = [];\n    if (js_modules == null) js_modules = [];\n\n    root._bokeh_onload_callbacks.push(callback);\n    if (root._bokeh_is_loading > 0) {\n      console.debug(\"Bokeh: BokehJS is being loaded, scheduling callback at\", now());\n      return null;\n    }\n    if (js_urls.length === 0 && js_modules.length === 0) {\n      run_callbacks();\n      return null;\n    }\n    console.debug(\"Bokeh: BokehJS not loaded, scheduling load and callback at\", now());\n\n    function on_load() {\n      root._bokeh_is_loading--;\n      if (root._bokeh_is_loading === 0) {\n        console.debug(\"Bokeh: all BokehJS libraries/stylesheets loaded\");\n        run_callbacks()\n      }\n    }\n\n    function on_error() {\n      console.error(\"failed to load \" + url);\n    }\n\n    for (var i = 0; i < css_urls.length; i++) {\n      var url = css_urls[i];\n      const element = document.createElement(\"link\");\n      element.onload = on_load;\n      element.onerror = on_error;\n      element.rel = \"stylesheet\";\n      element.type = \"text/css\";\n      element.href = url;\n      console.debug(\"Bokeh: injecting link tag for BokehJS stylesheet: \", url);\n      document.body.appendChild(element);\n    }\n\n    var skip = [];\n    if (window.requirejs) {\n      window.requirejs.config({'packages': {}, 'paths': {'gridstack': 'https://cdn.jsdelivr.net/npm/gridstack@4.2.5/dist/gridstack-h5', 'notyf': 'https://cdn.jsdelivr.net/npm/notyf@3/notyf.min'}, 'shim': {'gridstack': {'exports': 'GridStack'}}});\n      require([\"gridstack\"], function(GridStack) {\n\twindow.GridStack = GridStack\n\ton_load()\n      })\n      require([\"notyf\"], function() {\n\ton_load()\n      })\n      root._bokeh_is_loading = css_urls.length + 2;\n    } else {\n      root._bokeh_is_loading = css_urls.length + js_urls.length + js_modules.length;\n    }    if (((window['GridStack'] !== undefined) && (!(window['GridStack'] instanceof HTMLElement))) || window.requirejs) {\n      var urls = ['https://cdn.holoviz.org/panel/0.14.0/dist/bundled/gridstack/gridstack@4.2.5/dist/gridstack-h5.js'];\n      for (var i = 0; i < urls.length; i++) {\n        skip.push(urls[i])\n      }\n    }    if (((window['Notyf'] !== undefined) && (!(window['Notyf'] instanceof HTMLElement))) || window.requirejs) {\n      var urls = ['https://cdn.holoviz.org/panel/0.14.0/dist/bundled/notificationarea/notyf@3/notyf.min.js'];\n      for (var i = 0; i < urls.length; i++) {\n        skip.push(urls[i])\n      }\n    }    for (var i = 0; i < js_urls.length; i++) {\n      var url = js_urls[i];\n      if (skip.indexOf(url) >= 0) {\n\tif (!window.requirejs) {\n\t  on_load();\n\t}\n\tcontinue;\n      }\n      var element = document.createElement('script');\n      element.onload = on_load;\n      element.onerror = on_error;\n      element.async = false;\n      element.src = url;\n      console.debug(\"Bokeh: injecting script tag for BokehJS library: \", url);\n      document.head.appendChild(element);\n    }\n    for (var i = 0; i < js_modules.length; i++) {\n      var url = js_modules[i];\n      if (skip.indexOf(url) >= 0) {\n\tif (!window.requirejs) {\n\t  on_load();\n\t}\n\tcontinue;\n      }\n      var element = document.createElement('script');\n      element.onload = on_load;\n      element.onerror = on_error;\n      element.async = false;\n      element.src = url;\n      element.type = \"module\";\n      console.debug(\"Bokeh: injecting script tag for BokehJS library: \", url);\n      document.head.appendChild(element);\n    }\n    if (!js_urls.length && !js_modules.length) {\n      on_load()\n    }\n  };\n\n  function inject_raw_css(css) {\n    const element = document.createElement(\"style\");\n    element.appendChild(document.createTextNode(css));\n    document.body.appendChild(element);\n  }\n\n  var js_urls = [\"https://cdn.bokeh.org/bokeh/release/bokeh-2.4.3.min.js\", \"https://cdn.bokeh.org/bokeh/release/bokeh-gl-2.4.3.min.js\", \"https://cdn.bokeh.org/bokeh/release/bokeh-widgets-2.4.3.min.js\", \"https://cdn.bokeh.org/bokeh/release/bokeh-tables-2.4.3.min.js\", \"https://cdn.bokeh.org/bokeh/release/bokeh-mathjax-2.4.3.min.js\", \"https://unpkg.com/@holoviz/panel@0.14.0/dist/panel.min.js\"];\n  var js_modules = [];\n  var css_urls = [\"https://cdn.holoviz.org/panel/0.14.0/dist/css/alerts.css\", \"https://cdn.holoviz.org/panel/0.14.0/dist/css/card.css\", \"https://cdn.holoviz.org/panel/0.14.0/dist/css/dataframe.css\", \"https://cdn.holoviz.org/panel/0.14.0/dist/css/debugger.css\", \"https://cdn.holoviz.org/panel/0.14.0/dist/css/json.css\", \"https://cdn.holoviz.org/panel/0.14.0/dist/css/loading.css\", \"https://cdn.holoviz.org/panel/0.14.0/dist/css/markdown.css\", \"https://cdn.holoviz.org/panel/0.14.0/dist/css/widgets.css\"];\n  var inline_js = [    function(Bokeh) {\n      inject_raw_css(\"\\n    .bk.pn-loading.arc:before {\\n      background-image: url(\\\"data:image/svg+xml;base64,PHN2ZyB4bWxucz0iaHR0cDovL3d3dy53My5vcmcvMjAwMC9zdmciIHN0eWxlPSJtYXJnaW46IGF1dG87IGJhY2tncm91bmQ6IG5vbmU7IGRpc3BsYXk6IGJsb2NrOyBzaGFwZS1yZW5kZXJpbmc6IGF1dG87IiB2aWV3Qm94PSIwIDAgMTAwIDEwMCIgcHJlc2VydmVBc3BlY3RSYXRpbz0ieE1pZFlNaWQiPiAgPGNpcmNsZSBjeD0iNTAiIGN5PSI1MCIgZmlsbD0ibm9uZSIgc3Ryb2tlPSIjYzNjM2MzIiBzdHJva2Utd2lkdGg9IjEwIiByPSIzNSIgc3Ryb2tlLWRhc2hhcnJheT0iMTY0LjkzMzYxNDMxMzQ2NDE1IDU2Ljk3Nzg3MTQzNzgyMTM4Ij4gICAgPGFuaW1hdGVUcmFuc2Zvcm0gYXR0cmlidXRlTmFtZT0idHJhbnNmb3JtIiB0eXBlPSJyb3RhdGUiIHJlcGVhdENvdW50PSJpbmRlZmluaXRlIiBkdXI9IjFzIiB2YWx1ZXM9IjAgNTAgNTA7MzYwIDUwIDUwIiBrZXlUaW1lcz0iMDsxIj48L2FuaW1hdGVUcmFuc2Zvcm0+ICA8L2NpcmNsZT48L3N2Zz4=\\\");\\n      background-size: auto calc(min(50%, 400px));\\n    }\\n    \");\n    },    function(Bokeh) {\n      Bokeh.set_log_level(\"info\");\n    },\nfunction(Bokeh) {} // ensure no trailing comma for IE\n  ];\n\n  function run_inline_js() {\n    if ((root.Bokeh !== undefined) || (force === true)) {\n      for (var i = 0; i < inline_js.length; i++) {\n        inline_js[i].call(root, root.Bokeh);\n      }} else if (Date.now() < root._bokeh_timeout) {\n      setTimeout(run_inline_js, 100);\n    } else if (!root._bokeh_failed_load) {\n      console.log(\"Bokeh: BokehJS failed to load within specified timeout.\");\n      root._bokeh_failed_load = true;\n    }\n  }\n\n  if (root._bokeh_is_loading === 0) {\n    console.debug(\"Bokeh: BokehJS loaded, going straight to plotting\");\n    run_inline_js();\n  } else {\n    load_libs(css_urls, js_urls, js_modules, function() {\n      console.debug(\"Bokeh: BokehJS plotting callback run at\", now());\n      run_inline_js();\n    });\n  }\n}(window));",
      "application/vnd.holoviews_load.v0+json": ""
     },
     "metadata": {},
     "output_type": "display_data"
    },
    {
     "data": {
      "application/javascript": "\nif ((window.PyViz === undefined) || (window.PyViz instanceof HTMLElement)) {\n  window.PyViz = {comms: {}, comm_status:{}, kernels:{}, receivers: {}, plot_index: []}\n}\n\n\n    function JupyterCommManager() {\n    }\n\n    JupyterCommManager.prototype.register_target = function(plot_id, comm_id, msg_handler) {\n      if (window.comm_manager || ((window.Jupyter !== undefined) && (Jupyter.notebook.kernel != null))) {\n        var comm_manager = window.comm_manager || Jupyter.notebook.kernel.comm_manager;\n        comm_manager.register_target(comm_id, function(comm) {\n          comm.on_msg(msg_handler);\n        });\n      } else if ((plot_id in window.PyViz.kernels) && (window.PyViz.kernels[plot_id])) {\n        window.PyViz.kernels[plot_id].registerCommTarget(comm_id, function(comm) {\n          comm.onMsg = msg_handler;\n        });\n      } else if (typeof google != 'undefined' && google.colab.kernel != null) {\n        google.colab.kernel.comms.registerTarget(comm_id, (comm) => {\n          var messages = comm.messages[Symbol.asyncIterator]();\n          function processIteratorResult(result) {\n            var message = result.value;\n            console.log(message)\n            var content = {data: message.data, comm_id};\n            var buffers = []\n            for (var buffer of message.buffers || []) {\n              buffers.push(new DataView(buffer))\n            }\n            var metadata = message.metadata || {};\n            var msg = {content, buffers, metadata}\n            msg_handler(msg);\n            return messages.next().then(processIteratorResult);\n          }\n          return messages.next().then(processIteratorResult);\n        })\n      }\n    }\n\n    JupyterCommManager.prototype.get_client_comm = function(plot_id, comm_id, msg_handler) {\n      if (comm_id in window.PyViz.comms) {\n        return window.PyViz.comms[comm_id];\n      } else if (window.comm_manager || ((window.Jupyter !== undefined) && (Jupyter.notebook.kernel != null))) {\n        var comm_manager = window.comm_manager || Jupyter.notebook.kernel.comm_manager;\n        var comm = comm_manager.new_comm(comm_id, {}, {}, {}, comm_id);\n        if (msg_handler) {\n          comm.on_msg(msg_handler);\n        }\n      } else if ((plot_id in window.PyViz.kernels) && (window.PyViz.kernels[plot_id])) {\n        var comm = window.PyViz.kernels[plot_id].connectToComm(comm_id);\n        comm.open();\n        if (msg_handler) {\n          comm.onMsg = msg_handler;\n        }\n      } else if (typeof google != 'undefined' && google.colab.kernel != null) {\n        var comm_promise = google.colab.kernel.comms.open(comm_id)\n        comm_promise.then((comm) => {\n          window.PyViz.comms[comm_id] = comm;\n          if (msg_handler) {\n            var messages = comm.messages[Symbol.asyncIterator]();\n            function processIteratorResult(result) {\n              var message = result.value;\n              var content = {data: message.data};\n              var metadata = message.metadata || {comm_id};\n              var msg = {content, metadata}\n              msg_handler(msg);\n              return messages.next().then(processIteratorResult);\n            }\n            return messages.next().then(processIteratorResult);\n          }\n        }) \n        var sendClosure = (data, metadata, buffers, disposeOnDone) => {\n          return comm_promise.then((comm) => {\n            comm.send(data, metadata, buffers, disposeOnDone);\n          });\n        };\n        var comm = {\n          send: sendClosure\n        };\n      }\n      window.PyViz.comms[comm_id] = comm;\n      return comm;\n    }\n    window.PyViz.comm_manager = new JupyterCommManager();\n    \n\n\nvar JS_MIME_TYPE = 'application/javascript';\nvar HTML_MIME_TYPE = 'text/html';\nvar EXEC_MIME_TYPE = 'application/vnd.holoviews_exec.v0+json';\nvar CLASS_NAME = 'output';\n\n/**\n * Render data to the DOM node\n */\nfunction render(props, node) {\n  var div = document.createElement(\"div\");\n  var script = document.createElement(\"script\");\n  node.appendChild(div);\n  node.appendChild(script);\n}\n\n/**\n * Handle when a new output is added\n */\nfunction handle_add_output(event, handle) {\n  var output_area = handle.output_area;\n  var output = handle.output;\n  if ((output.data == undefined) || (!output.data.hasOwnProperty(EXEC_MIME_TYPE))) {\n    return\n  }\n  var id = output.metadata[EXEC_MIME_TYPE][\"id\"];\n  var toinsert = output_area.element.find(\".\" + CLASS_NAME.split(' ')[0]);\n  if (id !== undefined) {\n    var nchildren = toinsert.length;\n    var html_node = toinsert[nchildren-1].children[0];\n    html_node.innerHTML = output.data[HTML_MIME_TYPE];\n    var scripts = [];\n    var nodelist = html_node.querySelectorAll(\"script\");\n    for (var i in nodelist) {\n      if (nodelist.hasOwnProperty(i)) {\n        scripts.push(nodelist[i])\n      }\n    }\n\n    scripts.forEach( function (oldScript) {\n      var newScript = document.createElement(\"script\");\n      var attrs = [];\n      var nodemap = oldScript.attributes;\n      for (var j in nodemap) {\n        if (nodemap.hasOwnProperty(j)) {\n          attrs.push(nodemap[j])\n        }\n      }\n      attrs.forEach(function(attr) { newScript.setAttribute(attr.name, attr.value) });\n      newScript.appendChild(document.createTextNode(oldScript.innerHTML));\n      oldScript.parentNode.replaceChild(newScript, oldScript);\n    });\n    if (JS_MIME_TYPE in output.data) {\n      toinsert[nchildren-1].children[1].textContent = output.data[JS_MIME_TYPE];\n    }\n    output_area._hv_plot_id = id;\n    if ((window.Bokeh !== undefined) && (id in Bokeh.index)) {\n      window.PyViz.plot_index[id] = Bokeh.index[id];\n    } else {\n      window.PyViz.plot_index[id] = null;\n    }\n  } else if (output.metadata[EXEC_MIME_TYPE][\"server_id\"] !== undefined) {\n    var bk_div = document.createElement(\"div\");\n    bk_div.innerHTML = output.data[HTML_MIME_TYPE];\n    var script_attrs = bk_div.children[0].attributes;\n    for (var i = 0; i < script_attrs.length; i++) {\n      toinsert[toinsert.length - 1].childNodes[1].setAttribute(script_attrs[i].name, script_attrs[i].value);\n    }\n    // store reference to server id on output_area\n    output_area._bokeh_server_id = output.metadata[EXEC_MIME_TYPE][\"server_id\"];\n  }\n}\n\n/**\n * Handle when an output is cleared or removed\n */\nfunction handle_clear_output(event, handle) {\n  var id = handle.cell.output_area._hv_plot_id;\n  var server_id = handle.cell.output_area._bokeh_server_id;\n  if (((id === undefined) || !(id in PyViz.plot_index)) && (server_id !== undefined)) { return; }\n  var comm = window.PyViz.comm_manager.get_client_comm(\"hv-extension-comm\", \"hv-extension-comm\", function () {});\n  if (server_id !== null) {\n    comm.send({event_type: 'server_delete', 'id': server_id});\n    return;\n  } else if (comm !== null) {\n    comm.send({event_type: 'delete', 'id': id});\n  }\n  delete PyViz.plot_index[id];\n  if ((window.Bokeh !== undefined) & (id in window.Bokeh.index)) {\n    var doc = window.Bokeh.index[id].model.document\n    doc.clear();\n    const i = window.Bokeh.documents.indexOf(doc);\n    if (i > -1) {\n      window.Bokeh.documents.splice(i, 1);\n    }\n  }\n}\n\n/**\n * Handle kernel restart event\n */\nfunction handle_kernel_cleanup(event, handle) {\n  delete PyViz.comms[\"hv-extension-comm\"];\n  window.PyViz.plot_index = {}\n}\n\n/**\n * Handle update_display_data messages\n */\nfunction handle_update_output(event, handle) {\n  handle_clear_output(event, {cell: {output_area: handle.output_area}})\n  handle_add_output(event, handle)\n}\n\nfunction register_renderer(events, OutputArea) {\n  function append_mime(data, metadata, element) {\n    // create a DOM node to render to\n    var toinsert = this.create_output_subarea(\n    metadata,\n    CLASS_NAME,\n    EXEC_MIME_TYPE\n    );\n    this.keyboard_manager.register_events(toinsert);\n    // Render to node\n    var props = {data: data, metadata: metadata[EXEC_MIME_TYPE]};\n    render(props, toinsert[0]);\n    element.append(toinsert);\n    return toinsert\n  }\n\n  events.on('output_added.OutputArea', handle_add_output);\n  events.on('output_updated.OutputArea', handle_update_output);\n  events.on('clear_output.CodeCell', handle_clear_output);\n  events.on('delete.Cell', handle_clear_output);\n  events.on('kernel_ready.Kernel', handle_kernel_cleanup);\n\n  OutputArea.prototype.register_mime_type(EXEC_MIME_TYPE, append_mime, {\n    safe: true,\n    index: 0\n  });\n}\n\nif (window.Jupyter !== undefined) {\n  try {\n    var events = require('base/js/events');\n    var OutputArea = require('notebook/js/outputarea').OutputArea;\n    if (OutputArea.prototype.mime_types().indexOf(EXEC_MIME_TYPE) == -1) {\n      register_renderer(events, OutputArea);\n    }\n  } catch(err) {\n  }\n}\n",
      "application/vnd.holoviews_load.v0+json": ""
     },
     "metadata": {},
     "output_type": "display_data"
    },
    {
     "data": {
      "text/html": [
       "<style>.bk-root, .bk-root .bk:before, .bk-root .bk:after {\n",
       "  font-family: var(--jp-ui-font-size1);\n",
       "  font-size: var(--jp-ui-font-size1);\n",
       "  color: var(--jp-ui-font-color1);\n",
       "}\n",
       "</style>"
      ]
     },
     "metadata": {},
     "output_type": "display_data"
    }
   ],
   "source": [
    "from BettiMatching import *\n",
    "from evaluation import *\n",
    "\n",
    "%load_ext autoreload\n",
    "%autoreload 2\n",
    "\n",
    "%matplotlib inline"
   ]
  },
  {
   "attachments": {},
   "cell_type": "markdown",
   "metadata": {},
   "source": [
    "## 1.) Why is topology relevant for image segmentation?"
   ]
  },
  {
   "cell_type": "code",
   "execution_count": 2,
   "metadata": {},
   "outputs": [],
   "source": [
    "gt = np.array([[0,0,0,0,0,0,0,0,0,0,0,0,0,0,0,0,0,0,0,0,0,0,0,0],\n",
    "               [0,0,0,0,0,0,0,0,0,0,0,0,0,0,0,0,0,0,0,0,0,0,0,0],\n",
    "               [0,0,0,0,0,0,0,0,0,0,0,0,0,0,0,0,0,0,0,0,0,0,0,0],\n",
    "               [0,0,0,0,0,0,0,0,0,0,0,0,0,0,0,0,0,0,0,0,0,0,0,0],\n",
    "               [0,0,0,0,0,0,0,0,0,0,0,0,0,0,0,0,0,0,0,0,0,0,0,0],\n",
    "               [0,0,0,0,0,0,0,0,0,0,0,0,0,0,0,0,0,0,0,0,0,0,0,0],\n",
    "               [0,0,0,0,0,0,0,0,0,0,1,1,1,1,0,0,0,0,0,0,0,0,0,0],\n",
    "               [0,0,0,0,0,0,0,0,1,1,1,0,0,1,1,1,0,0,0,0,0,0,0,0],\n",
    "               [0,0,0,0,0,0,0,1,1,0,0,0,0,0,0,1,1,0,0,0,0,0,0,0],\n",
    "               [0,0,0,0,0,0,0,1,0,0,0,0,0,0,0,0,1,0,0,0,0,0,0,0],\n",
    "               [0,0,0,0,0,0,1,1,0,0,0,0,0,0,0,0,1,1,0,0,0,0,0,0],\n",
    "               [0,0,0,0,0,0,1,0,0,0,0,0,0,0,0,0,0,1,0,0,0,0,0,0],\n",
    "               [0,0,0,0,0,0,1,0,0,0,0,0,0,0,0,0,0,1,0,0,0,0,0,0],\n",
    "               [0,0,0,0,0,0,1,1,0,0,0,0,0,0,0,0,1,1,0,0,0,0,0,0],\n",
    "               [0,0,0,0,0,0,0,1,0,0,0,0,0,0,0,0,1,0,0,0,0,0,0,0],\n",
    "               [0,0,0,0,0,0,0,1,1,0,0,0,0,0,0,1,1,0,0,0,0,0,0,0],\n",
    "               [0,0,0,0,0,0,0,0,1,1,1,0,0,1,1,1,0,0,0,0,0,0,0,0],\n",
    "               [0,0,0,0,0,0,0,0,0,0,1,1,1,1,0,0,0,0,0,0,0,0,0,0],\n",
    "               [0,0,0,0,0,0,0,0,0,0,0,0,0,0,0,0,0,0,0,0,0,0,0,0],\n",
    "               [0,0,0,0,0,0,0,0,0,0,0,0,0,0,0,0,0,0,0,0,0,0,0,0],\n",
    "               [0,0,0,0,0,0,0,0,0,0,0,0,0,0,0,0,0,0,0,0,0,0,0,0],\n",
    "               [0,0,0,0,0,0,0,0,0,0,0,0,0,0,0,0,0,0,0,0,0,0,0,0],\n",
    "               [0,0,0,0,0,0,0,0,0,0,0,0,0,0,0,0,0,0,0,0,0,0,0,0],\n",
    "               [0,0,0,0,0,0,0,0,0,0,0,0,0,0,0,0,0,0,0,0,0,0,0,0]])\n",
    "\n",
    "p1 = np.array([[0,0,0,0,0,0,0,0,0,0,0,0,0,0,0,0,0,0,0,0,0,0,0,0],\n",
    "               [0,0,0,0,0,0,0,0,0,0,0,0,0,0,0,0,0,0,0,0,0,0,0,0],\n",
    "               [0,0,0,0,0,0,0,0,0,0,0,0,0,0,0,0,0,0,0,0,0,0,0,0],\n",
    "               [0,0,0,0,0,0,0,0,0,0,0,0,0,0,0,0,0,0,0,0,0,0,0,0],\n",
    "               [0,0,0,0,0,0,0,0,0,0,0,0,0,0,0,0,0,0,0,0,0,0,0,0],\n",
    "               [0,0,0,0,0,0,0,0,0,0,0,0,0,0,0,0,0,0,0,0,0,0,0,0],\n",
    "               [0,0,0,0,0,0,0,0,0,0,1,0,0,1,0,0,0,0,0,0,0,0,0,0],\n",
    "               [0,0,0,0,0,0,0,0,1,1,1,0,0,1,1,1,0,0,0,0,0,0,0,0],\n",
    "               [0,0,0,0,0,0,0,1,1,0,0,0,0,0,0,1,1,0,0,0,0,0,0,0],\n",
    "               [0,0,0,0,0,0,0,1,0,0,0,0,0,0,0,0,1,0,0,0,0,0,0,0],\n",
    "               [0,0,0,0,0,0,1,1,0,0,0,0,0,0,0,0,1,1,0,0,0,0,0,0],\n",
    "               [0,0,0,0,0,0,0,0,0,0,0,0,0,0,0,0,0,0,0,0,0,0,0,0],\n",
    "               [0,0,0,0,0,0,0,0,0,0,0,0,0,0,0,0,0,0,0,0,0,0,0,0],\n",
    "               [0,0,0,0,0,0,1,1,0,0,0,0,0,0,0,0,1,1,0,0,0,0,0,0],\n",
    "               [0,0,0,0,0,0,0,1,0,0,0,0,0,0,0,0,1,0,0,0,0,0,0,0],\n",
    "               [0,0,0,0,0,0,0,1,1,0,0,0,0,0,0,1,1,0,0,0,0,0,0,0],\n",
    "               [0,0,0,0,0,0,0,0,1,1,1,0,0,1,1,1,0,0,0,0,0,0,0,0],\n",
    "               [0,0,0,0,0,0,0,0,0,0,1,0,0,1,0,0,0,0,0,0,0,0,0,0],\n",
    "               [0,0,0,0,0,0,0,0,0,0,0,0,0,0,0,0,0,0,0,0,0,0,0,0],\n",
    "               [0,0,0,0,0,0,0,0,0,0,0,0,0,0,0,0,0,0,0,0,0,0,0,0],\n",
    "               [0,0,0,0,0,0,0,0,0,0,0,0,0,0,0,0,0,0,0,0,0,0,0,0],\n",
    "               [0,0,0,0,0,0,0,0,0,0,0,0,0,0,0,0,0,0,0,0,0,0,0,0],\n",
    "               [0,0,0,0,0,0,0,0,0,0,0,0,0,0,0,0,0,0,0,0,0,0,0,0],\n",
    "               [0,0,0,0,0,0,0,0,0,0,0,0,0,0,0,0,0,0,0,0,0,0,0,0]])\n",
    "\n",
    "p2 = np.array([[0,0,0,0,0,0,0,0,0,0,0,0,0,0,0,0,0,0,0,0,0,0,0,0],\n",
    "               [0,0,0,0,0,0,0,0,0,0,0,0,0,0,0,0,0,0,0,0,0,0,0,0],\n",
    "               [0,0,0,0,0,0,0,0,0,0,0,0,0,0,0,0,0,0,0,0,0,0,0,0],\n",
    "               [0,0,0,0,0,0,0,0,0,0,0,0,0,0,0,0,0,0,0,0,0,0,0,0],\n",
    "               [0,0,0,0,0,0,0,0,0,0,0,0,0,0,0,0,0,0,0,0,0,0,0,0],\n",
    "               [0,0,0,0,0,0,0,0,0,0,0,1,1,0,0,0,0,0,0,0,0,0,0,0],\n",
    "               [0,0,0,0,0,0,0,0,0,1,1,1,1,1,1,0,0,0,0,0,0,0,0,0],\n",
    "               [0,0,0,0,0,0,0,0,1,1,1,0,0,1,1,1,0,0,0,0,0,0,0,0],\n",
    "               [0,0,0,0,0,0,0,1,1,1,0,0,0,0,1,1,1,0,0,0,0,0,0,0],\n",
    "               [0,0,0,0,0,0,1,1,1,0,0,0,0,0,0,1,1,1,0,0,0,0,0,0],\n",
    "               [0,0,0,0,0,0,1,1,0,0,0,0,0,0,0,0,1,1,0,0,0,0,0,0],\n",
    "               [0,0,0,0,0,1,1,0,0,0,0,0,0,0,0,0,0,1,1,0,0,0,0,0],\n",
    "               [0,0,0,0,0,1,1,0,0,0,0,0,0,0,0,0,0,1,1,0,0,0,0,0],\n",
    "               [0,0,0,0,0,0,1,1,0,0,0,0,0,0,0,0,1,1,0,0,0,0,0,0],\n",
    "               [0,0,0,0,0,0,1,1,1,0,0,0,0,0,0,1,1,1,0,0,0,0,0,0],\n",
    "               [0,0,0,0,0,0,0,1,1,1,0,0,0,0,1,1,1,0,0,0,0,0,0,0],\n",
    "               [0,0,0,0,0,0,0,0,1,1,1,0,0,1,1,1,0,0,0,0,0,0,0,0],\n",
    "               [0,0,0,0,0,0,0,0,0,1,1,1,1,1,1,0,0,0,0,0,0,0,0,0],\n",
    "               [0,0,0,0,0,0,0,0,0,0,0,1,1,0,0,0,0,0,0,0,0,0,0,0],\n",
    "               [0,0,0,0,0,0,0,0,0,0,0,0,0,0,0,0,0,0,0,0,0,0,0,0],\n",
    "               [0,0,0,0,0,0,0,0,0,0,0,0,0,0,0,0,0,0,0,0,0,0,0,0],\n",
    "               [0,0,0,0,0,0,0,0,0,0,0,0,0,0,0,0,0,0,0,0,0,0,0,0],\n",
    "               [0,0,0,0,0,0,0,0,0,0,0,0,0,0,0,0,0,0,0,0,0,0,0,0],\n",
    "               [0,0,0,0,0,0,0,0,0,0,0,0,0,0,0,0,0,0,0,0,0,0,0,0]])\n",
    "\n",
    "m0, m1 = 4, -4\n",
    "n0, n1 = 4, -4\n",
    "\n",
    "gt = gt[m0:m1,n0:n1]\n",
    "p1 = p1[m0:m1,n0:n1]\n",
    "p2 = p2[m0:m1,n0:n1]"
   ]
  },
  {
   "cell_type": "markdown",
   "metadata": {},
   "source": [
    "Here are two possible predictions for a given ground truth segmentation:"
   ]
  },
  {
   "cell_type": "code",
   "execution_count": 3,
   "metadata": {},
   "outputs": [
    {
     "name": "stdout",
     "output_type": "stream",
     "text": [
      "Figure(1500x500)\n"
     ]
    },
    {
     "data": {
      "image/png": "[encoded data removed]",
      "text/plain": [
       "<Figure size 1500x500 with 3 Axes>"
      ]
     },
     "metadata": {},
     "output_type": "display_data"
    }
   ],
   "source": [
    "fig = plt.figure(figsize=(15,5))\n",
    "fig.add_subplot(1, 3, 1)\n",
    "plt.title('Prediction 1')\n",
    "plt.imshow(p1, cmap='gray')\n",
    "plt.axis('off')\n",
    "fig.add_subplot(1, 3, 2)\n",
    "plt.title('Ground truth')\n",
    "plt.imshow(gt, cmap='gray')\n",
    "plt.axis('off')\n",
    "fig.add_subplot(1, 3, 3)\n",
    "plt.title('Prediction 2')\n",
    "plt.imshow(p2, cmap='gray')\n",
    "plt.axis('off')\n",
    "print(fig)"
   ]
  },
  {
   "cell_type": "markdown",
   "metadata": {},
   "source": [
    "Both predictions have advantages. While Predction 1 captures the thickness of the foreground, it fails to capture its topological structure.\n",
    "\n",
    "But pixel-wise metrics are not able to depict this faithfully:"
   ]
  },
  {
   "cell_type": "code",
   "execution_count": 4,
   "metadata": {},
   "outputs": [
    {
     "name": "stdout",
     "output_type": "stream",
     "text": [
      "Dice score:\n",
      "Prediction 1: 0.900\n",
      "Prediction 2: 0.786\n",
      "\n",
      "Accuracy:\n",
      "Prediction 1: 0.969\n",
      "Prediction 2: 0.906\n"
     ]
    }
   ],
   "source": [
    "print('Dice score:')\n",
    "print('Prediction 1: %.3f' % Dice(p1, gt))\n",
    "print('Prediction 2: %.3f' % Dice(p2, gt))\n",
    "print()\n",
    "print('Accuracy:')\n",
    "print('Prediction 1: %.3f' % Accuracy(p1, gt))\n",
    "print('Prediction 2: %.3f' % Accuracy(p2, gt))\n"
   ]
  },
  {
   "cell_type": "markdown",
   "metadata": {},
   "source": [
    "A well established metric to measure the topological performance of a segmentation is given by the Betti number error:"
   ]
  },
  {
   "cell_type": "code",
   "execution_count": 5,
   "metadata": {},
   "outputs": [
    {
     "name": "stdout",
     "output_type": "stream",
     "text": [
      "Betti number error:\n",
      "num edges: 480\n",
      "num cubes: 961\n",
      "compute dim 0\n",
      "birth uf is false\n",
      "num edges: 480\n",
      "num cubes: 961\n",
      "compute dim 0\n",
      "birth uf is false\n",
      "num edges: 480\n",
      "num cubes: 961\n",
      "compute dim 0\n",
      "birth uf is false\n",
      "Prediction 1: 4\n",
      "num edges: 480\n",
      "num cubes: 961\n",
      "compute dim 0\n",
      "birth uf is false\n",
      "num edges: 480\n",
      "num cubes: 961\n",
      "compute dim 0\n",
      "birth uf is false\n",
      "num edges: 480\n",
      "num cubes: 961\n",
      "compute dim 0\n",
      "birth uf is false\n",
      "Prediction 2: 0\n"
     ]
    }
   ],
   "source": [
    "print('Betti number error:')\n",
    "print('Prediction 1:', BettiMatching(p1, gt, filtration='superlevel').Betti_number_error())\n",
    "print('Prediction 2:', BettiMatching(p2, gt, filtration='superlevel').Betti_number_error())"
   ]
  },
  {
   "cell_type": "markdown",
   "metadata": {},
   "source": [
    "In this example, it prefers the topological superior Prediction 2.\n",
    "\n",
    "But, note that there are examples of segmentations where obvious and crucial mistakes stay undetected by the Betti number error. Consider the following example..."
   ]
  },
  {
   "cell_type": "code",
   "execution_count": 6,
   "metadata": {},
   "outputs": [],
   "source": [
    "gt = np.array([[0,0,0,0,0,0,0,0,0,0,0,0,0,0,0,0,0,0,0,0,0,0,0],\n",
    "               [0,0,0,0,0,0,0,0,0,0,0,0,0,0,0,0,0,0,0,0,0,0,0],\n",
    "               [0,0,0,0,0,0,0,0,0,0,0,0,0,0,0,0,0,0,0,0,0,0,0],\n",
    "               [0,0,0,0,0,0,0,0,0,0,0,0,0,0,0,0,0,0,0,0,0,0,0],\n",
    "               [0,0,0,0,0,0,0,0,0,0,0,0,0,0,0,0,0,0,0,0,0,0,0],\n",
    "               [0,0,0,0,0,0,0,0,0,0,0,0,0,0,0,0,0,0,0,0,0,0,0],\n",
    "               [0,0,0,0,0,1,1,1,0,0,0,0,0,0,0,1,1,1,0,0,0,0,0],\n",
    "               [0,0,0,1,1,1,0,1,1,1,0,0,0,1,1,1,0,1,1,1,0,0,0],\n",
    "               [0,0,1,1,0,0,0,0,0,1,1,0,1,1,0,0,0,0,0,1,1,0,0],\n",
    "               [0,0,1,0,0,0,0,0,0,0,1,0,1,0,0,0,0,0,0,0,1,0,0],\n",
    "               [0,1,1,0,0,0,0,0,0,0,1,1,1,0,0,0,0,0,0,0,1,1,0],\n",
    "               [0,1,0,0,0,0,0,0,0,0,0,0,0,0,0,0,0,0,0,0,0,1,0],\n",
    "               [0,1,1,0,0,0,0,0,0,0,1,1,1,0,0,0,0,0,0,0,1,1,0],\n",
    "               [0,0,1,0,0,0,0,0,0,0,1,0,1,0,0,0,0,0,0,0,1,0,0],\n",
    "               [0,0,1,1,0,0,0,0,0,1,1,0,1,1,0,0,0,0,0,1,1,0,0],\n",
    "               [0,0,0,1,1,1,0,1,1,1,0,0,0,1,1,1,0,1,1,1,0,0,0],\n",
    "               [0,0,0,0,0,1,1,1,0,0,0,0,0,0,0,1,1,1,0,0,0,0,0],\n",
    "               [0,0,0,0,0,0,0,0,0,0,0,0,0,0,0,0,0,0,0,0,0,0,0],\n",
    "               [0,0,0,0,0,0,0,0,0,0,0,0,0,0,0,0,0,0,0,0,0,0,0],\n",
    "               [0,0,0,0,0,0,0,0,0,0,0,0,0,0,0,0,0,0,0,0,0,0,0],\n",
    "               [0,0,0,0,0,0,0,0,0,0,0,0,0,0,0,0,0,0,0,0,0,0,0],\n",
    "               [0,0,0,0,0,0,0,0,0,0,0,0,0,0,0,0,0,0,0,0,0,0,0],\n",
    "               [0,0,0,0,0,0,0,0,0,0,0,0,0,0,0,0,0,0,0,0,0,0,0]])\n",
    "\n",
    "p1 = np.array([[0,0,0,0,0,0,0,0,0,0,0,0,0,0,0,0,0,0,0,0,0,0,0],\n",
    "               [0,0,0,0,0,0,0,0,0,0,0,0,0,0,0,0,0,0,0,0,0,0,0],\n",
    "               [0,0,0,0,0,0,0,0,0,0,0,0,0,0,0,0,0,0,0,0,0,0,0],\n",
    "               [0,0,0,0,0,0,0,0,0,0,0,0,0,0,0,0,0,0,0,0,0,0,0],\n",
    "               [0,0,0,0,0,0,0,0,0,0,0,0,0,0,0,0,0,0,0,0,0,0,0],\n",
    "               [0,0,0,0,0,0,0,0,0,0,0,0,0,0,0,0,0,0,0,0,0,0,0],\n",
    "               [0,0,0,0,0,1,1,1,0,0,0,0,0,0,0,1,1,1,0,0,0,0,0],\n",
    "               [0,0,0,1,1,1,0,1,1,1,0,0,0,1,1,1,0,1,1,1,0,0,0],\n",
    "               [0,0,1,1,0,0,0,0,0,1,1,0,1,1,0,0,0,0,0,1,1,0,0],\n",
    "               [0,0,1,0,0,0,0,0,0,0,1,0,1,0,0,0,0,0,0,0,1,0,0],\n",
    "               [0,1,1,0,0,0,0,0,0,0,1,1,1,0,0,0,0,0,0,0,1,1,0],\n",
    "               [0,0,0,0,0,0,0,0,0,0,0,1,0,0,0,0,0,0,0,0,0,1,0],\n",
    "               [0,1,1,0,0,0,0,0,0,0,1,1,1,0,0,0,0,0,0,0,1,1,0],\n",
    "               [0,0,1,0,0,0,0,0,0,0,1,0,1,0,0,0,0,0,0,0,1,0,0],\n",
    "               [0,0,1,1,0,0,0,0,0,1,1,0,1,1,0,0,0,0,0,1,1,0,0],\n",
    "               [0,0,0,1,1,1,0,1,1,1,0,0,0,1,1,1,0,1,1,1,0,0,0],\n",
    "               [0,0,0,0,0,1,1,1,0,0,0,0,0,0,0,1,1,1,0,0,0,0,0],\n",
    "               [0,0,0,0,0,0,0,0,0,0,0,0,0,0,0,0,0,0,0,0,0,0,0],\n",
    "               [0,0,0,0,0,0,0,0,0,0,0,0,0,0,0,0,0,0,0,0,0,0,0],\n",
    "               [0,0,0,0,0,0,0,0,0,0,0,0,0,0,0,0,0,0,0,0,0,0,0],\n",
    "               [0,0,0,0,0,0,0,0,0,0,0,0,0,0,0,0,0,0,0,0,0,0,0],\n",
    "               [0,0,0,0,0,0,0,0,0,0,0,0,0,0,0,0,0,0,0,0,0,0,0],\n",
    "               [0,0,0,0,0,0,0,0,0,0,0,0,0,0,0,0,0,0,0,0,0,0,0]])\n",
    "\n",
    "p2 = np.array([[0,0,0,0,0,0,0,0,0,0,0,0,0,0,0,0,0,0,0,0,0,0,0],\n",
    "               [0,0,0,0,0,0,0,0,0,0,0,0,0,0,0,0,0,0,0,0,0,0,0],\n",
    "               [0,0,0,0,0,0,0,0,0,0,0,0,0,0,0,0,0,0,0,0,0,0,0],\n",
    "               [0,0,0,0,0,0,0,0,0,0,0,0,0,0,0,0,0,0,0,0,0,0,0],\n",
    "               [0,0,0,0,0,0,0,0,0,0,0,0,0,0,0,0,0,0,0,0,0,0,0],\n",
    "               [0,0,0,0,0,0,0,0,0,0,0,0,0,0,0,0,0,0,0,0,0,0,0],\n",
    "               [0,0,0,0,0,1,1,1,0,0,0,0,0,0,0,1,1,1,0,0,0,0,0],\n",
    "               [0,0,0,1,1,1,1,1,1,1,0,0,0,1,1,1,1,1,1,1,0,0,0],\n",
    "               [0,0,1,1,0,0,0,0,0,1,1,0,1,1,0,0,0,0,0,1,1,0,0],\n",
    "               [0,0,1,0,0,0,0,0,0,0,1,1,1,0,0,0,0,0,0,0,1,0,0],\n",
    "               [0,1,1,0,0,0,0,0,0,0,1,1,1,0,0,0,0,0,0,0,1,1,0],\n",
    "               [0,1,1,0,0,0,0,0,0,0,0,0,0,0,0,0,0,0,0,0,1,1,0],\n",
    "               [0,1,1,0,0,0,0,0,0,0,1,1,1,0,0,0,0,0,0,0,1,1,0],\n",
    "               [0,0,1,0,0,0,0,0,0,0,1,1,1,0,0,0,0,0,0,0,1,0,0],\n",
    "               [0,0,1,1,0,0,0,0,0,1,1,0,1,1,0,0,0,0,0,1,1,0,0],\n",
    "               [0,0,0,1,1,1,1,1,1,1,0,0,0,1,1,1,1,1,1,1,0,0,0],\n",
    "               [0,0,0,0,0,1,1,1,0,0,0,0,0,0,0,1,1,1,0,0,0,0,0],\n",
    "               [0,0,0,0,0,0,0,0,0,0,0,0,0,0,0,0,0,0,0,0,0,0,0],\n",
    "               [0,0,0,0,0,0,0,0,0,0,0,0,0,0,0,0,0,0,0,0,0,0,0],\n",
    "               [0,0,0,0,0,0,0,0,0,0,0,0,0,0,0,0,0,0,0,0,0,0,0],\n",
    "               [0,0,0,0,0,0,0,0,0,0,0,0,0,0,0,0,0,0,0,0,0,0,0],\n",
    "               [0,0,0,0,0,0,0,0,0,0,0,0,0,0,0,0,0,0,0,0,0,0,0],\n",
    "               [0,0,0,0,0,0,0,0,0,0,0,0,0,0,0,0,0,0,0,0,0,0,0]])\n",
    "\n",
    "m0, m1 = 5, -5\n",
    "\n",
    "gt = gt[m0:m1,:]\n",
    "p1 = p1[m0:m1,:]\n",
    "p2 = p2[m0:m1,:]"
   ]
  },
  {
   "cell_type": "code",
   "execution_count": 7,
   "metadata": {},
   "outputs": [
    {
     "name": "stdout",
     "output_type": "stream",
     "text": [
      "Figure(1500x500)\n"
     ]
    },
    {
     "data": {
      "image/png": "[encoded data removed]",
      "text/plain": [
       "<Figure size 1500x500 with 3 Axes>"
      ]
     },
     "metadata": {},
     "output_type": "display_data"
    }
   ],
   "source": [
    "fig = plt.figure(figsize=(15,5))\n",
    "fig.add_subplot(1, 3, 1)\n",
    "plt.title('Prediction 1')\n",
    "plt.imshow(p1, cmap='gray')\n",
    "plt.axis('off')\n",
    "fig.add_subplot(1, 3, 2)\n",
    "plt.title('Ground truth')\n",
    "plt.imshow(gt, cmap='gray')\n",
    "plt.axis('off')\n",
    "fig.add_subplot(1, 3, 3)\n",
    "plt.title('Prediction 2')\n",
    "plt.imshow(p2, cmap='gray')\n",
    "plt.axis('off')\n",
    "print(fig)"
   ]
  },
  {
   "cell_type": "markdown",
   "metadata": {},
   "source": [
    "The network structure of Prediction 1 is different to the one described by the ground truth, whereas Prediction 2 represents the structure accurately. Pixel-wise metrics still favor Prediction 1:"
   ]
  },
  {
   "cell_type": "code",
   "execution_count": 8,
   "metadata": {},
   "outputs": [
    {
     "name": "stdout",
     "output_type": "stream",
     "text": [
      "Dice score:\n",
      "Prediction 1: 0.987\n",
      "Prediction 2: 0.950\n",
      "\n",
      "Accuracy:\n",
      "Prediction 1: 0.993\n",
      "Prediction 2: 0.973\n"
     ]
    }
   ],
   "source": [
    "print('Dice score:')\n",
    "print('Prediction 1: %.3f' % Dice(p1, gt))\n",
    "print('Prediction 2: %.3f' % Dice(p2, gt))\n",
    "print()\n",
    "print('Accuracy:')\n",
    "print('Prediction 1: %.3f' % Accuracy(p1, gt))\n",
    "print('Prediction 2: %.3f' % Accuracy(p2, gt))\n"
   ]
  },
  {
   "cell_type": "markdown",
   "metadata": {},
   "source": [
    "Here, also the Betti number error fails to detect the mistake:"
   ]
  },
  {
   "cell_type": "code",
   "execution_count": 9,
   "metadata": {},
   "outputs": [
    {
     "name": "stdout",
     "output_type": "stream",
     "text": [
      "Betti number error:\n",
      "num edges: 562\n",
      "num cubes: 1125\n",
      "compute dim 0\n",
      "birth uf is false\n",
      "num edges: 562\n",
      "num cubes: 1125\n",
      "compute dim 0\n",
      "birth uf is false\n",
      "num edges: 562\n",
      "num cubes: 1125\n",
      "compute dim 0\n",
      "birth uf is false\n",
      "Prediction 1: 0\n",
      "num edges: 562\n",
      "num cubes: 1125\n",
      "compute dim 0\n",
      "birth uf is false\n",
      "num edges: 562\n",
      "num cubes: 1125\n",
      "compute dim 0\n",
      "birth uf is false\n",
      "num edges: 562\n",
      "num cubes: 1125\n",
      "compute dim 0\n",
      "birth uf is false\n",
      "Prediction 2: 0\n"
     ]
    }
   ],
   "source": [
    "print('Betti number error:')\n",
    "print('Prediction 1:', BettiMatching(p1, gt, filtration='superlevel').Betti_number_error())\n",
    "print('Prediction 2:', BettiMatching(p2, gt, filtration='superlevel').Betti_number_error())"
   ]
  },
  {
   "attachments": {},
   "cell_type": "markdown",
   "metadata": {},
   "source": [
    "The Betti matching error does not only compare the number of features in the respective images, but also takes their spatial correspondance into account and favors Prediction 2:"
   ]
  },
  {
   "cell_type": "code",
   "execution_count": 10,
   "metadata": {},
   "outputs": [
    {
     "name": "stdout",
     "output_type": "stream",
     "text": [
      "num edges: 562\n",
      "num cubes: 1125\n",
      "compute dim 0\n",
      "birth uf is false\n",
      "num edges: 562\n",
      "num cubes: 1125\n",
      "compute dim 0\n",
      "birth uf is false\n",
      "num edges: 562\n",
      "num cubes: 1125\n",
      "compute dim 0\n",
      "birth uf is false\n",
      "num edges: 562\n",
      "num cubes: 1125\n",
      "compute dim 0\n",
      "birth uf is false\n",
      "num edges: 562\n",
      "num cubes: 1125\n",
      "compute dim 0\n",
      "birth uf is false\n",
      "num edges: 562\n",
      "num cubes: 1125\n",
      "compute dim 0\n",
      "birth uf is false\n",
      "2.0\n",
      "0.0\n"
     ]
    }
   ],
   "source": [
    "BM1 = BettiMatching(p1,gt, filtration='superlevel')\n",
    "BM2 = BettiMatching(p2,gt, filtration='superlevel')\n",
    "print(BM1.loss())\n",
    "print(BM2.loss())"
   ]
  },
  {
   "cell_type": "markdown",
   "metadata": {},
   "source": [
    "Here is another example from the SynMNIST dataset:"
   ]
  },
  {
   "cell_type": "code",
   "execution_count": 11,
   "metadata": {},
   "outputs": [
    {
     "name": "stderr",
     "output_type": "stream",
     "text": [
      "C:\\Users\\stefk\\AppData\\Local\\Temp\\ipykernel_23052\\1186000599.py:1: DeprecationWarning: Starting with ImageIO v3 the behavior of this function will switch to that of iio.v3.imread. To keep the current behavior (and make this warning disappear) use `import imageio.v2 as imageio` or call `imageio.v2.imread` directly.\n",
      "  im = imageio.imread('./introduction_example/introduction-img.png')\n",
      "C:\\Users\\stefk\\AppData\\Local\\Temp\\ipykernel_23052\\1186000599.py:2: DeprecationWarning: Starting with ImageIO v3 the behavior of this function will switch to that of iio.v3.imread. To keep the current behavior (and make this warning disappear) use `import imageio.v2 as imageio` or call `imageio.v2.imread` directly.\n",
      "  gt = imageio.imread('./introduction_example/introduction_2-gt.png')\n",
      "C:\\Users\\stefk\\AppData\\Local\\Temp\\ipykernel_23052\\1186000599.py:3: DeprecationWarning: Starting with ImageIO v3 the behavior of this function will switch to that of iio.v3.imread. To keep the current behavior (and make this warning disappear) use `import imageio.v2 as imageio` or call `imageio.v2.imread` directly.\n",
      "  p1 = imageio.imread('./introduction_example/introduction_2-pred1.png')\n",
      "C:\\Users\\stefk\\AppData\\Local\\Temp\\ipykernel_23052\\1186000599.py:4: DeprecationWarning: Starting with ImageIO v3 the behavior of this function will switch to that of iio.v3.imread. To keep the current behavior (and make this warning disappear) use `import imageio.v2 as imageio` or call `imageio.v2.imread` directly.\n",
      "  p2 = imageio.imread('./introduction_example/introduction_2-pred2.png')\n"
     ]
    }
   ],
   "source": [
    "im = imageio.imread('./introduction_example/introduction-img.png')\n",
    "gt = imageio.imread('./introduction_example/introduction_2-gt.png')\n",
    "p1 = imageio.imread('./introduction_example/introduction_2-pred1.png')\n",
    "p2 = imageio.imread('./introduction_example/introduction_2-pred2.png')\n",
    "\n",
    "\n",
    "gt = gt/np.max(gt)\n",
    "p1 = p1/np.max(p1)\n",
    "p2 = p2/np.max(p2)"
   ]
  },
  {
   "cell_type": "code",
   "execution_count": 12,
   "metadata": {},
   "outputs": [
    {
     "name": "stdout",
     "output_type": "stream",
     "text": [
      "Figure(1500x500)\n"
     ]
    },
    {
     "data": {
      "image/png": "[encoded data removed]",
      "text/plain": [
       "<Figure size 1500x500 with 4 Axes>"
      ]
     },
     "metadata": {},
     "output_type": "display_data"
    }
   ],
   "source": [
    "fig = plt.figure(figsize=(15,5))\n",
    "fig.add_subplot(1, 4, 1)\n",
    "plt.title('Image')\n",
    "plt.imshow(im, cmap='gray')\n",
    "plt.axis('off')\n",
    "fig.add_subplot(1, 4, 2)\n",
    "plt.title('Prediction 1')\n",
    "plt.imshow(p1, cmap='gray')\n",
    "plt.axis('off')\n",
    "fig.add_subplot(1, 4, 3)\n",
    "plt.title('Ground truth')\n",
    "plt.imshow(gt, cmap='gray')\n",
    "plt.axis('off')\n",
    "fig.add_subplot(1, 4, 4)\n",
    "plt.title('Prediction 2')\n",
    "plt.imshow(p2, cmap='gray')\n",
    "plt.axis('off')\n",
    "print(fig)"
   ]
  },
  {
   "cell_type": "markdown",
   "metadata": {},
   "source": [
    "Prediction 1 is predicted by a model trained with the Wasserstein loss and Prediction 2 is predicted by a model trained with the Betti matching loss."
   ]
  },
  {
   "cell_type": "code",
   "execution_count": 13,
   "metadata": {},
   "outputs": [
    {
     "name": "stdout",
     "output_type": "stream",
     "text": [
      "Dice score:\n",
      "Prediction 1: 0.922\n",
      "Prediction 2: 0.918\n",
      "\n",
      "Accuracy:\n",
      "Prediction 1: 0.978\n",
      "Prediction 2: 0.977\n",
      "\n",
      "num edges: 4512\n",
      "num cubes: 9025\n",
      "compute dim 0\n",
      "birth uf is false\n",
      "num edges: 4512\n",
      "num cubes: 9025\n",
      "compute dim 0\n",
      "birth uf is false\n",
      "num edges: 4512\n",
      "num cubes: 9025\n",
      "compute dim 0\n",
      "birth uf is false\n",
      "num edges: 4512\n",
      "num cubes: 9025\n",
      "compute dim 0\n",
      "birth uf is false\n",
      "num edges: 4512\n",
      "num cubes: 9025\n",
      "compute dim 0\n",
      "birth uf is false\n",
      "num edges: 4512\n",
      "num cubes: 9025\n",
      "compute dim 0\n",
      "birth uf is false\n",
      "Betti number error:\n",
      "Prediction 1: 0\n",
      "Prediction 2: 0\n",
      "\n",
      "Betti matching error:\n",
      "Prediction 1: 4.0\n",
      "Prediction 2: 0.0\n"
     ]
    }
   ],
   "source": [
    "print('Dice score:')\n",
    "print('Prediction 1: %.3f' % Dice(p1, gt))\n",
    "print('Prediction 2: %.3f' % Dice(p2, gt))\n",
    "print()\n",
    "print('Accuracy:')\n",
    "print('Prediction 1: %.3f' % Accuracy(p1, gt))\n",
    "print('Prediction 2: %.3f' % Accuracy(p2, gt))\n",
    "print()\n",
    "BM1 = BettiMatching(p1,gt, filtration='superlevel')\n",
    "BM2 = BettiMatching(p2,gt, filtration='superlevel')\n",
    "print('Betti number error:')\n",
    "print('Prediction 1:', BM1.Betti_number_error())\n",
    "print('Prediction 2:', BM2.Betti_number_error())\n",
    "print()\n",
    "\n",
    "print('Betti matching error:')\n",
    "print('Prediction 1:', BM1.loss())\n",
    "print('Prediction 2:', BM2.loss())"
   ]
  },
  {
   "cell_type": "markdown",
   "metadata": {},
   "source": [
    "Betti matching can be seen as a differentiable refinement of the Betti number error, which therefore can be used as a loss function to improve the topological performance of segmentation networks."
   ]
  },
  {
   "cell_type": "markdown",
   "metadata": {},
   "source": [
    "## 2.) How to use Betti matching"
   ]
  },
  {
   "cell_type": "markdown",
   "metadata": {},
   "source": [
    "Examplary images representing a likelihood map (lh) and a ground truth segmentation (gt):"
   ]
  },
  {
   "cell_type": "code",
   "execution_count": 14,
   "metadata": {},
   "outputs": [],
   "source": [
    "from PIL import Image\n",
    "import matplotlib.pyplot as plt\n",
    "\n",
    "def frame(frame_nr, path):\n",
    "    gif = Image.open(os.path.join(os.getcwd(), path))\n",
    "    gif.seek(frame_nr)\n",
    "    frame = np.array(gif)\n",
    "\n",
    "\n",
    "# plt.imshow(frame, cmap='gray')\n",
    "\n",
    "    frame = frame[:,:,0]\n",
    "\n",
    "    classes = []\n",
    "    num_classes = 4\n",
    "    padding = 10\n",
    "\n",
    "    x_coord = padding\n",
    "    y_coord = padding\n",
    "    image_size = 154\n",
    "    for i in range(num_classes):\n",
    "        classes.append(frame[y_coord:y_coord+image_size, x_coord:x_coord+image_size])\n",
    "        x_coord = x_coord + image_size + padding\n",
    "\n",
    "    return classes\n",
    "\n",
    "# for image in classes:\n",
    "#     print(f\"image shape: {image.shape}\")\n",
    "#     plt.imshow(image, cmap='gray')\n",
    "\n",
    "#     quit()\n",
    "\n",
    "\n"
   ]
  },
  {
   "cell_type": "code",
   "execution_count": 15,
   "metadata": {},
   "outputs": [],
   "source": [
    "lh = np.array([[0.89,0.85,0.79,0.15,0.11,0.05,0.09],\n",
    "               [0.81,0.05,0.91,0.09,0.03,0.21,0.13],\n",
    "               [0.95,0.89,0.94,0.02,0.18,0.12,0.23],\n",
    "               [0.19,0.12,0.05,0.14,0.08,0.22,0.16],\n",
    "               [0.25,0.01,0.12,0.23,0.98,0.92,0.81],\n",
    "               [0.11,0.04,0.09,0.14,0.91,0.04,0.79],\n",
    "               [0.05,0.16,0.23,0.17,0.81,0.83,0.99]])\n",
    "\n",
    "gt = np.array([[   1,   1,   1,   0,   0,   0,   0],\n",
    "               [   1,   0,   1,   0,   0,   0,   0],\n",
    "               [   1,   1,   1,   0,   0,   0,   0],\n",
    "               [   0,   0,   0,   0,   0,   0,   0],\n",
    "               [   0,   0,   0,   0,   1,   1,   1],\n",
    "               [   0,   0,   0,   0,   1,   0,   1],\n",
    "               [   0,   0,   0,   0,   1,   1,   1]])\n",
    "\n",
    "\n",
    "lh = np.array([[0.8, 0.6, 0.49],[0.5, 0.1, 0.8], [0.7, 0.4, 0.9]])\n"
   ]
  },
  {
   "cell_type": "markdown",
   "metadata": {},
   "source": [
    "## CubicalPersistence class\n",
    "\n",
    "It computes the barcode of an image.\n",
    "\n",
    "input:\n",
    "- Picture = Image (numpy array / torch tensor)\n",
    "\n",
    "- relative = True / False:\n",
    "    \n",
    "    'True' adds a boundary to the image to increase topological complexity\n",
    "\n",
    "- reduced = True / False: \n",
    "    \n",
    "    'True' computes reduced homology (ignores the essential interval in dimension $0$)\n",
    "\n",
    "- filtration = 'sublevel' / 'superlevel': \n",
    "\n",
    "    uses sublevel / superlevel filtration\n",
    "\n",
    "- construction = 'V' / 'T': \n",
    "\n",
    "    uses V- / T- construction to generate the cubical complex"
   ]
  },
  {
   "cell_type": "code",
   "execution_count": 61,
   "metadata": {},
   "outputs": [
    {
     "name": "stdout",
     "output_type": "stream",
     "text": [
      "num edges: 12\n",
      "num cubes: 25\n",
      "[tensor(0.9000, dtype=torch.float64), tensor(0.9000, dtype=torch.float64), tensor(0.9000, dtype=torch.float64), tensor(0.9000, dtype=torch.float64), tensor(0.9000, dtype=torch.float64), tensor(0.9000, dtype=torch.float64), tensor(0.9000, dtype=torch.float64), tensor(0.9000, dtype=torch.float64), tensor(0.9000, dtype=torch.float64), tensor(0.9000, dtype=torch.float64), tensor(0.9000, dtype=torch.float64), tensor(0.9000, dtype=torch.float64), tensor(0.9000, dtype=torch.float64), tensor(0.9000, dtype=torch.float64), tensor(0.9000, dtype=torch.float64), tensor(0.9000, dtype=torch.float64), tensor(0.9000, dtype=torch.float64), tensor(0.9000, dtype=torch.float64), tensor(0.9000, dtype=torch.float64), tensor(0.9000, dtype=torch.float64), tensor(0.9000, dtype=torch.float64), tensor(0.9000, dtype=torch.float64), tensor(0.9000, dtype=torch.float64), tensor(0.9000, dtype=torch.float64), tensor(0.9000, dtype=torch.float64), tensor(0.9000, dtype=torch.float64), tensor(0.9000, dtype=torch.float64), tensor(0.9000, dtype=torch.float64), tensor(0.9000, dtype=torch.float64), tensor(0.9000, dtype=torch.float64), tensor(0.9000, dtype=torch.float64), tensor(0.9000, dtype=torch.float64), tensor(0.9000, dtype=torch.float64), tensor(0.9000, dtype=torch.float64), tensor(0.9000, dtype=torch.float64), tensor(0.9000, dtype=torch.float64), tensor(0.9000, dtype=torch.float64), tensor(0.9000, dtype=torch.float64), tensor(0.9000, dtype=torch.float64), tensor(0.9000, dtype=torch.float64), tensor(0.9000, dtype=torch.float64), tensor(0.9000, dtype=torch.float64), tensor(0.9000, dtype=torch.float64), tensor(0.9000, dtype=torch.float64), tensor(0.9000, dtype=torch.float64), tensor(0.9000, dtype=torch.float64), tensor(0.9000, dtype=torch.float64), tensor(0.9000, dtype=torch.float64), tensor(0.9000, dtype=torch.float64), tensor(1.7000, dtype=torch.float64), tensor(2.4000, dtype=torch.float64), tensor(2.4000, dtype=torch.float64), tensor(2.4000, dtype=torch.float64), tensor(2.4000, dtype=torch.float64), tensor(2.4000, dtype=torch.float64), tensor(2.4000, dtype=torch.float64), tensor(2.4000, dtype=torch.float64), tensor(2.4000, dtype=torch.float64), tensor(2.4000, dtype=torch.float64), tensor(2.4000, dtype=torch.float64), tensor(2.4000, dtype=torch.float64), tensor(2.4000, dtype=torch.float64), tensor(2.4000, dtype=torch.float64), tensor(2.4000, dtype=torch.float64), tensor(2.4000, dtype=torch.float64), tensor(2.4000, dtype=torch.float64), tensor(2.4000, dtype=torch.float64), tensor(2.4000, dtype=torch.float64), tensor(2.4000, dtype=torch.float64), tensor(2.4000, dtype=torch.float64), tensor(1.7000, dtype=torch.float64), tensor(1.7000, dtype=torch.float64), tensor(1.7000, dtype=torch.float64), tensor(1.7000, dtype=torch.float64), tensor(1.7000, dtype=torch.float64), tensor(1.7000, dtype=torch.float64), tensor(1.7000, dtype=torch.float64), tensor(1.7000, dtype=torch.float64), tensor(1.7000, dtype=torch.float64), tensor(1.7000, dtype=torch.float64), tensor(0.9000, dtype=torch.float64), tensor(0.9000, dtype=torch.float64), tensor(0.9000, dtype=torch.float64), tensor(0.9000, dtype=torch.float64), tensor(0.9000, dtype=torch.float64), tensor(0.9000, dtype=torch.float64), tensor(0.9000, dtype=torch.float64), tensor(0.9000, dtype=torch.float64), tensor(0.9000, dtype=torch.float64), tensor(0.9000, dtype=torch.float64), tensor(0., dtype=torch.float64), tensor(0., dtype=torch.float64), tensor(0., dtype=torch.float64), tensor(0., dtype=torch.float64), tensor(0., dtype=torch.float64), tensor(0., dtype=torch.float64), tensor(0., dtype=torch.float64), tensor(0., dtype=torch.float64), tensor(0., dtype=torch.float64), tensor(0., dtype=torch.float64)]\n"
     ]
    },
    {
     "data": {
      "image/png": "[encoded data removed]",
      "text/plain": [
       "<Figure size 480x480 with 1 Axes>"
      ]
     },
     "metadata": {},
     "output_type": "display_data"
    },
    {
     "name": "stdout",
     "output_type": "stream",
     "text": [
      "[tensor(0., dtype=torch.float64), tensor(0., dtype=torch.float64), tensor(0., dtype=torch.float64), tensor(0., dtype=torch.float64), tensor(0., dtype=torch.float64), tensor(0., dtype=torch.float64), tensor(0., dtype=torch.float64), tensor(0., dtype=torch.float64), tensor(0., dtype=torch.float64), tensor(0., dtype=torch.float64), tensor(0.4000, dtype=torch.float64), tensor(0.4000, dtype=torch.float64), tensor(0.4000, dtype=torch.float64), tensor(0.4000, dtype=torch.float64), tensor(0.4000, dtype=torch.float64), tensor(0.4000, dtype=torch.float64), tensor(0.4000, dtype=torch.float64), tensor(0.4000, dtype=torch.float64), tensor(0.4000, dtype=torch.float64), tensor(0.4000, dtype=torch.float64), tensor(0.4000, dtype=torch.float64), tensor(0.4000, dtype=torch.float64), tensor(0.4000, dtype=torch.float64), tensor(0.4000, dtype=torch.float64), tensor(0.4000, dtype=torch.float64), tensor(0.4000, dtype=torch.float64), tensor(0.4000, dtype=torch.float64), tensor(0.4000, dtype=torch.float64), tensor(0.4000, dtype=torch.float64), tensor(0.4000, dtype=torch.float64), tensor(0.4000, dtype=torch.float64), tensor(0.4000, dtype=torch.float64), tensor(0.4000, dtype=torch.float64), tensor(0.4000, dtype=torch.float64), tensor(0.4000, dtype=torch.float64), tensor(0.4000, dtype=torch.float64), tensor(0.4000, dtype=torch.float64), tensor(0.4000, dtype=torch.float64), tensor(0.4000, dtype=torch.float64), tensor(0.4000, dtype=torch.float64), tensor(0., dtype=torch.float64), tensor(0., dtype=torch.float64), tensor(0., dtype=torch.float64), tensor(0., dtype=torch.float64), tensor(0., dtype=torch.float64), tensor(0., dtype=torch.float64), tensor(0., dtype=torch.float64), tensor(0., dtype=torch.float64), tensor(0., dtype=torch.float64), tensor(0., dtype=torch.float64), tensor(0., dtype=torch.float64), tensor(0., dtype=torch.float64), tensor(0., dtype=torch.float64), tensor(0., dtype=torch.float64), tensor(0., dtype=torch.float64), tensor(0., dtype=torch.float64), tensor(0., dtype=torch.float64), tensor(0., dtype=torch.float64), tensor(0., dtype=torch.float64), tensor(0., dtype=torch.float64), tensor(0., dtype=torch.float64), tensor(0., dtype=torch.float64), tensor(0., dtype=torch.float64), tensor(0., dtype=torch.float64), tensor(0., dtype=torch.float64), tensor(0., dtype=torch.float64), tensor(0., dtype=torch.float64), tensor(0., dtype=torch.float64), tensor(0., dtype=torch.float64), tensor(0., dtype=torch.float64), tensor(0., dtype=torch.float64), tensor(0., dtype=torch.float64), tensor(0., dtype=torch.float64), tensor(0., dtype=torch.float64), tensor(0., dtype=torch.float64), tensor(0., dtype=torch.float64), tensor(0., dtype=torch.float64), tensor(0., dtype=torch.float64), tensor(0., dtype=torch.float64), tensor(0., dtype=torch.float64), tensor(0., dtype=torch.float64), tensor(0., dtype=torch.float64), tensor(0., dtype=torch.float64), tensor(0., dtype=torch.float64), tensor(0., dtype=torch.float64), tensor(0., dtype=torch.float64), tensor(0., dtype=torch.float64), tensor(0., dtype=torch.float64), tensor(0., dtype=torch.float64), tensor(0., dtype=torch.float64), tensor(0., dtype=torch.float64), tensor(0., dtype=torch.float64), tensor(0., dtype=torch.float64), tensor(0., dtype=torch.float64), tensor(0., dtype=torch.float64), tensor(0., dtype=torch.float64), tensor(0., dtype=torch.float64), tensor(0., dtype=torch.float64), tensor(0., dtype=torch.float64), tensor(0., dtype=torch.float64)]\n"
     ]
    },
    {
     "data": {
      "image/png": "[encoded data removed]",
      "text/plain": [
       "<Figure size 480x480 with 1 Axes>"
      ]
     },
     "metadata": {},
     "output_type": "display_data"
    }
   ],
   "source": [
    "CLASS_INDEX = 3\n",
    "classes = frame(18, '../../results/gif_over_timesteps_7.gif')\n",
    "segmentation = torch.from_numpy(classes[CLASS_INDEX] / 256)\n",
    "CP = CubicalPersistence(lh, relative=False, reduced=False, filtration='superlevel', construction='V', birth_UF=True)\n",
    "\n",
    "CP.plot_sum_active_intervals(dim=0, points=100)\n",
    "CP.plot_sum_active_intervals(dim=1, points=100)"
   ]
  },
  {
   "cell_type": "code",
   "execution_count": 17,
   "metadata": {},
   "outputs": [
    {
     "data": {
      "image/png": "[encoded data removed]",
      "text/plain": [
       "<Figure size 480x480 with 1 Axes>"
      ]
     },
     "metadata": {},
     "output_type": "display_data"
    }
   ],
   "source": [
    "CP.BarCode()"
   ]
  },
  {
   "cell_type": "code",
   "execution_count": 49,
   "metadata": {},
   "outputs": [
    {
     "data": {
      "image/png": "[encoded data removed]",
      "text/plain": [
       "<Figure size 480x480 with 1 Axes>"
      ]
     },
     "metadata": {},
     "output_type": "display_data"
    }
   ],
   "source": [
    "CP.plot_merging_points(dim=0, interval_to_merge=0, num_bins=20)"
   ]
  },
  {
   "cell_type": "code",
   "execution_count": 19,
   "metadata": {},
   "outputs": [
    {
     "name": "stdout",
     "output_type": "stream",
     "text": [
      "gap: 0.010000000000000009 ranging from 0.49 to 0.5\n"
     ]
    }
   ],
   "source": [
    "CP.get_non_merging_intervals(0, 0, num_gaps=10)"
   ]
  },
  {
   "cell_type": "code",
   "execution_count": 20,
   "metadata": {},
   "outputs": [
    {
     "name": "stdout",
     "output_type": "stream",
     "text": [
      "num bins: 20\n",
      "[0.49  0.495 0.5  ]\n",
      "[1 1]\n",
      "[False, False]\n",
      "valleys length: 2\n",
      "candidates: []\n",
      "sorted candidates: []\n",
      "[(1, (0.49, 0.495)), (1, (0.495, 0.5))]\n"
     ]
    }
   ],
   "source": [
    "sums, ranges = CP.merging_point_bins(0, 0, 20)\n",
    "\n",
    "print(ranges)\n",
    "\n",
    "merged = [(sums[i], (ranges[i], ranges[i+1])) for i in range(sums.shape[0])]\n",
    "def sorting_fn(x):\n",
    "    return x[0]\n",
    "\n",
    "print(sums)\n",
    "valleys = [sums[i-1] > sums[i] and sums[i+1] > sums[i] for i in range(1, sums.shape[0] - 1)]\n",
    "valleys.insert(0, False)\n",
    "valleys.append(False)\n",
    "print(valleys)\n",
    "print(f\"valleys length: {len(valleys)}\")\n",
    "\n",
    "candidates = [merged[i] for i in range(len(valleys)) if valleys[i]]\n",
    "\n",
    "print(f\"candidates: {candidates}\")\n",
    "print(f\"sorted candidates: {sorted(candidates, key=sorting_fn)}\")\n",
    "\n",
    "merged_sorted = sorted(merged, key=sorting_fn)\n",
    "\n",
    "print(merged_sorted)\n"
   ]
  },
  {
   "cell_type": "code",
   "execution_count": 21,
   "metadata": {},
   "outputs": [
    {
     "data": {
      "image/png": "[encoded data removed]",
      "text/plain": [
       "<Figure size 480x480 with 1 Axes>"
      ]
     },
     "metadata": {},
     "output_type": "display_data"
    },
    {
     "data": {
      "image/png": "[encoded data removed]",
      "text/plain": [
       "<Figure size 640x480 with 1 Axes>"
      ]
     },
     "metadata": {},
     "output_type": "display_data"
    },
    {
     "data": {
      "text/plain": [
       "array([0.64803828, 0.28976923])"
      ]
     },
     "execution_count": 21,
     "metadata": {},
     "output_type": "execute_result"
    }
   ],
   "source": [
    "CP.merging_points_analysis(dim=0, interval_to_merge=0, num_bins=50, degree=5, plot=True)"
   ]
  },
  {
   "cell_type": "code",
   "execution_count": 43,
   "metadata": {},
   "outputs": [
    {
     "name": "stdout",
     "output_type": "stream",
     "text": [
      "x: 2 for 2\n",
      "x: 2 for 5\n",
      "x: 2 for 7\n",
      "x: 0 for 1\n",
      "x: 2 for 4\n",
      "x: 0 for 0\n"
     ]
    },
    {
     "data": {
      "image/png": "[encoded data removed]",
      "text/plain": [
       "<Figure size 480x480 with 1 Axes>"
      ]
     },
     "metadata": {},
     "output_type": "display_data"
    }
   ],
   "source": [
    "CP.plot_component_at_threshold(dim=0, threshold=0.5, component_idx=2)"
   ]
  },
  {
   "cell_type": "code",
   "execution_count": 50,
   "metadata": {},
   "outputs": [
    {
     "name": "stdout",
     "output_type": "stream",
     "text": [
      "(0, inf)\n",
      "pixel_index map: tensor([[26995, 17981, 26994,  ..., 54517, 54516, 39633],\n",
      "        [26972, 26971, 39632,  ..., 17939, 12037, 39611],\n",
      "        [39610,  6230, 39609,  ..., 80511, 26916,  8444],\n",
      "        ...,\n",
      "        [ 9532, 14843,  6730,  ..., 86912, 14817, 23522],\n",
      "        [ 9515, 52076, 67420,  ...,  9498, 23498, 79636],\n",
      "        [14803, 23497,  9497,  ..., 36461, 36460, 67389]], dtype=torch.int32)\n",
      "_map: tensor([[0.0938, 0.0977, 0.0938,  ..., 0.0859, 0.0859, 0.0898],\n",
      "        [0.0938, 0.0938, 0.0898,  ..., 0.0977, 0.1016, 0.0898],\n",
      "        [0.0898, 0.1094, 0.0898,  ..., 0.0781, 0.0938, 0.1055],\n",
      "        ...,\n",
      "        [0.1016, 0.0977, 0.1055,  ..., 0.0742, 0.0977, 0.0938],\n",
      "        [0.1016, 0.0859, 0.0820,  ..., 0.1016, 0.0938, 0.0781],\n",
      "        [0.0977, 0.0938, 0.1016,  ..., 0.0898, 0.0898, 0.0820]],\n",
      "       dtype=torch.float64)\n"
     ]
    }
   ],
   "source": [
    "interval = CP.important_components(dim=0, num_intervals=1)[0]\n",
    "print(interval)\n",
    "comp_map = CP.component_map(0.6, 0, 0.1)\n",
    "\n",
    "\n",
    "print(f\"_map: {comp_map}\")"
   ]
  },
  {
   "cell_type": "code",
   "execution_count": 51,
   "metadata": {},
   "outputs": [
    {
     "name": "stdout",
     "output_type": "stream",
     "text": [
      "shape comp map: torch.Size([154, 154])\n"
     ]
    },
    {
     "data": {
      "text/plain": [
       "<matplotlib.image.AxesImage at 0x2a7f4e49240>"
      ]
     },
     "execution_count": 51,
     "metadata": {},
     "output_type": "execute_result"
    },
    {
     "data": {
      "image/png": "[encoded data removed]",
      "text/plain": [
       "<Figure size 640x480 with 1 Axes>"
      ]
     },
     "metadata": {},
     "output_type": "display_data"
    }
   ],
   "source": [
    "import matplotlib.pyplot as plt\n",
    "\n",
    "print(f\"shape comp map: {comp_map.shape}\")\n",
    "plt.imshow(comp_map, cmap='gray')\n"
   ]
  },
  {
   "cell_type": "code",
   "execution_count": 221,
   "metadata": {},
   "outputs": [
    {
     "name": "stdout",
     "output_type": "stream",
     "text": [
      "num components: 2\n",
      "num bins: 20\n",
      "thresholds: [-0.35704008+0.j]\n",
      "type threshold candidates: <class 'numpy.ndarray'>\n",
      "type death value: <class 'float'>\n",
      "type birth value: <class 'float'>\n",
      "num bins: 20\n",
      "thresholds: []\n",
      "type threshold candidates: <class 'numpy.ndarray'>\n",
      "type death value: <class 'numpy.float64'>\n",
      "type birth value: <class 'float'>\n"
     ]
    },
    {
     "name": "stderr",
     "output_type": "stream",
     "text": [
      "c:\\Users\\stefk\\OneDrive\\Dokumente\\Informatik\\MT\\master_thesis\\src\\betti\\BettiMatching.py:827: RankWarning: Polyfit may be poorly conditioned\n",
      "  params:\n"
     ]
    },
    {
     "data": {
      "text/plain": [
       "[((0, inf), -inf), ((2, 12), 0.49)]"
      ]
     },
     "execution_count": 221,
     "metadata": {},
     "output_type": "execute_result"
    }
   ],
   "source": [
    "CP.threshold_analysis_dim0_components(2, 20, 5, 0.2)"
   ]
  },
  {
   "cell_type": "markdown",
   "metadata": {},
   "source": [
    "### Test PseudoGTGenerator"
   ]
  },
  {
   "cell_type": "markdown",
   "metadata": {},
   "source": [
    "First import the necessary classes and functions:"
   ]
  },
  {
   "cell_type": "code",
   "execution_count": 60,
   "metadata": {},
   "outputs": [
    {
     "ename": "ModuleNotFoundError",
     "evalue": "No module named 'src'",
     "output_type": "error",
     "traceback": [
      "\u001b[1;31m---------------------------------------------------------------------------\u001b[0m",
      "\u001b[1;31mModuleNotFoundError\u001b[0m                       Traceback (most recent call last)",
      "Cell \u001b[1;32mIn [60], line 1\u001b[0m\n\u001b[1;32m----> 1\u001b[0m \u001b[38;5;28;01mfrom\u001b[39;00m \u001b[38;5;21;01msrc\u001b[39;00m\u001b[38;5;21;01m.\u001b[39;00m\u001b[38;5;21;01mguidance\u001b[39;00m\u001b[38;5;21;01m.\u001b[39;00m\u001b[38;5;21;01mloss_guidance\u001b[39;00m \u001b[38;5;28;01mimport\u001b[39;00m PseudoGTGeneratorBase\n",
      "\u001b[1;31mModuleNotFoundError\u001b[0m: No module named 'src'"
     ]
    }
   ],
   "source": [
    "from guidance.pgt import PseudoGTGeneratorBase"
   ]
  },
  {
   "cell_type": "markdown",
   "metadata": {},
   "source": [
    "### IndexMap\n",
    "The IndexMap inside the CubicalPersistence class describes the indices of the cells in the cubical complex obtained from the image:"
   ]
  },
  {
   "cell_type": "code",
   "execution_count": 30,
   "metadata": {},
   "outputs": [
    {
     "data": {
      "text/plain": [
       "array([[ 2,  6,  5, 12, 10],\n",
       "       [ 9, 24, 20, 23, 11],\n",
       "       [ 7, 19, 16, 17,  1],\n",
       "       [ 8, 22, 18, 21,  3],\n",
       "       [ 4, 15, 13, 14,  0]])"
      ]
     },
     "execution_count": 30,
     "metadata": {},
     "output_type": "execute_result"
    }
   ],
   "source": [
    "CP.IndexMap"
   ]
  },
  {
   "cell_type": "code",
   "execution_count": 31,
   "metadata": {},
   "outputs": [
    {
     "data": {
      "text/plain": [
       "2"
      ]
     },
     "execution_count": 31,
     "metadata": {},
     "output_type": "execute_result"
    }
   ],
   "source": [
    "CP.uf_0.get_parent(4)"
   ]
  },
  {
   "cell_type": "code",
   "execution_count": 32,
   "metadata": {},
   "outputs": [
    {
     "data": {
      "text/plain": [
       "[0, 1, 2, 4, 5, 7, 10, 13, 16]"
      ]
     },
     "execution_count": 32,
     "metadata": {},
     "output_type": "execute_result"
    }
   ],
   "source": [
    "CP.uf_0.get_component(7)"
   ]
  },
  {
   "cell_type": "code",
   "execution_count": 33,
   "metadata": {},
   "outputs": [
    {
     "data": {
      "text/plain": [
       "0"
      ]
     },
     "execution_count": 33,
     "metadata": {},
     "output_type": "execute_result"
    }
   ],
   "source": [
    "CP.uf_0.get_birth(16)"
   ]
  },
  {
   "cell_type": "code",
   "execution_count": 34,
   "metadata": {},
   "outputs": [
    {
     "data": {
      "text/plain": [
       "[1, 0, 0, 0, 2, 1, 0, 0, 0, 0, 0, 0, 0, 0, 0, 0, 0, 0, 0, 0, 0, 0, 0, 0, 0]"
      ]
     },
     "execution_count": 34,
     "metadata": {},
     "output_type": "execute_result"
    }
   ],
   "source": [
    "CP.uf_0.rank"
   ]
  },
  {
   "cell_type": "code",
   "execution_count": 34,
   "metadata": {},
   "outputs": [
    {
     "data": {
      "text/plain": [
       "array([[0.8 , 0.6 , 0.6 , 0.49, 0.49],\n",
       "       [0.5 , 0.1 , 0.1 , 0.1 , 0.49],\n",
       "       [0.5 , 0.1 , 0.1 , 0.1 , 0.8 ],\n",
       "       [0.5 , 0.1 , 0.1 , 0.1 , 0.8 ],\n",
       "       [0.7 , 0.4 , 0.4 , 0.4 , 0.9 ]])"
      ]
     },
     "execution_count": 34,
     "metadata": {},
     "output_type": "execute_result"
    }
   ],
   "source": [
    "CP.ValueMap"
   ]
  },
  {
   "cell_type": "code",
   "execution_count": 68,
   "metadata": {},
   "outputs": [
    {
     "data": {
      "text/plain": [
       "0"
      ]
     },
     "execution_count": 68,
     "metadata": {},
     "output_type": "execute_result"
    }
   ],
   "source": [
    "CP.uf_0.find_assigned_comp_at_thr(1, 0.2)"
   ]
  },
  {
   "cell_type": "markdown",
   "metadata": {},
   "source": [
    "### CupbicalPersistence allows to:\n",
    "\n",
    "- plot the image:"
   ]
  },
  {
   "cell_type": "code",
   "execution_count": 73,
   "metadata": {},
   "outputs": [
    {
     "data": {
      "image/png": "[encoded data removed]",
      "text/plain": [
       "<Figure size 400x400 with 1 Axes>"
      ]
     },
     "metadata": {},
     "output_type": "display_data"
    }
   ],
   "source": [
    "CP.plot_image()"
   ]
  },
  {
   "cell_type": "markdown",
   "metadata": {},
   "source": [
    "- get the persistent intervals:\n",
    "\n",
    "    input:\n",
    "    - refined = True / False: \n",
    "    \n",
    "        True outputs refined persistent intervals \n",
    "\n",
    "    output: \n",
    "    - list of length 2: \n",
    "    \n",
    "        $[\\text{list of intervals in dimension }0, \\text{list of intervals in dimension }1]$"
   ]
  },
  {
   "cell_type": "code",
   "execution_count": 58,
   "metadata": {},
   "outputs": [
    {
     "data": {
      "text/plain": [
       "[(0, inf), (83, 1451), (82, 1377)]"
      ]
     },
     "execution_count": 58,
     "metadata": {},
     "output_type": "execute_result"
    }
   ],
   "source": [
    "CP.important_components(dim=0, num_intervals=3, refined=True)\n"
   ]
  },
  {
   "cell_type": "markdown",
   "metadata": {},
   "source": [
    "- get the Betti numbers:\n",
    "\n",
    "    input:\n",
    "    - threshold = $t \\in \\mathbb{R}$: \n",
    "    \n",
    "        compute the Betti numbers of the cubical complex consisting of all cells with values $\\leq t$ (sublevel filtration) / $\\geq t$ (superlevel filtration)\n",
    "\n",
    "    output:\n",
    "    - list of length 2: \n",
    "    \n",
    "        $[0\\text{th Betti number}, 1\\text{st Betti number}]$"
   ]
  },
  {
   "cell_type": "code",
   "execution_count": 15,
   "metadata": {},
   "outputs": [
    {
     "data": {
      "text/plain": [
       "[2, 0]"
      ]
     },
     "execution_count": 15,
     "metadata": {},
     "output_type": "execute_result"
    }
   ],
   "source": [
    "CP.get_Betti_numbers(threshold=0.5)"
   ]
  },
  {
   "cell_type": "markdown",
   "metadata": {},
   "source": [
    "- plot the persistence barcode of the image:"
   ]
  },
  {
   "cell_type": "code",
   "execution_count": 82,
   "metadata": {},
   "outputs": [
    {
     "data": {
      "image/png": "[encoded data removed]",
      "text/plain": [
       "<Figure size 480x480 with 1 Axes>"
      ]
     },
     "metadata": {},
     "output_type": "display_data"
    }
   ],
   "source": [
    "CP.BarCode()"
   ]
  },
  {
   "cell_type": "code",
   "execution_count": 85,
   "metadata": {},
   "outputs": [
    {
     "data": {
      "image/png": "[encoded data removed]",
      "text/plain": [
       "<Figure size 480x480 with 1 Axes>"
      ]
     },
     "metadata": {},
     "output_type": "display_data"
    }
   ],
   "source": [
    "CP.plot_birth_values(0)"
   ]
  },
  {
   "cell_type": "markdown",
   "metadata": {},
   "source": [
    "- plot the representative cycles of intervals inside the image:\n",
    "\n",
    "    input:\n",
    "    - dim = $d$ $\\in \\{0,1\\}$: \n",
    "    \n",
    "        plot representative cycles of intervals in dimension $d$\n",
    "\n",
    "    - intervals = $n \\in \\{1,...,6\\}$ / $[n_1,...,n_k]$ (list of nonnegative integers of length at most 6): \n",
    "    \n",
    "        plots the representative cycles of $n$ random intervals / the intervals $n_1,...,n_k$\n",
    "\n",
    "    - threshold = $t \\in \\mathbb{R}$: \n",
    "    \n",
    "        plots the pixels of representative cycles with values $\\leq t$ (sublevel filtration) / $\\geq t$ (superlevel filtration)\n",
    "\n",
    "    - plot_birth_and_death = True / False: \n",
    "    \n",
    "        True marks the critical pixels that create and kill the interval (birth: green star, death: red cross)\n"
   ]
  },
  {
   "cell_type": "code",
   "execution_count": 80,
   "metadata": {},
   "outputs": [
    {
     "name": "stdout",
     "output_type": "stream",
     "text": [
      "enumerated intervals: [(0, (0.4, 0.1))]\n",
      "enumerated intervals: [(0, (0.4, 0.1))]\n",
      "edge: 15\n",
      "get component for 23\n",
      "cycle length: 8\n",
      "birth dict: {24: 1}\n",
      "non zero elements in CycleMap: 8\n",
      "non zero elements in CycleMap_masked: 8\n"
     ]
    },
    {
     "data": {
      "image/png": "[encoded data removed]",
      "text/plain": [
       "<Figure size 600x600 with 1 Axes>"
      ]
     },
     "execution_count": 80,
     "metadata": {},
     "output_type": "execute_result"
    }
   ],
   "source": [
    "CP.plot_representative_cycles(dim=1, intervals=2, threshold=0.4, plot_birth_and_death=False)"
   ]
  },
  {
   "cell_type": "code",
   "execution_count": 70,
   "metadata": {},
   "outputs": [
    {
     "data": {
      "text/plain": [
       "array([[0.8, 0.6, 0.5],\n",
       "       [0.5, 0.1, 0.8],\n",
       "       [0.7, 0.4, 0.9]])"
      ]
     },
     "execution_count": 70,
     "metadata": {},
     "output_type": "execute_result"
    }
   ],
   "source": [
    "CP.PixelMap"
   ]
  },
  {
   "cell_type": "code",
   "execution_count": 18,
   "metadata": {},
   "outputs": [
    {
     "ename": "IndexError",
     "evalue": "list index out of range",
     "output_type": "error",
     "traceback": [
      "\u001b[1;31m---------------------------------------------------------------------------\u001b[0m",
      "\u001b[1;31mIndexError\u001b[0m                                Traceback (most recent call last)",
      "Cell \u001b[1;32mIn [18], line 1\u001b[0m\n\u001b[1;32m----> 1\u001b[0m \u001b[43mCP\u001b[49m\u001b[38;5;241;43m.\u001b[39;49m\u001b[43mplot_representative_cycles\u001b[49m\u001b[43m(\u001b[49m\u001b[43mdim\u001b[49m\u001b[38;5;241;43m=\u001b[39;49m\u001b[38;5;241;43m1\u001b[39;49m\u001b[43m,\u001b[49m\u001b[43m \u001b[49m\u001b[43mintervals\u001b[49m\u001b[38;5;241;43m=\u001b[39;49m\u001b[43m[\u001b[49m\u001b[38;5;241;43m1\u001b[39;49m\u001b[43m,\u001b[49m\u001b[38;5;241;43m3\u001b[39;49m\u001b[43m]\u001b[49m\u001b[43m,\u001b[49m\u001b[43m \u001b[49m\u001b[43mthreshold\u001b[49m\u001b[38;5;241;43m=\u001b[39;49m\u001b[38;5;241;43m0.5\u001b[39;49m\u001b[43m,\u001b[49m\u001b[43m \u001b[49m\u001b[43mplot_birth_and_death\u001b[49m\u001b[38;5;241;43m=\u001b[39;49m\u001b[38;5;28;43;01mTrue\u001b[39;49;00m\u001b[43m)\u001b[49m\n",
      "File \u001b[1;32mc:\\Users\\stefk\\OneDrive\\Dokumente\\Informatik\\MT\\master_thesis\\src\\betti\\BettiMatching.py:893\u001b[0m, in \u001b[0;36mCubicalPersistence.plot_representative_cycles\u001b[1;34m(self, dim, intervals, threshold, plot_birth_and_death, app)\u001b[0m\n\u001b[0;32m    890\u001b[0m     CycleMap, births, deaths \u001b[38;5;241m=\u001b[39m \u001b[38;5;28mself\u001b[39m\u001b[38;5;241m.\u001b[39mget_CycleMap_dim_0(birth_dic, death_vertices, threshold\u001b[38;5;241m=\u001b[39mthreshold, app\u001b[38;5;241m=\u001b[39mapp)\n\u001b[0;32m    892\u001b[0m \u001b[38;5;28;01melif\u001b[39;00m dim \u001b[38;5;241m==\u001b[39m \u001b[38;5;241m1\u001b[39m:\n\u001b[1;32m--> 893\u001b[0m     birth_dic, death_dic, colormap \u001b[38;5;241m=\u001b[39m \u001b[38;5;28;43mself\u001b[39;49m\u001b[38;5;241;43m.\u001b[39;49m\u001b[43mget_birth_dic_dim_1\u001b[49m\u001b[43m(\u001b[49m\u001b[43mintervals\u001b[49m\u001b[38;5;241;43m=\u001b[39;49m\u001b[43mintervals\u001b[49m\u001b[43m,\u001b[49m\u001b[43m \u001b[49m\u001b[43mthreshold\u001b[49m\u001b[38;5;241;43m=\u001b[39;49m\u001b[43mthreshold\u001b[49m\u001b[43m,\u001b[49m\u001b[43m \u001b[49m\u001b[43mapp\u001b[49m\u001b[38;5;241;43m=\u001b[39;49m\u001b[43mapp\u001b[49m\u001b[43m)\u001b[49m\n\u001b[0;32m    894\u001b[0m     CycleMap, births, deaths \u001b[38;5;241m=\u001b[39m \u001b[38;5;28mself\u001b[39m\u001b[38;5;241m.\u001b[39mget_CycleMap_dim_1(birth_dic, death_dic)\n\u001b[0;32m    896\u001b[0m \u001b[38;5;28mprint\u001b[39m(\u001b[38;5;124mf\u001b[39m\u001b[38;5;124m\"\u001b[39m\u001b[38;5;124mbirth dict: \u001b[39m\u001b[38;5;132;01m{\u001b[39;00mbirth_dic\u001b[38;5;132;01m}\u001b[39;00m\u001b[38;5;124m\"\u001b[39m)\n",
      "File \u001b[1;32mc:\\Users\\stefk\\OneDrive\\Dokumente\\Informatik\\MT\\master_thesis\\src\\betti\\BettiMatching.py:806\u001b[0m, in \u001b[0;36mCubicalPersistence.get_birth_dic_dim_1\u001b[1;34m(self, intervals, threshold, app)\u001b[0m\n\u001b[0;32m    804\u001b[0m     death_dic[i] \u001b[38;5;241m=\u001b[39m j         \n\u001b[0;32m    805\u001b[0m \u001b[38;5;28;01melse\u001b[39;00m:\n\u001b[1;32m--> 806\u001b[0m     \u001b[38;5;28;01mfor\u001b[39;00m (i,j) \u001b[38;5;129;01min\u001b[39;00m \u001b[43mitemgetter\u001b[49m\u001b[43m(\u001b[49m\u001b[38;5;241;43m*\u001b[39;49m\u001b[43mintervals\u001b[49m\u001b[43m)\u001b[49m\u001b[43m(\u001b[49m\u001b[38;5;28;43mself\u001b[39;49m\u001b[38;5;241;43m.\u001b[39;49m\u001b[43mintervals\u001b[49m\u001b[43m[\u001b[49m\u001b[38;5;241;43m1\u001b[39;49m\u001b[43m]\u001b[49m\u001b[43m)\u001b[49m:\n\u001b[0;32m    807\u001b[0m         birth_dic[j] \u001b[38;5;241m=\u001b[39m counter\n\u001b[0;32m    808\u001b[0m         death_dic[i] \u001b[38;5;241m=\u001b[39m j         \n",
      "\u001b[1;31mIndexError\u001b[0m: list index out of range"
     ]
    }
   ],
   "source": [
    "CP.plot_representative_cycles(dim=0, intervals=[1,3], threshold=0.5, plot_birth_and_death=True)"
   ]
  },
  {
   "cell_type": "markdown",
   "metadata": {},
   "source": [
    "- produce an interactive plot of the representative cycles of intervals inside the image:\n",
    "    \n",
    "    input:\n",
    "    - dim = $d \\in \\{0,1\\}$: \n",
    "    \n",
    "        plot representative cycles in dimension $d$\n",
    "\n",
    "    - plot_birth_and_death = True / False: \n",
    "    \n",
    "        True marks the critical pixels that create and kill the interval (birth: green star, death: red cross)\n",
    "\n",
    "    The slider \"interval\" allows to choose a interval and see its corresponding representative cycle.\n",
    "\n",
    "    The slider \"threshold\" allows to adapt the threshold value $t$, so that pixels with a value $\\leq t$ (sublevel filtration) / $\\geq t$ (superlevel filtration) are ploted.\n",
    "\n",
    "    Cycles are colored in green if the interval represented by the cycle contains the threshold $t$. In other words: The cycle is green if it is alive and red if it is dead at threshold $t$."
   ]
  },
  {
   "cell_type": "code",
   "execution_count": 19,
   "metadata": {},
   "outputs": [
    {
     "name": "stdout",
     "output_type": "stream",
     "text": [
      "a: 0.9, b: -inf\n",
      "birth dict: {0: 1}\n",
      "non zero elements in CycleMap: 2\n",
      "non zero elements in CycleMap_masked: 2\n"
     ]
    },
    {
     "data": {
      "application/vnd.jupyter.widget-view+json": {
       "model_id": "b1e5ca4da6e64a238763140816dc2fc3",
       "version_major": 2,
       "version_minor": 0
      },
      "text/plain": [
       "BokehModel(combine_events=True, render_bundle={'docs_json': {'18e2ef64-299c-45f4-9702-514008a60669': {'defs': …"
      ]
     },
     "execution_count": 19,
     "metadata": {},
     "output_type": "execute_result"
    },
    {
     "name": "stdout",
     "output_type": "stream",
     "text": [
      "a: 0.9, b: -inf\n",
      "birth dict: {0: 1}\n",
      "non zero elements in CycleMap: 2\n",
      "non zero elements in CycleMap_masked: 2\n",
      "a: 0.9, b: -inf\n",
      "birth dict: {0: 1}\n",
      "non zero elements in CycleMap: 7\n",
      "non zero elements in CycleMap_masked: 7\n",
      "a: 0.9, b: -inf\n",
      "birth dict: {0: 1}\n",
      "non zero elements in CycleMap: 7\n",
      "non zero elements in CycleMap_masked: 7\n",
      "a: 0.9, b: -inf\n",
      "birth dict: {0: 1}\n",
      "non zero elements in CycleMap: 7\n",
      "non zero elements in CycleMap_masked: 7\n",
      "a: 0.9, b: -inf\n",
      "birth dict: {0: 1}\n",
      "non zero elements in CycleMap: 7\n",
      "non zero elements in CycleMap_masked: 7\n",
      "a: 0.9, b: -inf\n",
      "birth dict: {0: 1}\n",
      "non zero elements in CycleMap: 7\n",
      "non zero elements in CycleMap_masked: 7\n",
      "a: 0.9, b: -inf\n",
      "birth dict: {0: 1}\n",
      "non zero elements in CycleMap: 7\n",
      "non zero elements in CycleMap_masked: 7\n",
      "a: 0.9, b: -inf\n",
      "birth dict: {0: 1}\n",
      "non zero elements in CycleMap: 7\n",
      "non zero elements in CycleMap_masked: 7\n",
      "a: 0.9, b: -inf\n",
      "birth dict: {0: 1}\n",
      "non zero elements in CycleMap: 7\n",
      "non zero elements in CycleMap_masked: 7\n",
      "a: 0.9, b: -inf\n",
      "birth dict: {0: 1}\n",
      "non zero elements in CycleMap: 7\n",
      "non zero elements in CycleMap_masked: 7\n",
      "a: 0.9, b: -inf\n",
      "birth dict: {0: 1}\n",
      "non zero elements in CycleMap: 7\n",
      "non zero elements in CycleMap_masked: 7\n",
      "a: 0.9, b: -inf\n",
      "birth dict: {0: 1}\n",
      "non zero elements in CycleMap: 7\n",
      "non zero elements in CycleMap_masked: 7\n",
      "a: 0.9, b: -inf\n",
      "birth dict: {0: 1}\n",
      "non zero elements in CycleMap: 7\n",
      "non zero elements in CycleMap_masked: 7\n",
      "a: 0.9, b: -inf\n",
      "birth dict: {0: 1}\n",
      "non zero elements in CycleMap: 7\n",
      "non zero elements in CycleMap_masked: 7\n",
      "a: 0.9, b: -inf\n",
      "birth dict: {0: 1}\n",
      "non zero elements in CycleMap: 7\n",
      "non zero elements in CycleMap_masked: 7\n",
      "a: 0.9, b: -inf\n",
      "birth dict: {0: 1}\n",
      "non zero elements in CycleMap: 2\n",
      "non zero elements in CycleMap_masked: 2\n",
      "a: 0.9, b: -inf\n",
      "birth dict: {0: 1}\n",
      "non zero elements in CycleMap: 2\n",
      "non zero elements in CycleMap_masked: 2\n",
      "a: 0.9, b: -inf\n",
      "birth dict: {0: 1}\n",
      "non zero elements in CycleMap: 2\n",
      "non zero elements in CycleMap_masked: 2\n",
      "a: 0.9, b: -inf\n",
      "birth dict: {0: 1}\n",
      "non zero elements in CycleMap: 2\n",
      "non zero elements in CycleMap_masked: 2\n",
      "a: 0.9, b: -inf\n",
      "birth dict: {0: 1}\n",
      "non zero elements in CycleMap: 2\n",
      "non zero elements in CycleMap_masked: 2\n",
      "a: 0.9, b: -inf\n",
      "birth dict: {0: 1}\n",
      "non zero elements in CycleMap: 2\n",
      "non zero elements in CycleMap_masked: 2\n",
      "a: 0.9, b: -inf\n",
      "birth dict: {0: 1}\n",
      "non zero elements in CycleMap: 2\n",
      "non zero elements in CycleMap_masked: 2\n",
      "a: 0.9, b: -inf\n",
      "birth dict: {0: 1}\n",
      "non zero elements in CycleMap: 2\n",
      "non zero elements in CycleMap_masked: 2\n",
      "a: 0.9, b: -inf\n",
      "birth dict: {0: 1}\n",
      "non zero elements in CycleMap: 2\n",
      "non zero elements in CycleMap_masked: 2\n",
      "a: 0.9, b: -inf\n",
      "birth dict: {0: 1}\n",
      "non zero elements in CycleMap: 2\n",
      "non zero elements in CycleMap_masked: 2\n",
      "a: 0.9, b: -inf\n",
      "birth dict: {0: 1}\n",
      "non zero elements in CycleMap: 2\n",
      "non zero elements in CycleMap_masked: 2\n",
      "a: 0.9, b: -inf\n",
      "birth dict: {0: 1}\n",
      "non zero elements in CycleMap: 2\n",
      "non zero elements in CycleMap_masked: 2\n",
      "a: 0.9, b: -inf\n",
      "birth dict: {0: 1}\n",
      "non zero elements in CycleMap: 2\n",
      "non zero elements in CycleMap_masked: 2\n",
      "a: 0.9, b: -inf\n",
      "birth dict: {0: 1}\n",
      "non zero elements in CycleMap: 2\n",
      "non zero elements in CycleMap_masked: 2\n",
      "a: 0.7, b: 0.5\n",
      "birth dict: {4: 1}\n",
      "non zero elements in CycleMap: 1\n",
      "non zero elements in CycleMap_masked: 1\n",
      "a: 0.7, b: 0.5\n",
      "birth dict: {4: 1}\n",
      "non zero elements in CycleMap: 1\n",
      "non zero elements in CycleMap_masked: 1\n",
      "a: 0.7, b: 0.5\n",
      "birth dict: {4: 1}\n",
      "non zero elements in CycleMap: 1\n",
      "non zero elements in CycleMap_masked: 1\n",
      "a: 0.7, b: 0.5\n",
      "birth dict: {4: 1}\n",
      "non zero elements in CycleMap: 1\n",
      "non zero elements in CycleMap_masked: 1\n",
      "a: 0.7, b: 0.5\n",
      "birth dict: {4: 1}\n",
      "non zero elements in CycleMap: 1\n",
      "non zero elements in CycleMap_masked: 1\n",
      "a: 0.7, b: 0.5\n",
      "birth dict: {4: 1}\n",
      "non zero elements in CycleMap: 1\n",
      "non zero elements in CycleMap_masked: 1\n",
      "a: 0.7, b: 0.5\n",
      "birth dict: {4: 1}\n",
      "non zero elements in CycleMap: 1\n",
      "non zero elements in CycleMap_masked: 1\n",
      "a: 0.7, b: 0.5\n",
      "birth dict: {4: 1}\n",
      "non zero elements in CycleMap: 1\n",
      "non zero elements in CycleMap_masked: 1\n",
      "a: 0.7, b: 0.5\n",
      "birth dict: {4: 1}\n",
      "non zero elements in CycleMap: 1\n",
      "non zero elements in CycleMap_masked: 1\n",
      "a: 0.7, b: 0.5\n",
      "birth dict: {4: 1}\n",
      "non zero elements in CycleMap: 1\n",
      "non zero elements in CycleMap_masked: 1\n",
      "a: 0.7, b: 0.5\n",
      "birth dict: {4: 1}\n",
      "non zero elements in CycleMap: 1\n",
      "non zero elements in CycleMap_masked: 1\n",
      "a: 0.7, b: 0.5\n",
      "birth dict: {4: 1}\n",
      "non zero elements in CycleMap: 1\n",
      "non zero elements in CycleMap_masked: 1\n",
      "a: 0.7, b: 0.5\n",
      "birth dict: {4: 1}\n",
      "non zero elements in CycleMap: 1\n",
      "non zero elements in CycleMap_masked: 1\n",
      "a: 0.7, b: 0.5\n",
      "birth dict: {4: 1}\n",
      "non zero elements in CycleMap: 1\n",
      "non zero elements in CycleMap_masked: 1\n",
      "a: 0.7, b: 0.5\n",
      "birth dict: {4: 1}\n",
      "non zero elements in CycleMap: 1\n",
      "non zero elements in CycleMap_masked: 1\n",
      "a: 0.7, b: 0.5\n",
      "birth dict: {4: 1}\n",
      "non zero elements in CycleMap: 1\n",
      "non zero elements in CycleMap_masked: 1\n",
      "a: 0.7, b: 0.5\n",
      "birth dict: {4: 1}\n",
      "non zero elements in CycleMap: 1\n",
      "non zero elements in CycleMap_masked: 1\n",
      "a: 0.7, b: 0.5\n",
      "birth dict: {4: 1}\n",
      "non zero elements in CycleMap: 1\n",
      "non zero elements in CycleMap_masked: 1\n",
      "a: 0.7, b: 0.5\n",
      "birth dict: {4: 1}\n",
      "non zero elements in CycleMap: 1\n",
      "non zero elements in CycleMap_masked: 1\n",
      "a: 0.7, b: 0.5\n",
      "birth dict: {4: 1}\n",
      "non zero elements in CycleMap: 1\n",
      "non zero elements in CycleMap_masked: 1\n",
      "a: 0.7, b: 0.5\n",
      "birth dict: {4: 1}\n",
      "non zero elements in CycleMap: 1\n",
      "non zero elements in CycleMap_masked: 1\n",
      "a: 0.7, b: 0.5\n",
      "birth dict: {4: 1}\n",
      "non zero elements in CycleMap: 1\n",
      "non zero elements in CycleMap_masked: 1\n",
      "a: 0.7, b: 0.5\n",
      "birth dict: {4: 1}\n",
      "non zero elements in CycleMap: 1\n",
      "non zero elements in CycleMap_masked: 1\n",
      "a: 0.7, b: 0.5\n",
      "birth dict: {4: 1}\n",
      "non zero elements in CycleMap: 1\n",
      "non zero elements in CycleMap_masked: 1\n",
      "a: 0.7, b: 0.5\n",
      "birth dict: {4: 1}\n",
      "non zero elements in CycleMap: 1\n",
      "non zero elements in CycleMap_masked: 1\n",
      "a: 0.7, b: 0.5\n",
      "birth dict: {4: 1}\n",
      "non zero elements in CycleMap: 1\n",
      "non zero elements in CycleMap_masked: 1\n",
      "a: 0.9, b: -inf\n",
      "birth dict: {0: 1}\n",
      "non zero elements in CycleMap: 8\n",
      "non zero elements in CycleMap_masked: 8\n",
      "a: 0.9, b: -inf\n",
      "birth dict: {0: 1}\n",
      "non zero elements in CycleMap: 8\n",
      "non zero elements in CycleMap_masked: 8\n",
      "a: 0.9, b: -inf\n",
      "birth dict: {0: 1}\n",
      "non zero elements in CycleMap: 8\n",
      "non zero elements in CycleMap_masked: 8\n",
      "a: 0.9, b: -inf\n",
      "birth dict: {0: 1}\n",
      "non zero elements in CycleMap: 8\n",
      "non zero elements in CycleMap_masked: 8\n",
      "a: 0.9, b: -inf\n",
      "birth dict: {0: 1}\n",
      "non zero elements in CycleMap: 8\n",
      "non zero elements in CycleMap_masked: 8\n",
      "a: 0.9, b: -inf\n",
      "birth dict: {0: 1}\n",
      "non zero elements in CycleMap: 8\n",
      "non zero elements in CycleMap_masked: 8\n",
      "a: 0.9, b: -inf\n",
      "birth dict: {0: 1}\n",
      "non zero elements in CycleMap: 8\n",
      "non zero elements in CycleMap_masked: 8\n",
      "a: 0.9, b: -inf\n",
      "birth dict: {0: 1}\n",
      "non zero elements in CycleMap: 8\n",
      "non zero elements in CycleMap_masked: 8\n",
      "a: 0.9, b: -inf\n",
      "birth dict: {0: 1}\n",
      "non zero elements in CycleMap: 8\n",
      "non zero elements in CycleMap_masked: 8\n",
      "a: 0.9, b: -inf\n",
      "birth dict: {0: 1}\n",
      "non zero elements in CycleMap: 8\n",
      "non zero elements in CycleMap_masked: 8\n",
      "a: 0.9, b: -inf\n",
      "birth dict: {0: 1}\n",
      "non zero elements in CycleMap: 8\n",
      "non zero elements in CycleMap_masked: 8\n",
      "a: 0.9, b: -inf\n",
      "birth dict: {0: 1}\n",
      "non zero elements in CycleMap: 8\n",
      "non zero elements in CycleMap_masked: 8\n",
      "a: 0.9, b: -inf\n",
      "birth dict: {0: 1}\n",
      "non zero elements in CycleMap: 7\n",
      "non zero elements in CycleMap_masked: 7\n",
      "a: 0.9, b: -inf\n",
      "birth dict: {0: 1}\n",
      "non zero elements in CycleMap: 7\n",
      "non zero elements in CycleMap_masked: 7\n",
      "a: 0.9, b: -inf\n",
      "birth dict: {0: 1}\n",
      "non zero elements in CycleMap: 7\n",
      "non zero elements in CycleMap_masked: 7\n",
      "a: 0.9, b: -inf\n",
      "birth dict: {0: 1}\n",
      "non zero elements in CycleMap: 7\n",
      "non zero elements in CycleMap_masked: 7\n",
      "a: 0.9, b: -inf\n",
      "birth dict: {0: 1}\n",
      "non zero elements in CycleMap: 7\n",
      "non zero elements in CycleMap_masked: 7\n",
      "a: 0.9, b: -inf\n",
      "birth dict: {0: 1}\n",
      "non zero elements in CycleMap: 2\n",
      "non zero elements in CycleMap_masked: 2\n",
      "a: 0.9, b: -inf\n",
      "birth dict: {0: 1}\n",
      "non zero elements in CycleMap: 2\n",
      "non zero elements in CycleMap_masked: 2\n",
      "a: 0.9, b: -inf\n",
      "birth dict: {0: 1}\n",
      "non zero elements in CycleMap: 2\n",
      "non zero elements in CycleMap_masked: 2\n",
      "a: 0.9, b: -inf\n",
      "birth dict: {0: 1}\n",
      "non zero elements in CycleMap: 2\n",
      "non zero elements in CycleMap_masked: 2\n",
      "a: 0.9, b: -inf\n",
      "birth dict: {0: 1}\n",
      "non zero elements in CycleMap: 2\n",
      "non zero elements in CycleMap_masked: 2\n",
      "a: 0.9, b: -inf\n",
      "birth dict: {0: 1}\n",
      "non zero elements in CycleMap: 2\n",
      "non zero elements in CycleMap_masked: 2\n",
      "a: 0.9, b: -inf\n",
      "birth dict: {0: 1}\n",
      "non zero elements in CycleMap: 2\n",
      "non zero elements in CycleMap_masked: 2\n",
      "a: 0.9, b: -inf\n",
      "birth dict: {0: 1}\n",
      "non zero elements in CycleMap: 2\n",
      "non zero elements in CycleMap_masked: 2\n",
      "a: 0.9, b: -inf\n",
      "birth dict: {0: 1}\n",
      "non zero elements in CycleMap: 7\n",
      "non zero elements in CycleMap_masked: 7\n",
      "a: 0.9, b: -inf\n",
      "birth dict: {0: 1}\n",
      "non zero elements in CycleMap: 7\n",
      "non zero elements in CycleMap_masked: 7\n",
      "a: 0.9, b: -inf\n",
      "birth dict: {0: 1}\n",
      "non zero elements in CycleMap: 7\n",
      "non zero elements in CycleMap_masked: 7\n",
      "a: 0.9, b: -inf\n",
      "birth dict: {0: 1}\n",
      "non zero elements in CycleMap: 7\n",
      "non zero elements in CycleMap_masked: 7\n",
      "a: 0.9, b: -inf\n",
      "birth dict: {0: 1}\n",
      "non zero elements in CycleMap: 7\n",
      "non zero elements in CycleMap_masked: 7\n",
      "a: 0.9, b: -inf\n",
      "birth dict: {0: 1}\n",
      "non zero elements in CycleMap: 7\n",
      "non zero elements in CycleMap_masked: 7\n",
      "a: 0.9, b: -inf\n",
      "birth dict: {0: 1}\n",
      "non zero elements in CycleMap: 7\n",
      "non zero elements in CycleMap_masked: 7\n",
      "a: 0.9, b: -inf\n",
      "birth dict: {0: 1}\n",
      "non zero elements in CycleMap: 7\n",
      "non zero elements in CycleMap_masked: 7\n",
      "a: 0.9, b: -inf\n",
      "birth dict: {0: 1}\n",
      "non zero elements in CycleMap: 8\n",
      "non zero elements in CycleMap_masked: 8\n",
      "a: 0.9, b: -inf\n",
      "birth dict: {0: 1}\n",
      "non zero elements in CycleMap: 8\n",
      "non zero elements in CycleMap_masked: 8\n",
      "a: 0.9, b: -inf\n",
      "birth dict: {0: 1}\n",
      "non zero elements in CycleMap: 8\n",
      "non zero elements in CycleMap_masked: 8\n",
      "a: 0.9, b: -inf\n",
      "birth dict: {0: 1}\n",
      "non zero elements in CycleMap: 8\n",
      "non zero elements in CycleMap_masked: 8\n",
      "a: 0.9, b: -inf\n",
      "birth dict: {0: 1}\n",
      "non zero elements in CycleMap: 7\n",
      "non zero elements in CycleMap_masked: 7\n",
      "a: 0.9, b: -inf\n",
      "birth dict: {0: 1}\n",
      "non zero elements in CycleMap: 7\n",
      "non zero elements in CycleMap_masked: 7\n",
      "a: 0.9, b: -inf\n",
      "birth dict: {0: 1}\n",
      "non zero elements in CycleMap: 7\n",
      "non zero elements in CycleMap_masked: 7\n",
      "a: 0.9, b: -inf\n",
      "birth dict: {0: 1}\n",
      "non zero elements in CycleMap: 7\n",
      "non zero elements in CycleMap_masked: 7\n",
      "a: 0.9, b: -inf\n",
      "birth dict: {0: 1}\n",
      "non zero elements in CycleMap: 7\n",
      "non zero elements in CycleMap_masked: 7\n",
      "a: 0.7, b: 0.5\n",
      "birth dict: {4: 1}\n",
      "non zero elements in CycleMap: 1\n",
      "non zero elements in CycleMap_masked: 1\n",
      "a: 0.8, b: 0.49\n",
      "birth of 1: 1\n",
      "make union of 1 and 0\n",
      "birth of 2: 2\n",
      "birth of 5: 5\n",
      "make union of 2 and 5\n",
      "birth of 7: 7\n",
      "make union of 7 and 4\n",
      "birth of 2: 2\n",
      "birth of 7: 4\n",
      "make union of 2 and 7\n",
      "birth of 5: 2\n",
      "birth of 10: 10\n",
      "birth of 7: 2\n",
      "birth of 16: 16\n",
      "birth of 1: 0\n",
      "birth of 4: 2\n",
      "birth of 13: 13\n",
      "birth of 0: 0\n",
      "birth dict: {2: 1}\n",
      "non zero elements in CycleMap: 4\n",
      "non zero elements in CycleMap_masked: 4\n",
      "a: 0.7, b: 0.5\n",
      "birth of 1: 1\n",
      "make union of 1 and 0\n",
      "birth of 2: 2\n",
      "make union of 2 and 5\n",
      "birth of 2: 2\n",
      "birth of 5: 2\n",
      "birth of 10: 10\n",
      "birth of 7: 7\n",
      "birth of 16: 16\n",
      "birth of 1: 0\n",
      "birth of 13: 13\n",
      "birth of 0: 0\n",
      "birth dict: {4: 1}\n",
      "non zero elements in CycleMap: 1\n",
      "non zero elements in CycleMap_masked: 1\n",
      "a: 0.9, b: -inf\n",
      "birth of 1: 1\n",
      "make union of 1 and 0\n",
      "birth of 2: 2\n",
      "make union of 2 and 5\n",
      "birth of 7: 7\n",
      "make union of 7 and 4\n",
      "birth of 2: 2\n",
      "make union of 2 and 7\n",
      "birth of 10: 10\n",
      "make union of 10 and 1\n",
      "birth of 5: 2\n",
      "make union of 5 and 10\n",
      "birth of 2: 0\n",
      "birth of 5: 0\n",
      "birth of 10: 0\n",
      "birth of 7: 0\n",
      "birth of 16: 16\n",
      "birth of 1: 0\n",
      "birth of 4: 0\n",
      "birth of 13: 13\n",
      "birth dict: {0: 1}\n",
      "non zero elements in CycleMap: 7\n",
      "non zero elements in CycleMap_masked: 7\n",
      "a: 0.9, b: -inf\n",
      "birth of 1: 1\n",
      "make union of 1 and 0\n",
      "birth of 2: 2\n",
      "make union of 2 and 5\n",
      "birth of 7: 7\n",
      "make union of 7 and 4\n",
      "birth of 2: 2\n",
      "make union of 2 and 7\n",
      "birth of 10: 10\n",
      "make union of 10 and 1\n",
      "birth of 5: 2\n",
      "make union of 5 and 10\n",
      "birth of 2: 0\n",
      "birth of 5: 0\n",
      "birth of 10: 0\n",
      "birth of 7: 0\n",
      "birth of 16: 16\n",
      "birth of 1: 0\n",
      "birth of 4: 0\n",
      "birth of 13: 13\n",
      "birth dict: {0: 1}\n",
      "non zero elements in CycleMap: 7\n",
      "non zero elements in CycleMap_masked: 7\n",
      "a: 0.9, b: -inf\n",
      "birth of 1: 1\n",
      "make union of 1 and 0\n",
      "birth of 2: 2\n",
      "birth of 5: 5\n",
      "birth of 10: 10\n",
      "birth of 7: 7\n",
      "birth of 16: 16\n",
      "birth of 1: 0\n",
      "birth of 4: 4\n",
      "birth of 13: 13\n",
      "birth dict: {0: 1}\n",
      "non zero elements in CycleMap: 2\n",
      "non zero elements in CycleMap_masked: 2\n",
      "a: 0.9, b: -inf\n",
      "birth of 2: 2\n",
      "birth of 5: 5\n",
      "birth of 10: 10\n",
      "birth of 7: 7\n",
      "birth of 16: 16\n",
      "birth of 1: 1\n",
      "birth of 4: 4\n",
      "birth of 13: 13\n",
      "birth dict: {0: 1}\n",
      "non zero elements in CycleMap: 1\n",
      "non zero elements in CycleMap_masked: 1\n",
      "a: 0.9, b: -inf\n",
      "birth of 1: 1\n",
      "make union of 1 and 0\n",
      "birth of 2: 2\n",
      "birth of 5: 5\n",
      "birth of 10: 10\n",
      "birth of 7: 7\n",
      "birth of 16: 16\n",
      "birth of 1: 0\n",
      "birth of 4: 4\n",
      "birth of 13: 13\n",
      "birth dict: {0: 1}\n",
      "non zero elements in CycleMap: 2\n",
      "non zero elements in CycleMap_masked: 2\n",
      "a: 0.9, b: -inf\n",
      "birth of 1: 1\n",
      "make union of 1 and 0\n",
      "birth of 2: 2\n",
      "birth of 5: 5\n",
      "birth of 10: 10\n",
      "birth of 7: 7\n",
      "birth of 16: 16\n",
      "birth of 1: 0\n",
      "birth of 4: 4\n",
      "birth of 13: 13\n",
      "birth dict: {0: 1}\n",
      "non zero elements in CycleMap: 2\n",
      "non zero elements in CycleMap_masked: 2\n",
      "a: 0.9, b: -inf\n",
      "birth of 1: 1\n",
      "make union of 1 and 0\n",
      "birth of 2: 2\n",
      "birth of 5: 5\n",
      "birth of 10: 10\n",
      "birth of 7: 7\n",
      "birth of 16: 16\n",
      "birth of 1: 0\n",
      "birth of 4: 4\n",
      "birth of 13: 13\n",
      "birth dict: {0: 1}\n",
      "non zero elements in CycleMap: 2\n",
      "non zero elements in CycleMap_masked: 2\n",
      "a: 0.9, b: -inf\n",
      "birth of 1: 1\n",
      "make union of 1 and 0\n",
      "birth of 2: 2\n",
      "birth of 5: 5\n",
      "birth of 10: 10\n",
      "birth of 7: 7\n",
      "birth of 16: 16\n",
      "birth of 1: 0\n",
      "birth of 4: 4\n",
      "birth of 13: 13\n",
      "birth dict: {0: 1}\n",
      "non zero elements in CycleMap: 2\n",
      "non zero elements in CycleMap_masked: 2\n",
      "a: 0.9, b: -inf\n",
      "birth of 1: 1\n",
      "make union of 1 and 0\n",
      "birth of 2: 2\n",
      "make union of 2 and 5\n",
      "birth of 2: 2\n",
      "birth of 5: 2\n",
      "birth of 10: 10\n",
      "birth of 7: 7\n",
      "birth of 16: 16\n",
      "birth of 1: 0\n",
      "birth of 4: 4\n",
      "birth of 13: 13\n",
      "birth dict: {0: 1}\n",
      "non zero elements in CycleMap: 2\n",
      "non zero elements in CycleMap_masked: 2\n",
      "a: 0.9, b: -inf\n",
      "birth of 1: 1\n",
      "make union of 1 and 0\n",
      "birth of 2: 2\n",
      "make union of 2 and 5\n",
      "birth of 7: 7\n",
      "make union of 7 and 4\n",
      "birth of 2: 2\n",
      "make union of 2 and 7\n",
      "birth of 10: 10\n",
      "make union of 10 and 1\n",
      "birth of 5: 2\n",
      "make union of 5 and 10\n",
      "birth of 2: 0\n",
      "birth of 5: 0\n",
      "birth of 10: 0\n",
      "birth of 7: 0\n",
      "birth of 16: 16\n",
      "birth of 1: 0\n",
      "birth of 4: 0\n",
      "birth of 13: 13\n",
      "birth dict: {0: 1}\n",
      "non zero elements in CycleMap: 7\n",
      "non zero elements in CycleMap_masked: 7\n",
      "a: 0.9, b: -inf\n",
      "birth of 1: 1\n",
      "make union of 1 and 0\n",
      "birth of 2: 2\n",
      "make union of 2 and 5\n",
      "birth of 7: 7\n",
      "make union of 7 and 4\n",
      "birth of 2: 2\n",
      "make union of 2 and 7\n",
      "birth of 10: 10\n",
      "make union of 10 and 1\n",
      "birth of 5: 2\n",
      "make union of 5 and 10\n",
      "birth of 2: 0\n",
      "birth of 5: 0\n",
      "birth of 10: 0\n",
      "birth of 7: 0\n",
      "birth of 16: 16\n",
      "birth of 1: 0\n",
      "birth of 4: 0\n",
      "birth of 13: 13\n",
      "birth dict: {0: 1}\n",
      "non zero elements in CycleMap: 7\n",
      "non zero elements in CycleMap_masked: 7\n",
      "a: 0.9, b: -inf\n",
      "birth of 1: 1\n",
      "make union of 1 and 0\n",
      "birth of 2: 2\n",
      "make union of 2 and 5\n",
      "birth of 7: 7\n",
      "make union of 7 and 4\n",
      "birth of 2: 2\n",
      "make union of 2 and 7\n",
      "birth of 10: 10\n",
      "make union of 10 and 1\n",
      "birth of 5: 2\n",
      "make union of 5 and 10\n",
      "birth of 2: 0\n",
      "birth of 5: 0\n",
      "birth of 10: 0\n",
      "birth of 7: 0\n",
      "birth of 16: 16\n",
      "birth of 1: 0\n",
      "birth of 4: 0\n",
      "birth of 13: 13\n",
      "birth dict: {0: 1}\n",
      "non zero elements in CycleMap: 7\n",
      "non zero elements in CycleMap_masked: 7\n",
      "a: 0.9, b: -inf\n",
      "birth of 1: 1\n",
      "make union of 1 and 0\n",
      "birth of 2: 2\n",
      "make union of 2 and 5\n",
      "birth of 7: 7\n",
      "make union of 7 and 4\n",
      "birth of 2: 2\n",
      "make union of 2 and 7\n",
      "birth of 10: 10\n",
      "make union of 10 and 1\n",
      "birth of 5: 2\n",
      "make union of 5 and 10\n",
      "birth of 2: 0\n",
      "birth of 5: 0\n",
      "birth of 10: 0\n",
      "birth of 7: 0\n",
      "birth of 16: 16\n",
      "birth of 1: 0\n",
      "birth of 4: 0\n",
      "birth of 13: 13\n",
      "birth dict: {0: 1}\n",
      "non zero elements in CycleMap: 7\n",
      "non zero elements in CycleMap_masked: 7\n",
      "a: 0.9, b: -inf\n",
      "birth of 1: 1\n",
      "make union of 1 and 0\n",
      "birth of 2: 2\n",
      "make union of 2 and 5\n",
      "birth of 7: 7\n",
      "make union of 7 and 4\n",
      "birth of 2: 2\n",
      "make union of 2 and 7\n",
      "birth of 10: 10\n",
      "make union of 10 and 1\n",
      "birth of 5: 2\n",
      "make union of 5 and 10\n",
      "birth of 2: 0\n",
      "birth of 5: 0\n",
      "birth of 10: 0\n",
      "birth of 7: 0\n",
      "birth of 16: 16\n",
      "birth of 1: 0\n",
      "birth of 4: 0\n",
      "birth of 13: 13\n",
      "birth dict: {0: 1}\n",
      "non zero elements in CycleMap: 7\n",
      "non zero elements in CycleMap_masked: 7\n",
      "a: 0.9, b: -inf\n",
      "birth of 1: 1\n",
      "make union of 1 and 0\n",
      "birth of 2: 2\n",
      "make union of 2 and 5\n",
      "birth of 7: 7\n",
      "make union of 7 and 4\n",
      "birth of 2: 2\n",
      "make union of 2 and 7\n",
      "birth of 2: 2\n",
      "birth of 5: 2\n",
      "birth of 10: 10\n",
      "birth of 7: 2\n",
      "birth of 16: 16\n",
      "birth of 1: 0\n",
      "birth of 4: 2\n",
      "birth of 13: 13\n",
      "birth dict: {0: 1}\n",
      "non zero elements in CycleMap: 2\n",
      "non zero elements in CycleMap_masked: 2\n",
      "a: 0.9, b: -inf\n",
      "birth of 1: 1\n",
      "make union of 1 and 0\n",
      "birth of 2: 2\n",
      "make union of 2 and 5\n",
      "birth of 2: 2\n",
      "birth of 5: 2\n",
      "birth of 10: 10\n",
      "birth of 7: 7\n",
      "birth of 16: 16\n",
      "birth of 1: 0\n",
      "birth of 4: 4\n",
      "birth of 13: 13\n",
      "birth dict: {0: 1}\n",
      "non zero elements in CycleMap: 2\n",
      "non zero elements in CycleMap_masked: 2\n",
      "a: 0.7, b: 0.5\n",
      "birth of 1: 1\n",
      "make union of 1 and 0\n",
      "birth of 2: 2\n",
      "make union of 2 and 5\n",
      "birth of 2: 2\n",
      "birth of 5: 2\n",
      "birth of 10: 10\n",
      "birth of 7: 7\n",
      "birth of 16: 16\n",
      "birth of 1: 0\n",
      "birth of 13: 13\n",
      "birth of 0: 0\n",
      "birth dict: {4: 1}\n",
      "non zero elements in CycleMap: 1\n",
      "non zero elements in CycleMap_masked: 1\n",
      "a: 0.7, b: 0.5\n",
      "birth of 1: 1\n",
      "make union of 1 and 0\n",
      "birth of 2: 2\n",
      "make union of 2 and 5\n",
      "birth of 2: 2\n",
      "birth of 5: 2\n",
      "birth of 10: 10\n",
      "birth of 7: 7\n",
      "birth of 16: 16\n",
      "birth of 1: 0\n",
      "birth of 13: 13\n",
      "birth of 0: 0\n",
      "birth dict: {4: 1}\n",
      "non zero elements in CycleMap: 1\n",
      "non zero elements in CycleMap_masked: 1\n",
      "a: 0.7, b: 0.5\n",
      "birth of 1: 1\n",
      "make union of 1 and 0\n",
      "birth of 2: 2\n",
      "make union of 2 and 5\n",
      "birth of 2: 2\n",
      "birth of 5: 2\n",
      "birth of 10: 10\n",
      "birth of 7: 7\n",
      "birth of 16: 16\n",
      "birth of 1: 0\n",
      "birth of 13: 13\n",
      "birth of 0: 0\n",
      "birth dict: {4: 1}\n",
      "non zero elements in CycleMap: 1\n",
      "non zero elements in CycleMap_masked: 1\n",
      "a: 0.7, b: 0.5\n",
      "birth of 1: 1\n",
      "make union of 1 and 0\n",
      "birth of 2: 2\n",
      "make union of 2 and 5\n",
      "birth of 2: 2\n",
      "birth of 5: 2\n",
      "birth of 10: 10\n",
      "birth of 7: 7\n",
      "birth of 16: 16\n",
      "birth of 1: 0\n",
      "birth of 13: 13\n",
      "birth of 0: 0\n",
      "birth dict: {4: 1}\n",
      "non zero elements in CycleMap: 1\n",
      "non zero elements in CycleMap_masked: 1\n",
      "a: 0.7, b: 0.5\n",
      "birth of 1: 1\n",
      "make union of 1 and 0\n",
      "birth of 2: 2\n",
      "make union of 2 and 5\n",
      "birth of 2: 2\n",
      "birth of 5: 2\n",
      "birth of 10: 10\n",
      "birth of 7: 7\n",
      "birth of 16: 16\n",
      "birth of 1: 0\n",
      "birth of 13: 13\n",
      "birth of 0: 0\n",
      "birth dict: {4: 1}\n",
      "non zero elements in CycleMap: 1\n",
      "non zero elements in CycleMap_masked: 1\n",
      "a: 0.7, b: 0.5\n",
      "birth of 1: 1\n",
      "make union of 1 and 0\n",
      "birth of 2: 2\n",
      "make union of 2 and 5\n",
      "birth of 2: 2\n",
      "birth of 5: 2\n",
      "birth of 10: 10\n",
      "birth of 7: 7\n",
      "birth of 16: 16\n",
      "birth of 1: 0\n",
      "birth of 13: 13\n",
      "birth of 0: 0\n",
      "birth dict: {4: 1}\n",
      "non zero elements in CycleMap: 1\n",
      "non zero elements in CycleMap_masked: 1\n",
      "a: 0.7, b: 0.5\n",
      "birth of 1: 1\n",
      "make union of 1 and 0\n",
      "birth of 2: 2\n",
      "make union of 2 and 5\n",
      "birth of 2: 2\n",
      "birth of 5: 2\n",
      "birth of 10: 10\n",
      "birth of 7: 7\n",
      "birth of 16: 16\n",
      "birth of 1: 0\n",
      "birth of 13: 13\n",
      "birth of 0: 0\n",
      "birth dict: {4: 1}\n",
      "non zero elements in CycleMap: 1\n",
      "non zero elements in CycleMap_masked: 1\n",
      "a: 0.7, b: 0.5\n",
      "birth of 1: 1\n",
      "make union of 1 and 0\n",
      "birth of 2: 2\n",
      "make union of 2 and 5\n",
      "birth of 2: 2\n",
      "birth of 5: 2\n",
      "birth of 10: 10\n",
      "birth of 7: 7\n",
      "birth of 16: 16\n",
      "birth of 1: 0\n",
      "birth of 13: 13\n",
      "birth of 0: 0\n",
      "birth dict: {4: 1}\n",
      "non zero elements in CycleMap: 1\n",
      "non zero elements in CycleMap_masked: 1\n",
      "a: 0.7, b: 0.5\n",
      "birth of 1: 1\n",
      "make union of 1 and 0\n",
      "birth of 2: 2\n",
      "make union of 2 and 5\n",
      "birth of 2: 2\n",
      "birth of 5: 2\n",
      "birth of 10: 10\n",
      "birth of 7: 7\n",
      "birth of 16: 16\n",
      "birth of 1: 0\n",
      "birth of 13: 13\n",
      "birth of 0: 0\n",
      "birth dict: {4: 1}\n",
      "non zero elements in CycleMap: 1\n",
      "non zero elements in CycleMap_masked: 1\n",
      "a: 0.7, b: 0.5\n",
      "birth of 1: 1\n",
      "make union of 1 and 0\n",
      "birth of 2: 2\n",
      "make union of 2 and 5\n",
      "birth of 2: 2\n",
      "birth of 5: 2\n",
      "birth of 10: 10\n",
      "birth of 7: 7\n",
      "birth of 16: 16\n",
      "birth of 1: 0\n",
      "birth of 13: 13\n",
      "birth of 0: 0\n",
      "birth dict: {4: 1}\n",
      "non zero elements in CycleMap: 1\n",
      "non zero elements in CycleMap_masked: 1\n",
      "a: 0.7, b: 0.5\n",
      "birth of 1: 1\n",
      "make union of 1 and 0\n",
      "birth of 2: 2\n",
      "make union of 2 and 5\n",
      "birth of 2: 2\n",
      "birth of 5: 2\n",
      "birth of 10: 10\n",
      "birth of 7: 7\n",
      "birth of 16: 16\n",
      "birth of 1: 0\n",
      "birth of 13: 13\n",
      "birth of 0: 0\n",
      "birth dict: {4: 1}\n",
      "non zero elements in CycleMap: 1\n",
      "non zero elements in CycleMap_masked: 1\n",
      "a: 0.8, b: 0.49\n",
      "birth of 1: 1\n",
      "make union of 1 and 0\n",
      "birth of 2: 2\n",
      "birth of 5: 5\n",
      "make union of 2 and 5\n",
      "birth of 5: 2\n",
      "birth of 10: 10\n",
      "birth of 7: 7\n",
      "birth of 16: 16\n",
      "birth of 1: 0\n",
      "birth of 4: 4\n",
      "birth of 13: 13\n",
      "birth of 0: 0\n",
      "birth dict: {2: 1}\n",
      "non zero elements in CycleMap: 2\n",
      "non zero elements in CycleMap_masked: 2\n",
      "a: 0.7, b: 0.5\n",
      "birth of 1: 1\n",
      "make union of 1 and 0\n",
      "birth of 2: 2\n",
      "make union of 2 and 5\n",
      "birth of 2: 2\n",
      "birth of 5: 2\n",
      "birth of 10: 10\n",
      "birth of 7: 7\n",
      "birth of 16: 16\n",
      "birth of 1: 0\n",
      "birth of 13: 13\n",
      "birth of 0: 0\n",
      "birth dict: {4: 1}\n",
      "non zero elements in CycleMap: 1\n",
      "non zero elements in CycleMap_masked: 1\n",
      "a: 0.9, b: -inf\n",
      "birth dict: {0: 1}\n",
      "non zero elements in CycleMap: 2\n",
      "non zero elements in CycleMap_masked: 2\n",
      "a: 0.7, b: 0.5\n",
      "birth dict: {4: 1}\n",
      "non zero elements in CycleMap: 1\n",
      "non zero elements in CycleMap_masked: 1\n",
      "a: 0.8, b: 0.49\n",
      "birth dict: {2: 1}\n",
      "non zero elements in CycleMap: 2\n",
      "non zero elements in CycleMap_masked: 2\n",
      "a: 0.7, b: 0.5\n",
      "birth dict: {4: 1}\n",
      "non zero elements in CycleMap: 1\n",
      "non zero elements in CycleMap_masked: 1\n",
      "a: 0.7, b: 0.5\n",
      "birth dict: {4: 1}\n",
      "non zero elements in CycleMap: 1\n",
      "non zero elements in CycleMap_masked: 1\n",
      "a: 0.7, b: 0.5\n",
      "birth dict: {4: 1}\n",
      "non zero elements in CycleMap: 1\n",
      "non zero elements in CycleMap_masked: 1\n",
      "a: 0.7, b: 0.5\n",
      "birth dict: {4: 1}\n",
      "non zero elements in CycleMap: 1\n",
      "non zero elements in CycleMap_masked: 1\n",
      "a: 0.7, b: 0.5\n",
      "birth dict: {4: 1}\n",
      "non zero elements in CycleMap: 1\n",
      "non zero elements in CycleMap_masked: 1\n",
      "a: 0.7, b: 0.5\n",
      "birth dict: {4: 1}\n",
      "non zero elements in CycleMap: 1\n",
      "non zero elements in CycleMap_masked: 1\n",
      "a: 0.7, b: 0.5\n",
      "birth dict: {4: 1}\n",
      "non zero elements in CycleMap: 1\n",
      "non zero elements in CycleMap_masked: 1\n",
      "a: 0.7, b: 0.5\n",
      "birth dict: {4: 1}\n",
      "non zero elements in CycleMap: 1\n",
      "non zero elements in CycleMap_masked: 1\n",
      "a: 0.7, b: 0.5\n",
      "birth dict: {4: 1}\n",
      "non zero elements in CycleMap: 1\n",
      "non zero elements in CycleMap_masked: 1\n",
      "a: 0.7, b: 0.5\n",
      "birth dict: {4: 1}\n",
      "non zero elements in CycleMap: 1\n",
      "non zero elements in CycleMap_masked: 1\n",
      "a: 0.7, b: 0.5\n",
      "birth dict: {4: 1}\n",
      "non zero elements in CycleMap: 1\n",
      "non zero elements in CycleMap_masked: 1\n",
      "a: 0.7, b: 0.5\n",
      "birth dict: {4: 1}\n",
      "non zero elements in CycleMap: 1\n",
      "non zero elements in CycleMap_masked: 1\n",
      "a: 0.7, b: 0.5\n",
      "birth dict: {4: 1}\n",
      "non zero elements in CycleMap: 1\n",
      "non zero elements in CycleMap_masked: 1\n",
      "a: 0.7, b: 0.5\n",
      "birth dict: {4: 1}\n",
      "non zero elements in CycleMap: 1\n",
      "non zero elements in CycleMap_masked: 1\n",
      "a: 0.7, b: 0.5\n",
      "birth dict: {4: 1}\n",
      "non zero elements in CycleMap: 1\n",
      "non zero elements in CycleMap_masked: 1\n",
      "a: 0.7, b: 0.5\n",
      "birth dict: {4: 1}\n",
      "non zero elements in CycleMap: 1\n",
      "non zero elements in CycleMap_masked: 1\n",
      "a: 0.7, b: 0.5\n",
      "birth dict: {4: 1}\n",
      "non zero elements in CycleMap: 1\n",
      "non zero elements in CycleMap_masked: 1\n",
      "a: 0.7, b: 0.5\n",
      "birth dict: {4: 1}\n",
      "non zero elements in CycleMap: 1\n",
      "non zero elements in CycleMap_masked: 1\n",
      "a: 0.7, b: 0.5\n",
      "birth dict: {4: 1}\n",
      "non zero elements in CycleMap: 1\n",
      "non zero elements in CycleMap_masked: 1\n",
      "a: 0.7, b: 0.5\n",
      "birth dict: {4: 1}\n",
      "non zero elements in CycleMap: 1\n",
      "non zero elements in CycleMap_masked: 1\n",
      "a: 0.7, b: 0.5\n",
      "birth dict: {4: 1}\n",
      "non zero elements in CycleMap: 1\n",
      "non zero elements in CycleMap_masked: 1\n",
      "a: 0.7, b: 0.5\n",
      "birth dict: {4: 1}\n",
      "non zero elements in CycleMap: 1\n",
      "non zero elements in CycleMap_masked: 1\n",
      "a: 0.7, b: 0.5\n",
      "birth dict: {4: 1}\n",
      "non zero elements in CycleMap: 1\n",
      "non zero elements in CycleMap_masked: 1\n",
      "a: 0.7, b: 0.5\n",
      "birth dict: {4: 1}\n",
      "non zero elements in CycleMap: 1\n",
      "non zero elements in CycleMap_masked: 1\n",
      "a: 0.7, b: 0.5\n",
      "birth dict: {4: 1}\n",
      "non zero elements in CycleMap: 1\n",
      "non zero elements in CycleMap_masked: 1\n",
      "a: 0.9, b: -inf\n",
      "birth dict: {0: 1}\n",
      "non zero elements in CycleMap: 2\n",
      "non zero elements in CycleMap_masked: 2\n",
      "a: 0.7, b: 0.5\n",
      "birth dict: {4: 1}\n",
      "non zero elements in CycleMap: 1\n",
      "non zero elements in CycleMap_masked: 1\n",
      "a: 0.9, b: -inf\n",
      "birth dict: {0: 1}\n",
      "non zero elements in CycleMap: 2\n",
      "non zero elements in CycleMap_masked: 2\n",
      "a: 0.7, b: 0.5\n",
      "birth dict: {4: 1}\n",
      "non zero elements in CycleMap: 1\n",
      "non zero elements in CycleMap_masked: 1\n",
      "a: 0.9, b: -inf\n",
      "birth dict: {0: 1}\n",
      "non zero elements in CycleMap: 2\n",
      "non zero elements in CycleMap_masked: 2\n",
      "a: 0.9, b: -inf\n",
      "birth dict: {0: 1}\n",
      "non zero elements in CycleMap: 2\n",
      "non zero elements in CycleMap_masked: 2\n",
      "a: 0.9, b: -inf\n",
      "birth dict: {0: 1}\n",
      "non zero elements in CycleMap: 7\n",
      "non zero elements in CycleMap_masked: 7\n",
      "a: 0.9, b: -inf\n",
      "birth dict: {0: 1}\n",
      "non zero elements in CycleMap: 8\n",
      "non zero elements in CycleMap_masked: 8\n",
      "a: 0.9, b: -inf\n",
      "birth dict: {0: 1}\n",
      "non zero elements in CycleMap: 8\n",
      "non zero elements in CycleMap_masked: 8\n",
      "a: 0.9, b: -inf\n",
      "birth dict: {0: 1}\n",
      "non zero elements in CycleMap: 7\n",
      "non zero elements in CycleMap_masked: 7\n",
      "a: 0.9, b: -inf\n",
      "birth dict: {0: 1}\n",
      "non zero elements in CycleMap: 7\n",
      "non zero elements in CycleMap_masked: 7\n",
      "a: 0.9, b: -inf\n",
      "birth dict: {0: 1}\n",
      "non zero elements in CycleMap: 7\n",
      "non zero elements in CycleMap_masked: 7\n",
      "a: 0.9, b: -inf\n",
      "birth dict: {0: 1}\n",
      "non zero elements in CycleMap: 2\n",
      "non zero elements in CycleMap_masked: 2\n",
      "a: 0.9, b: -inf\n",
      "birth dict: {0: 1}\n",
      "non zero elements in CycleMap: 2\n",
      "non zero elements in CycleMap_masked: 2\n",
      "a: 0.9, b: -inf\n",
      "birth dict: {0: 1}\n",
      "non zero elements in CycleMap: 2\n",
      "non zero elements in CycleMap_masked: 2\n",
      "a: 0.9, b: -inf\n",
      "birth dict: {0: 1}\n",
      "non zero elements in CycleMap: 2\n",
      "non zero elements in CycleMap_masked: 2\n",
      "a: 0.9, b: -inf\n",
      "birth dict: {0: 1}\n",
      "non zero elements in CycleMap: 2\n",
      "non zero elements in CycleMap_masked: 2\n",
      "a: 0.9, b: -inf\n",
      "birth dict: {0: 1}\n",
      "non zero elements in CycleMap: 2\n",
      "non zero elements in CycleMap_masked: 2\n",
      "a: 0.9, b: -inf\n",
      "birth dict: {0: 1}\n",
      "non zero elements in CycleMap: 2\n",
      "non zero elements in CycleMap_masked: 2\n",
      "a: 0.9, b: -inf\n",
      "birth dict: {0: 1}\n",
      "non zero elements in CycleMap: 2\n",
      "non zero elements in CycleMap_masked: 2\n",
      "a: 0.9, b: -inf\n",
      "birth dict: {0: 1}\n",
      "non zero elements in CycleMap: 2\n",
      "non zero elements in CycleMap_masked: 2\n",
      "a: 0.9, b: -inf\n",
      "birth dict: {0: 1}\n",
      "non zero elements in CycleMap: 2\n",
      "non zero elements in CycleMap_masked: 2\n",
      "a: 0.9, b: -inf\n",
      "birth dict: {0: 1}\n",
      "non zero elements in CycleMap: 7\n",
      "non zero elements in CycleMap_masked: 7\n",
      "a: 0.9, b: -inf\n",
      "birth dict: {0: 1}\n",
      "non zero elements in CycleMap: 7\n",
      "non zero elements in CycleMap_masked: 7\n",
      "a: 0.9, b: -inf\n",
      "birth dict: {0: 1}\n",
      "non zero elements in CycleMap: 7\n",
      "non zero elements in CycleMap_masked: 7\n",
      "a: 0.9, b: -inf\n",
      "birth dict: {0: 1}\n",
      "non zero elements in CycleMap: 7\n",
      "non zero elements in CycleMap_masked: 7\n",
      "a: 0.9, b: -inf\n",
      "birth dict: {0: 1}\n",
      "non zero elements in CycleMap: 2\n",
      "non zero elements in CycleMap_masked: 2\n",
      "a: 0.9, b: -inf\n",
      "birth dict: {0: 1}\n",
      "non zero elements in CycleMap: 2\n",
      "non zero elements in CycleMap_masked: 2\n",
      "a: 0.9, b: -inf\n",
      "birth dict: {0: 1}\n",
      "non zero elements in CycleMap: 2\n",
      "non zero elements in CycleMap_masked: 2\n",
      "a: 0.9, b: -inf\n",
      "birth dict: {0: 1}\n",
      "non zero elements in CycleMap: 2\n",
      "non zero elements in CycleMap_masked: 2\n",
      "a: 0.9, b: -inf\n",
      "birth dict: {0: 1}\n",
      "non zero elements in CycleMap: 2\n",
      "non zero elements in CycleMap_masked: 2\n",
      "a: 0.9, b: -inf\n",
      "birth dict: {0: 1}\n",
      "non zero elements in CycleMap: 2\n",
      "non zero elements in CycleMap_masked: 2\n",
      "a: 0.9, b: -inf\n",
      "birth dict: {0: 1}\n",
      "non zero elements in CycleMap: 2\n",
      "non zero elements in CycleMap_masked: 2\n",
      "a: 0.9, b: -inf\n",
      "birth dict: {0: 1}\n",
      "non zero elements in CycleMap: 2\n",
      "non zero elements in CycleMap_masked: 2\n",
      "a: 0.9, b: -inf\n",
      "birth dict: {0: 1}\n",
      "non zero elements in CycleMap: 2\n",
      "non zero elements in CycleMap_masked: 2\n",
      "a: 0.9, b: -inf\n",
      "birth dict: {0: 1}\n",
      "non zero elements in CycleMap: 2\n",
      "non zero elements in CycleMap_masked: 2\n",
      "a: 0.9, b: -inf\n",
      "birth dict: {0: 1}\n",
      "non zero elements in CycleMap: 2\n",
      "non zero elements in CycleMap_masked: 2\n",
      "a: 0.9, b: -inf\n",
      "birth dict: {0: 1}\n",
      "non zero elements in CycleMap: 2\n",
      "non zero elements in CycleMap_masked: 2\n",
      "a: 0.9, b: -inf\n",
      "birth dict: {0: 1}\n",
      "non zero elements in CycleMap: 2\n",
      "non zero elements in CycleMap_masked: 2\n",
      "a: 0.9, b: -inf\n",
      "birth dict: {0: 1}\n",
      "non zero elements in CycleMap: 2\n",
      "non zero elements in CycleMap_masked: 2\n",
      "a: 0.9, b: -inf\n",
      "birth dict: {0: 1}\n",
      "non zero elements in CycleMap: 2\n",
      "non zero elements in CycleMap_masked: 2\n",
      "a: 0.9, b: -inf\n",
      "birth dict: {0: 1}\n",
      "non zero elements in CycleMap: 2\n",
      "non zero elements in CycleMap_masked: 2\n",
      "a: 0.9, b: -inf\n",
      "birth dict: {0: 1}\n",
      "non zero elements in CycleMap: 2\n",
      "non zero elements in CycleMap_masked: 2\n",
      "a: 0.9, b: -inf\n",
      "birth dict: {0: 1}\n",
      "non zero elements in CycleMap: 7\n",
      "non zero elements in CycleMap_masked: 7\n",
      "a: 0.9, b: -inf\n",
      "birth dict: {0: 1}\n",
      "non zero elements in CycleMap: 7\n",
      "non zero elements in CycleMap_masked: 7\n",
      "a: 0.9, b: -inf\n",
      "birth dict: {0: 1}\n",
      "non zero elements in CycleMap: 8\n",
      "non zero elements in CycleMap_masked: 8\n",
      "a: 0.9, b: -inf\n",
      "birth dict: {0: 1}\n",
      "non zero elements in CycleMap: 8\n",
      "non zero elements in CycleMap_masked: 8\n",
      "a: 0.9, b: -inf\n",
      "birth dict: {0: 1}\n",
      "non zero elements in CycleMap: 8\n",
      "non zero elements in CycleMap_masked: 8\n",
      "a: 0.9, b: -inf\n",
      "birth dict: {0: 1}\n",
      "non zero elements in CycleMap: 8\n",
      "non zero elements in CycleMap_masked: 8\n",
      "a: 0.9, b: -inf\n",
      "birth dict: {0: 1}\n",
      "non zero elements in CycleMap: 8\n",
      "non zero elements in CycleMap_masked: 8\n",
      "a: 0.9, b: -inf\n",
      "birth dict: {0: 1}\n",
      "non zero elements in CycleMap: 8\n",
      "non zero elements in CycleMap_masked: 8\n",
      "a: 0.9, b: -inf\n",
      "birth dict: {0: 1}\n",
      "non zero elements in CycleMap: 8\n",
      "non zero elements in CycleMap_masked: 8\n",
      "a: 0.9, b: -inf\n",
      "birth dict: {0: 1}\n",
      "non zero elements in CycleMap: 7\n",
      "non zero elements in CycleMap_masked: 7\n",
      "a: 0.9, b: -inf\n",
      "birth dict: {0: 1}\n",
      "non zero elements in CycleMap: 7\n",
      "non zero elements in CycleMap_masked: 7\n",
      "a: 0.9, b: -inf\n",
      "birth dict: {0: 1}\n",
      "non zero elements in CycleMap: 7\n",
      "non zero elements in CycleMap_masked: 7\n",
      "a: 0.9, b: -inf\n",
      "birth dict: {0: 1}\n",
      "non zero elements in CycleMap: 7\n",
      "non zero elements in CycleMap_masked: 7\n",
      "a: 0.9, b: -inf\n",
      "birth dict: {0: 1}\n",
      "non zero elements in CycleMap: 7\n",
      "non zero elements in CycleMap_masked: 7\n",
      "a: 0.9, b: -inf\n",
      "birth dict: {0: 1}\n",
      "non zero elements in CycleMap: 7\n",
      "non zero elements in CycleMap_masked: 7\n",
      "a: 0.9, b: -inf\n",
      "birth dict: {0: 1}\n",
      "non zero elements in CycleMap: 7\n",
      "non zero elements in CycleMap_masked: 7\n",
      "a: 0.9, b: -inf\n",
      "birth dict: {0: 1}\n",
      "non zero elements in CycleMap: 7\n",
      "non zero elements in CycleMap_masked: 7\n",
      "a: 0.9, b: -inf\n",
      "birth dict: {0: 1}\n",
      "non zero elements in CycleMap: 7\n",
      "non zero elements in CycleMap_masked: 7\n",
      "a: 0.9, b: -inf\n",
      "birth dict: {0: 1}\n",
      "non zero elements in CycleMap: 7\n",
      "non zero elements in CycleMap_masked: 7\n",
      "a: 0.9, b: -inf\n",
      "birth dict: {0: 1}\n",
      "non zero elements in CycleMap: 2\n",
      "non zero elements in CycleMap_masked: 2\n",
      "a: 0.9, b: -inf\n",
      "birth dict: {0: 1}\n",
      "non zero elements in CycleMap: 2\n",
      "non zero elements in CycleMap_masked: 2\n",
      "a: 0.9, b: -inf\n",
      "birth dict: {0: 1}\n",
      "non zero elements in CycleMap: 2\n",
      "non zero elements in CycleMap_masked: 2\n",
      "a: 0.9, b: -inf\n",
      "birth dict: {0: 1}\n",
      "non zero elements in CycleMap: 2\n",
      "non zero elements in CycleMap_masked: 2\n",
      "a: 0.9, b: -inf\n",
      "birth dict: {0: 1}\n",
      "non zero elements in CycleMap: 2\n",
      "non zero elements in CycleMap_masked: 2\n",
      "a: 0.9, b: -inf\n",
      "birth dict: {0: 1}\n",
      "non zero elements in CycleMap: 2\n",
      "non zero elements in CycleMap_masked: 2\n",
      "a: 0.9, b: -inf\n",
      "birth dict: {0: 1}\n",
      "non zero elements in CycleMap: 2\n",
      "non zero elements in CycleMap_masked: 2\n",
      "a: 0.9, b: -inf\n",
      "birth dict: {0: 1}\n",
      "non zero elements in CycleMap: 2\n",
      "non zero elements in CycleMap_masked: 2\n",
      "a: 0.9, b: -inf\n",
      "birth dict: {0: 1}\n",
      "non zero elements in CycleMap: 2\n",
      "non zero elements in CycleMap_masked: 2\n",
      "a: 0.9, b: -inf\n",
      "birth dict: {0: 1}\n",
      "non zero elements in CycleMap: 2\n",
      "non zero elements in CycleMap_masked: 2\n",
      "a: 0.9, b: -inf\n",
      "birth dict: {0: 1}\n",
      "non zero elements in CycleMap: 2\n",
      "non zero elements in CycleMap_masked: 2\n",
      "a: 0.9, b: -inf\n",
      "birth dict: {0: 1}\n",
      "non zero elements in CycleMap: 2\n",
      "non zero elements in CycleMap_masked: 2\n",
      "a: 0.9, b: -inf\n",
      "birth dict: {0: 1}\n",
      "non zero elements in CycleMap: 2\n",
      "non zero elements in CycleMap_masked: 2\n",
      "a: 0.9, b: -inf\n",
      "birth dict: {0: 1}\n",
      "non zero elements in CycleMap: 7\n",
      "non zero elements in CycleMap_masked: 7\n",
      "a: 0.9, b: -inf\n",
      "birth dict: {0: 1}\n",
      "non zero elements in CycleMap: 7\n",
      "non zero elements in CycleMap_masked: 7\n",
      "a: 0.9, b: -inf\n",
      "birth dict: {0: 1}\n",
      "non zero elements in CycleMap: 7\n",
      "non zero elements in CycleMap_masked: 7\n",
      "a: 0.9, b: -inf\n",
      "birth dict: {0: 1}\n",
      "non zero elements in CycleMap: 7\n",
      "non zero elements in CycleMap_masked: 7\n",
      "a: 0.9, b: -inf\n",
      "birth dict: {0: 1}\n",
      "non zero elements in CycleMap: 2\n",
      "non zero elements in CycleMap_masked: 2\n",
      "a: 0.9, b: -inf\n",
      "birth dict: {0: 1}\n",
      "non zero elements in CycleMap: 2\n",
      "non zero elements in CycleMap_masked: 2\n",
      "a: 0.9, b: -inf\n",
      "birth dict: {0: 1}\n",
      "non zero elements in CycleMap: 2\n",
      "non zero elements in CycleMap_masked: 2\n",
      "a: 0.9, b: -inf\n",
      "birth dict: {0: 1}\n",
      "non zero elements in CycleMap: 2\n",
      "non zero elements in CycleMap_masked: 2\n",
      "a: 0.9, b: -inf\n",
      "birth dict: {0: 1}\n",
      "non zero elements in CycleMap: 7\n",
      "non zero elements in CycleMap_masked: 7\n",
      "a: 0.9, b: -inf\n",
      "birth dict: {0: 1}\n",
      "non zero elements in CycleMap: 7\n",
      "non zero elements in CycleMap_masked: 7\n",
      "a: 0.9, b: -inf\n",
      "birth dict: {0: 1}\n",
      "non zero elements in CycleMap: 2\n",
      "non zero elements in CycleMap_masked: 2\n",
      "a: 0.9, b: -inf\n",
      "birth dict: {0: 1}\n",
      "non zero elements in CycleMap: 2\n",
      "non zero elements in CycleMap_masked: 2\n",
      "a: 0.9, b: -inf\n",
      "birth dict: {0: 1}\n",
      "non zero elements in CycleMap: 2\n",
      "non zero elements in CycleMap_masked: 2\n",
      "a: 0.9, b: -inf\n",
      "birth dict: {0: 1}\n",
      "non zero elements in CycleMap: 2\n",
      "non zero elements in CycleMap_masked: 2\n"
     ]
    }
   ],
   "source": [
    "CP.plot_representative_cycles_app(dim=0, plot_birth_and_death=False)"
   ]
  },
  {
   "cell_type": "code",
   "execution_count": 121,
   "metadata": {},
   "outputs": [
    {
     "name": "stdout",
     "output_type": "stream",
     "text": [
      "enumerated intervals: [(0, (0.4, 0.1))]\n",
      "enumerated intervals: [(0, (0.4, 0.1))]\n",
      "edge: 15\n",
      "cycle length: 8\n",
      "birth dict: {24: 1}\n",
      "non zero elements in CycleMap: 8\n",
      "non zero elements in CycleMap_masked: 8\n"
     ]
    },
    {
     "data": {
      "application/vnd.jupyter.widget-view+json": {
       "model_id": "7a6f41248464482bb895a70be7441a38",
       "version_major": 2,
       "version_minor": 0
      },
      "text/plain": [
       "BokehModel(combine_events=True, render_bundle={'docs_json': {'5bb548a4-f80c-4aed-b99f-f9dcbf4029dc': {'defs': …"
      ]
     },
     "execution_count": 121,
     "metadata": {},
     "output_type": "execute_result"
    }
   ],
   "source": [
    "CP.plot_representative_cycles_app(dim=1, plot_birth_and_death=False)"
   ]
  },
  {
   "cell_type": "code",
   "execution_count": 67,
   "metadata": {},
   "outputs": [
    {
     "name": "stdout",
     "output_type": "stream",
     "text": [
      "shape test: (4, 4)\n",
      "shape test: (1, 4)\n",
      "max vlaues tensor([0.9000, 1.0000, 0.0000, 0.9300], dtype=torch.float64)\n",
      "max indices tensor([1, 3, 0, 0])\n",
      "num edges: 24\n",
      "num cubes: 49\n",
      "compute dim 0\n",
      "birth uf is false\n"
     ]
    }
   ],
   "source": [
    "test = np.array([\n",
    "    [0.8, 0.9, 0, 0],\n",
    "    [0.3, 0, 0, 1.0],\n",
    "    [0,0,0, 0],\n",
    "    [0.93, 0.88, 0, 0.4]\n",
    "])\n",
    "\n",
    "print(f\"shape test: {test.shape}\")\n",
    "\n",
    "test = torch.from_numpy(test)\n",
    "\n",
    "maxis_value, maxis_indices = torch.max(test,dim=1)\n",
    "\n",
    "print(f\"max vlaues {maxis_value}\")\n",
    "print(f\"max indices {maxis_indices}\")\n",
    "\n",
    "\n",
    "CP_test = CubicalPersistence(test, relative=False, reduced=False, filtration='superlevel', construction='V', )"
   ]
  },
  {
   "cell_type": "markdown",
   "metadata": {},
   "source": [
    "## Sharpening Functions"
   ]
  },
  {
   "cell_type": "code",
   "execution_count": 175,
   "metadata": {},
   "outputs": [],
   "source": [
    "def sharpening(x_softmax: torch.Tensor, alpha: float=1.0):\n",
    "    \"\"\"\n",
    "        Sharpening of the softmax output. \n",
    "        params:\n",
    "            x_softmax: torch.Tensor, shape (num_classes, height, width)\n",
    "            alpha: float, >= 1\n",
    "        returns:\n",
    "            torch.Tensor, shape (num_classes, height, width)\n",
    "    \"\"\"\n",
    "    x_softmax = x_softmax.pow(alpha)\n",
    "    print(f\"x_softmax before normalization: {x_softmax}\")\n",
    "\n",
    "    return x_softmax / torch.sum(x_softmax, dim=0)\n",
    "\n",
    "\n",
    "def temperature_scaling(x_softmax: torch.Tensor, temperature: float=0.2):\n",
    "    \"\"\"\n",
    "        Temperature scaling of the softmax output. \n",
    "        params:\n",
    "            x_softmax: torch.Tensor, shape (num_classes, height, width)\n",
    "            temperature: float\n",
    "        returns:\n",
    "            torch.Tensor, shape (num_classes, height, width)\n",
    "    \"\"\"\n",
    "    print(f\"x_softmax before normalization temp: {x_softmax / temperature}\")\n",
    "\n",
    "    return torch.softmax(x_softmax / temperature, dim=0)\n",
    "\n",
    "\n",
    "def smoothing_test(x_softmax: torch.Tensor, likelyhood: torch.Tensor, alpha: float=0.5):\n",
    "    x_softmax = alpha * x_softmax + (1- alpha) * x_softmax * likelyhood\n",
    "    return x_softmax / torch.sum(x_softmax, dim=0)\n",
    "\n",
    "\n",
    "def smoothing_test2(x_softmax: torch.Tensor, likelyhood: torch.Tensor, scale: float=1):\n",
    "    x_softmax = x_softmax * likelyhood * scale\n",
    "    sum = torch.sum(x_softmax, dim=0)\n",
    "    print(f\"shape sum {sum.shape}\")\n",
    "    return x_softmax / sum\n",
    "\n",
    "\n",
    "def likelyhood_scaling(x_softmax: torch.Tensor, likelyhood: torch.Tensor, scale: float=1, sum=False):\n",
    "    x_softmax = x_softmax / (1-likelyhood) * scale\n",
    "    if sum:\n",
    "        return x_softmax / torch.sum(x_softmax, dim=0)\n",
    "    return torch.softmax(x_softmax, dim=0)\n",
    "\n",
    "\n",
    "def likelyhood_temperature_scaling(x_softmax: torch.Tensor, likelyhood: torch.Tensor, alpha: float=1.0, beta: float=0.0):\n",
    "    x_softmax = x_softmax / (1-likelyhood) * alpha + torch.softmax(x_softmax, dim=0) * beta\n",
    "\n",
    "    return x_softmax / torch.sum(x_softmax, dim=0)\n",
    "\n"
   ]
  },
  {
   "cell_type": "code",
   "execution_count": 101,
   "metadata": {},
   "outputs": [],
   "source": [
    "random_tensor = torch.randn((3,3,3))"
   ]
  },
  {
   "cell_type": "code",
   "execution_count": 183,
   "metadata": {},
   "outputs": [
    {
     "name": "stdout",
     "output_type": "stream",
     "text": [
      "original tensor: tensor([[[0.6566, 0.5403, 0.4340],\n",
      "         [0.5062, 0.6756, 0.4268],\n",
      "         [0.2402, 0.4993, 0.0563]],\n",
      "\n",
      "        [[0.1754, 0.1745, 0.4717],\n",
      "         [0.1644, 0.0653, 0.2835],\n",
      "         [0.1967, 0.1659, 0.8818]],\n",
      "\n",
      "        [[0.1680, 0.2853, 0.0943],\n",
      "         [0.3294, 0.2591, 0.2897],\n",
      "         [0.5631, 0.3348, 0.0618]]])\n",
      "new tensor: tensor([[[0.4710, 0.4199, 0.3713],\n",
      "         [0.4049, 0.4784, 0.3719],\n",
      "         [0.2930, 0.4019, 0.2137]],\n",
      "\n",
      "        [[0.2658, 0.2693, 0.3879],\n",
      "         [0.2662, 0.2267, 0.3128],\n",
      "         [0.2769, 0.2669, 0.5708]],\n",
      "\n",
      "        [[0.2632, 0.3108, 0.2408],\n",
      "         [0.3289, 0.2949, 0.3153],\n",
      "         [0.4301, 0.3312, 0.2155]]])\n"
     ]
    }
   ],
   "source": [
    "likelyhood = torch.full((3,3,3), 0.1)\n",
    "likelyhood[0][0][2] = 0.1\n",
    "likelyhood[1][0][2] = 0.1\n",
    "softmax = torch.softmax(random_tensor, dim=0)\n",
    "\n",
    "print(f\"original tensor: {softmax}\")\n",
    "# print(f\"new tensor: {smoothing_test(softmax, likelyhood, alpha=0.2)}\")\n",
    "print(f\"new tensor: {likelyhood_temperature_scaling(softmax, likelyhood, alpha=0.1, beta=0.9)}\")\n",
    "\n",
    "# print(f\"new tensor: {smoothing_test2(softmax, likelyhood, scale=1)}\")\n"
   ]
  },
  {
   "cell_type": "code",
   "execution_count": 78,
   "metadata": {},
   "outputs": [
    {
     "name": "stdout",
     "output_type": "stream",
     "text": [
      "x_softmax before normalization: tensor([[[0.0010, 0.0481, 0.3417],\n",
      "         [0.0266, 0.0047, 0.3053],\n",
      "         [0.1564, 0.0286, 0.0064]],\n",
      "\n",
      "        [[0.7188, 0.0355, 0.0704],\n",
      "         [0.1253, 0.4443, 0.0713],\n",
      "         [0.2185, 0.0215, 0.1199]],\n",
      "\n",
      "        [[0.0145, 0.3508, 0.0225],\n",
      "         [0.2334, 0.0702, 0.0326],\n",
      "         [0.0188, 0.4683, 0.3293]]])\n",
      "x_softmax before normalization temp: tensor([[[0.1580, 1.0969, 2.9228],\n",
      "         [0.8148, 0.3425, 2.7628],\n",
      "         [1.9771, 0.8458, 0.3992]],\n",
      "\n",
      "        [[4.2392, 0.9416, 1.3268],\n",
      "         [1.7696, 3.3329, 1.3348],\n",
      "         [2.3373, 0.7327, 1.7316]],\n",
      "\n",
      "        [[0.6028, 2.9615, 0.7504],\n",
      "         [2.4156, 1.3247, 0.9025],\n",
      "         [0.6856, 3.4215, 2.8691]]])\n",
      "original tensor([[[0.0316, 0.2194, 0.5846],\n",
      "         [0.1630, 0.0685, 0.5526],\n",
      "         [0.3954, 0.1692, 0.0798]],\n",
      "\n",
      "        [[0.8478, 0.1883, 0.2654],\n",
      "         [0.3539, 0.6666, 0.2670],\n",
      "         [0.4675, 0.1465, 0.3463]],\n",
      "\n",
      "        [[0.1206, 0.5923, 0.1501],\n",
      "         [0.4831, 0.2649, 0.1805],\n",
      "         [0.1371, 0.6843, 0.5738]]])\n",
      "temperatur: tensor([[[0.0162, 0.1203, 0.7595],\n",
      "         [0.1169, 0.0424, 0.7166],\n",
      "         [0.3692, 0.0665, 0.0602]],\n",
      "\n",
      "        [[0.9586, 0.1030, 0.1540],\n",
      "         [0.3037, 0.8442, 0.1718],\n",
      "         [0.5293, 0.0594, 0.2282]],\n",
      "\n",
      "        [[0.0253, 0.7766, 0.0865],\n",
      "         [0.5794, 0.1133, 0.1115],\n",
      "         [0.1015, 0.8741, 0.7116]]])\n",
      "softmax softmax: tensor([[[0.0014, 0.1108, 0.7862],\n",
      "         [0.0689, 0.0090, 0.7462],\n",
      "         [0.3972, 0.0552, 0.0140]],\n",
      "\n",
      "        [[0.9788, 0.0816, 0.1620],\n",
      "         [0.3252, 0.8558, 0.1742],\n",
      "         [0.5551, 0.0414, 0.2633]],\n",
      "\n",
      "        [[0.0198, 0.8076, 0.0518],\n",
      "         [0.6059, 0.1352, 0.0796],\n",
      "         [0.0478, 0.9034, 0.7227]]])\n"
     ]
    }
   ],
   "source": [
    "\n",
    "import torch\n",
    "\n",
    "torch.set_printoptions(sci_mode=False)\n",
    "\n",
    "random_tensor = torch.randn((3,3,3))\n",
    "alpha = 0.5\n",
    "\n",
    "softmax = torch.nn.functional.softmax(random_tensor, dim=0)\n",
    "\n",
    "max_values, max_indices = torch.max(softmax, dim=0)\n",
    "# print(f\"max_values: {max_values}\")\n",
    "# print(f\"max_indices: {max_indices}\")\n",
    "\n",
    "max_values_one_hot = alpha * torch.zeros_like(softmax).scatter_(0, max_indices.unsqueeze(0), max_values.unsqueeze(0))\n",
    "\n",
    "\n",
    "# print(f\"max value shape: {max_values_one_hot.shape}\")\n",
    "# print(f\"max values one hot: {max_values_one_hot}\")\n",
    "\n",
    "# new_softmax = softmax - max_values_one_hot + (torch.sum(max_values_one_hot, dim=0)/softmax.shape[0]).unsqueeze(0)\n",
    "\n",
    "# print(f\"new_softmax {new_softmax}\")\n",
    "# print(f\"shape new softamx {new_softmax.shape}\")\n",
    "\n",
    "# print(f\"test new_softmax: {torch.sum(new_softmax, dim=0)}\")\n",
    "\n",
    "new_softmax = sharpening(softmax, 2)\n",
    "temp_softmax = temperature_scaling(softmax, 0.2)\n",
    "\n",
    "print(f\"original {softmax}\")\n",
    "# print(f\"sharpening: {new_softmax}\")\n",
    "print(f\"temperatur: {temp_softmax}\")\n",
    "print(f\"softmax softmax: {new_softmax}\")\n",
    "\n",
    "\n"
   ]
  },
  {
   "cell_type": "code",
   "execution_count": 122,
   "metadata": {},
   "outputs": [
    {
     "name": "stdout",
     "output_type": "stream",
     "text": [
      "tensor([0.4306, 0.2989, 0.2705])\n"
     ]
    }
   ],
   "source": [
    "t = torch.Tensor([0.465, 0.1, 0.0])\n",
    "print(torch.softmax(t, dim=0))"
   ]
  },
  {
   "cell_type": "code",
   "execution_count": 36,
   "metadata": {},
   "outputs": [
    {
     "data": {
      "text/plain": [
       "[[(1.0, -inf), (0.4, 0.0), (0.93, 0.0), (0.9, 0.0)], []]"
      ]
     },
     "execution_count": 36,
     "metadata": {},
     "output_type": "execute_result"
    }
   ],
   "source": [
    "CP_test.get_intervals(refined=False)"
   ]
  },
  {
   "cell_type": "code",
   "execution_count": 37,
   "metadata": {},
   "outputs": [
    {
     "data": {
      "image/png": "[encoded data removed]",
      "text/plain": [
       "<Figure size 400x400 with 1 Axes>"
      ]
     },
     "metadata": {},
     "output_type": "display_data"
    }
   ],
   "source": [
    "CP_test.plot_image()"
   ]
  },
  {
   "cell_type": "code",
   "execution_count": 38,
   "metadata": {},
   "outputs": [
    {
     "data": {
      "image/png": "[encoded data removed]",
      "text/plain": [
       "<Figure size 480x480 with 1 Axes>"
      ]
     },
     "metadata": {},
     "output_type": "display_data"
    }
   ],
   "source": [
    "CP_test.BarCode()"
   ]
  },
  {
   "cell_type": "code",
   "execution_count": 55,
   "metadata": {},
   "outputs": [
    {
     "name": "stdout",
     "output_type": "stream",
     "text": [
      "CycleMap: [[1. 1. 0. 0.]\n",
      " [0. 0. 0. 2.]\n",
      " [0. 0. 0. 0.]\n",
      " [0. 0. 0. 3.]]\n"
     ]
    },
    {
     "data": {
      "image/png": "[encoded data removed]",
      "text/plain": [
       "<Figure size 600x600 with 1 Axes>"
      ]
     },
     "execution_count": 55,
     "metadata": {},
     "output_type": "execute_result"
    }
   ],
   "source": [
    "CP_test.plot_representative_cycles(dim=0, intervals=3, threshold=0.7)"
   ]
  },
  {
   "cell_type": "code",
   "execution_count": 50,
   "metadata": {},
   "outputs": [
    {
     "data": {
      "text/plain": [
       "array([[0.8 , 0.9 , 0.  , 0.  ],\n",
       "       [0.3 , 0.  , 0.  , 1.  ],\n",
       "       [0.  , 0.  , 0.  , 0.  ],\n",
       "       [0.93, 0.88, 0.  , 0.4 ]])"
      ]
     },
     "execution_count": 50,
     "metadata": {},
     "output_type": "execute_result"
    }
   ],
   "source": [
    "CP_test.PixelMap"
   ]
  },
  {
   "cell_type": "markdown",
   "metadata": {},
   "source": [
    "## PseudoGTGenerator Test"
   ]
  },
  {
   "cell_type": "markdown",
   "metadata": {},
   "source": [
    "## BettiMatching class\n",
    "\n",
    "It computes the Betti matching between two images.\n",
    "\n",
    "input:\n",
    "- Picture_0 = Image_0 (numpy array / torch tensor)\n",
    "\n",
    "- Picture_1 = Image_1 (numpy array / torch tensor of same shape as Image_0)\n",
    "\n",
    "- relative = True / False: \n",
    "\n",
    "    'True' adds a boundary to the image to increase topological complexity\n",
    "\n",
    "- reduced = True / False: \n",
    "\n",
    "    'True' computes reduced homology (ignores the essential interval in dimension 0)\n",
    "\n",
    "- filtration = 'sublevel' / 'superlevel': \n",
    "\n",
    "    uses the sublevel / superlevel filtration\n",
    "\n",
    "- construction = 'V' / 'T': \n",
    "\n",
    "    uses the V- / T- construction to generate the cubical complex\n",
    "\n",
    "- comparison = 'union' / 'intersection':\n",
    "\n",
    "    uses the union / intersection as comparison image"
   ]
  },
  {
   "cell_type": "code",
   "execution_count": null,
   "metadata": {},
   "outputs": [],
   "source": [
    "BM = BettiMatching(lh,gt, relative=False, reduced=False, filtration='superlevel', construction='V', comparison='union')"
   ]
  },
  {
   "cell_type": "markdown",
   "metadata": {},
   "source": [
    "### BettiMatching allows to:\n",
    "- plot the images:\n",
    "\n",
    "    input:\n",
    "    \n",
    "    - plot_comparison = True / False:\n",
    "\n",
    "        True additionally plots the comparison image"
   ]
  },
  {
   "cell_type": "code",
   "execution_count": null,
   "metadata": {},
   "outputs": [],
   "source": [
    "BM.plot_images(plot_comparison=True)"
   ]
  },
  {
   "cell_type": "markdown",
   "metadata": {},
   "source": [
    "- get the Betti matching:\n",
    "\n",
    "    input:\n",
    "    - refined = True / False:\n",
    "\n",
    "        True outputs refined persistent intervals\n",
    "\n",
    "    output:\n",
    "    - list of length 2:\n",
    "        \n",
    "        $[\\text{list of matched intervals in dimension }0,\\text{list of matched intervals in dimension }1]$\n",
    "\n",
    "        Matched intervals are given as tripels $(\\text{interval of Image\\_}0,\\text{interval of comparison image},\\text{interval of Image\\_}1)$.\n",
    "        \n",
    "    - list of length 2:\n",
    "\n",
    "        $[\\text{list of unmatched intervals of Image\\_}0\\text{ in dimension }0,\\text{list of unmatched intervals of Image\\_}0\\text{ in dimension 1}]$\n",
    "\n",
    "    - list of length 2\n",
    "\n",
    "        $[\\text{list of unmatched intervals of Image\\_}1\\text{ in dimension }0,\\text{list of unmatched intervals of Image\\_}1\\text{ in dimension 1}]$"
   ]
  },
  {
   "cell_type": "code",
   "execution_count": null,
   "metadata": {},
   "outputs": [],
   "source": [
    "BM.get_matching()"
   ]
  },
  {
   "cell_type": "markdown",
   "metadata": {},
   "source": [
    "- get the Betti matching loss:\n",
    "\n",
    "    input:\n",
    "    - dimensions = $[0]$ / $[1]$ / $[0,1]$:\n",
    "\n",
    "        computes the Betti matching loss in dimension $0$ / $1$ / the sum of both\n",
    "\n",
    "    output:\n",
    "    - $l_\\text{BM}(\\text{Image\\_}0,\\text{Image\\_}1)$"
   ]
  },
  {
   "cell_type": "code",
   "execution_count": null,
   "metadata": {},
   "outputs": [],
   "source": [
    "print(BM.loss(dimensions=[0]))\n",
    "print(BM.loss(dimensions=[1]))\n",
    "print(BM.loss(dimensions=[0,1]))"
   ]
  },
  {
   "cell_type": "markdown",
   "metadata": {},
   "source": [
    "- get the Betti number error:\n",
    "\n",
    "    input:\n",
    "    - threshold = $t \\in \\mathbb{R}$:\n",
    "\n",
    "        compute the Betti number error of the cubical complexes consisting of all cells with values $\\leq t$ (sublevel filtration) / $\\geq t$ (superlevel filtration)\n",
    "\n",
    "    - dimensions = $[0]$ / $[1]$ / $[0,1]$:\n",
    "\n",
    "        computes the Betti number error in dimension $0$ / $1$ / the sum of both\n",
    "\n",
    "    output:\n",
    "    - $\\beta^\\text{err}(\\text{Image\\_}0,\\text{Image\\_}1)$"
   ]
  },
  {
   "cell_type": "code",
   "execution_count": null,
   "metadata": {},
   "outputs": [],
   "source": [
    "print(BM.Betti_number_error(threshold=0.5, dimensions=[0]))\n",
    "print(BM.Betti_number_error(threshold=0.5, dimensions=[1]))\n",
    "print(BM.Betti_number_error(threshold=0.5, dimensions=[0,1]))"
   ]
  },
  {
   "cell_type": "markdown",
   "metadata": {},
   "source": [
    "- plot the persistence barcodes of the images:\n",
    "    \n",
    "    input:\n",
    "    - plot_comparison = True / False:\n",
    "\n",
    "        True additionally plots the barcode of the comparison image\n",
    "\n",
    "    Intervals of Image_0 are colored red, intervals of Image_1 are colored blue and intervals of the comparison image are colored in green.\n",
    "\n",
    "    A red interval is matched to a blue interval if there is a green interval in between."
   ]
  },
  {
   "cell_type": "code",
   "execution_count": null,
   "metadata": {},
   "outputs": [],
   "source": [
    "BM.BarCode(plot_comparison=True)"
   ]
  },
  {
   "cell_type": "markdown",
   "metadata": {},
   "source": [
    "- plot the representative cycles of matched intervals inside the images:\n",
    "\n",
    "    input:\n",
    "    - dim = $d$ $\\in \\{0,1\\}$: \n",
    "    \n",
    "        plot representative cycles of matches in dimension $d$\n",
    "\n",
    "    - matches = $n \\in \\{1,...,6\\}$ / $[n_1,...,n_k]$ (list of nonnegative integers of length at most 6): \n",
    "    \n",
    "        plots the representative cycles of $n$ random matches / the matches $n_1,...,n_k$\n",
    "\n",
    "    - threshold_0 = $t \\in \\mathbb{R}$: \n",
    "    \n",
    "        plots the pixels of representative cycle of Image_0 with values $\\leq t$ (sublevel filtration) / $\\geq t$ (superlevel filtration)\n",
    "\n",
    "    - threshold_comp = $t \\in \\mathbb{R}$: \n",
    "    \n",
    "        plots the pixels of representative cycle of the comparison image with values $\\leq t$ (sublevel filtration) / $\\geq t$ (superlevel filtration)\n",
    "\n",
    "    - threshold_1 = $t \\in \\mathbb{R}$: \n",
    "    \n",
    "        plots the pixels of representative cycle of Image_1 with values $\\leq t$ (sublevel filtration) / $\\geq t$ (superlevel filtration)\n",
    "\n",
    "    - plot_birth_and_death = True / False: \n",
    "    \n",
    "        True marks the critical pixels that create and kill the interval (birth: green star, death: red cross)\n",
    "\n",
    "    - plot_comparison = True / False:\n",
    "\n",
    "        True additionally plots the comparison image"
   ]
  },
  {
   "cell_type": "code",
   "execution_count": null,
   "metadata": {},
   "outputs": [],
   "source": [
    "BM.plot_representative_cycles(dim=0, matches=4, threshold_0=0.5, threshold_comp=0.5, threshold_1=0.5, plot_birth_and_death=True, plot_comparison=False)"
   ]
  },
  {
   "cell_type": "code",
   "execution_count": null,
   "metadata": {},
   "outputs": [],
   "source": [
    "BM.plot_representative_cycles(dim=1, matches=[1], threshold_0=0.5, threshold_comp=0.5, threshold_1=0.5, plot_birth_and_death=False, plot_comparison=True)"
   ]
  },
  {
   "cell_type": "markdown",
   "metadata": {},
   "source": [
    "- produce an interactive plot of the representative cycles of matched intervals inside the image:\n",
    "    \n",
    "    input:\n",
    "    - dim = $d \\in \\{0,1\\}$: \n",
    "    \n",
    "        plot representative cycles in dimension $d$\n",
    "\n",
    "    - plot_birth_and_death = True / False: \n",
    "    \n",
    "        True marks the critical pixels that create and kill the interval (birth: green star, death: red cross)\n",
    "\n",
    "    - plot_comparison = True / False:\n",
    "\n",
    "        True additionally plots the comparison image\n",
    "\n",
    "    The slider \"match\" allows to choose a match and see its corresponding representative cycles.\n",
    "\n",
    "    The sliders \"threshold_0\", \"threshold_comp\" and \"threshold_1\" allow to adapt the threshold value $t$, so that pixels with a value $\\leq t$ (sublevel filtration) / $\\geq t$ (superlevel filtration) are ploted.\n",
    "\n",
    "    Cycles are colored in green if the interval represented by the cycle contains the threshold $t$. In other words: The cycle is green if it is alive and red if it is dead at threshold $t$."
   ]
  },
  {
   "cell_type": "code",
   "execution_count": null,
   "metadata": {},
   "outputs": [],
   "source": [
    "BM.plot_representative_cycles_app(dim=0, plot_birth_and_death=False, plot_comparison=True)"
   ]
  },
  {
   "cell_type": "code",
   "execution_count": null,
   "metadata": {},
   "outputs": [],
   "source": [
    "BM.plot_representative_cycles_app(dim=1, plot_birth_and_death=True, plot_comparison=False)"
   ]
  },
  {
   "cell_type": "markdown",
   "metadata": {},
   "source": [
    "## 3.) Improvements of Betti matching over Wasserstein Matching during training"
   ]
  },
  {
   "cell_type": "code",
   "execution_count": null,
   "metadata": {},
   "outputs": [],
   "source": [
    "lh = np.array([[0.01,0.12,0.07,0.08,0.04,0.21,0.15,0.12,0.08],\n",
    "               [0.05,0.99,0.85,0.79,0.15,0.11,0.05,0.09,0.13],\n",
    "               [0.14,0.81,0.05,0.91,0.09,0.03,0.21,0.13,0.17],\n",
    "               [0.19,0.95,0.89,0.94,0.02,0.18,0.12,0.23,0.07],\n",
    "               [0.25,0.19,0.12,0.05,0.14,0.08,0.22,0.13,0.03],\n",
    "               [0.23,0.25,0.01,0.12,0.23,0.98,0.92,0.81,0.09],\n",
    "               [0.13,0.11,0.04,0.09,0.14,0.91,0.04,0.83,0.13],\n",
    "               [0.06,0.05,0.16,0.23,0.17,0.81,0.79,0.89,0.05],\n",
    "               [0.03,0.05,0.12,0.16,0.23,0.17,0.06,0.14,0.03]])\n",
    "\n",
    "gt = np.array([[   0,   0,   0,   0,   0,   0,   0,   0,  0],\n",
    "               [   0,   1,   1,   1,   0,   0,   0,   0,  0],\n",
    "               [   0,   1,   0,   1,   0,   0,   0,   0,  0],\n",
    "               [   0,   1,   1,   1,   0,   0,   0,   0,  0],\n",
    "               [   0,   0,   0,   0,   0,   0,   0,   0,  0],\n",
    "               [   0,   0,   0,   0,   0,   1,   1,   1,  0],\n",
    "               [   0,   0,   0,   0,   0,   1,   0,   0,  0],\n",
    "               [   0,   0,   0,   0,   0,   1,   0,   0,  0],\n",
    "               [   0,   0,   0,   0,   0,   0,   0,   0,  0]])"
   ]
  },
  {
   "cell_type": "code",
   "execution_count": null,
   "metadata": {},
   "outputs": [],
   "source": [
    "BM = BettiMatching(lh,gt, filtration='superlevel')\n",
    "WM = WassersteinMatching(lh, gt, filtration='superlevel')"
   ]
  },
  {
   "cell_type": "markdown",
   "metadata": {},
   "source": [
    "A segmentation with a significant topological error on the bottom right of the image:"
   ]
  },
  {
   "cell_type": "code",
   "execution_count": null,
   "metadata": {},
   "outputs": [],
   "source": [
    "BM.plot_images()"
   ]
  },
  {
   "cell_type": "markdown",
   "metadata": {},
   "source": [
    "Let $L$ denote the likelihood map and $G$ the ground truth segmentation.\n",
    "\n",
    "The two obvious cycles in $L$ are represented by points in the persistence diagrams $\\text{Dgm}(L)$."
   ]
  },
  {
   "cell_type": "code",
   "execution_count": null,
   "metadata": {},
   "outputs": [],
   "source": [
    "BM.CP_0.plot_representative_cycles(intervals=[2,3], plot_birth_and_death=True)"
   ]
  },
  {
   "cell_type": "markdown",
   "metadata": {},
   "source": [
    "Let $x=(x_1,x_2) \\in \\text{Dgm}(L)$ be the point corresponding to the red cycle and $y=(y_1,y_2) \\in \\text{Dgm}(L)$ the point corresponding to the blue cycle.\n",
    "\n",
    "Then $x_1,y_1$ are defined by the value of the pixel marked with a red cross inside the respective cycle and $x_2,y_2$ are defined by the value of the pixel marked with a green star on the respective cycle."
   ]
  },
  {
   "cell_type": "code",
   "execution_count": null,
   "metadata": {},
   "outputs": [],
   "source": [
    "BM.plot_representative_cycles()"
   ]
  },
  {
   "attachments": {},
   "cell_type": "markdown",
   "metadata": {},
   "source": [
    "The Betti matching $\\mu(L,G)$ correctly matches the top-left cycle in $L$ with the top-left cycle in $G$ (represented by $(0,1) \\in \\text{Dgm}(G)$) and leaves the bottom-right cycle in $L$ unmatched.\n",
    "\n",
    "Hence, it maps the point $x$ to $(0,1)$ and $y$ to its closest point $(\\frac{y_1+y_2}{2},\\frac{y_1+y_2}{2})$ on the diagonal $\\Delta := \\{(x,x) \\mid x \\in \\mathbb{R}\\}$.\n",
    "\n",
    "Therefore, the gradient of the Betti matching loss \n",
    "\n",
    "$l_{\\text{BM}}(L,G) = \\sum_{q \\in \\text{Dgm}(L)} 2\\Vert q - \\mu(L,G)(q) \\Vert_2^2 = \\sum_{q \\in \\text{Dgm}(L)} 2(q_1-\\mu(L,G)(q)_1)^2 + 2(q_2-\\mu(L,G)(q)_2)^2$\n",
    "\n",
    "enforces the segmentation network to \n",
    "- move the point $x$ closer to $(0,1)$;\n",
    "- move the point $y$ closer to $(\\frac{y_1+y_2}{2},\\frac{y_1+y_2}{2})$;\n",
    "\n",
    "to reduce the total loss.\n",
    "\n",
    "This can only be achieved by\n",
    "- decreasing $x_1$ and increasing $x_2$;\n",
    "- increasing $y_1$ and decreasing $y_2$.\n",
    "\n",
    "Considering again which pixel-values determine the points $x$ and $y$, we observe that this will\n",
    "- increase the local contrast of the top-left cycle in $L$;\n",
    "- decrease the local contrast of the bottom-right cycle in $G$."
   ]
  },
  {
   "cell_type": "markdown",
   "metadata": {},
   "source": [
    "This leads to a topological improvement of the segmentation since the ground truth states that the top-left cycle should exist and the bottom-right cycle should not."
   ]
  },
  {
   "cell_type": "code",
   "execution_count": null,
   "metadata": {},
   "outputs": [],
   "source": [
    "WM.plot_representative_cycles()"
   ]
  },
  {
   "cell_type": "markdown",
   "metadata": {},
   "source": [
    "In contrast, the Wasserstein matching matches the bottom-right cycle in $L$ with the top-left cycle in $G$ and leaves the top-left cycle in $L$ unmatched.\n",
    "\n",
    "Following the same logic as before, the gradient of the Wasserstein loss enforces the segmentation network to\n",
    "- increase the local contrast of the bottom-right cycle (since it is matched);\n",
    "- reduce the contrast of the top-left cycle (since it is unmatched). \n",
    "\n",
    "This even amplifies the topological error of the segmentation."
   ]
  },
  {
   "cell_type": "markdown",
   "metadata": {},
   "source": [
    "## 4.) Betti matching error as refined Betti number error"
   ]
  },
  {
   "cell_type": "code",
   "execution_count": null,
   "metadata": {},
   "outputs": [],
   "source": [
    "pr = np.array([[0,0,0,0,0,0,0,0,0],\n",
    "               [0,0,0,0,0,1,1,1,0],\n",
    "               [0,0,0,0,0,1,0,1,0],\n",
    "               [0,0,0,0,0,1,1,1,0],\n",
    "               [0,0,0,0,0,0,0,0,0],\n",
    "               [0,1,1,1,0,0,0,0,0],\n",
    "               [0,1,0,1,0,0,0,0,0],\n",
    "               [0,1,1,1,0,0,0,0,0],\n",
    "               [0,0,0,0,0,0,0,0,0]])\n",
    "\n",
    "gt = np.array([[0,0,0,0,0,0,0,0,0],\n",
    "               [0,1,1,1,0,0,0,0,0],\n",
    "               [0,1,0,1,0,0,0,0,0],\n",
    "               [0,1,1,1,0,0,0,0,0],\n",
    "               [0,0,0,0,0,0,0,0,0],\n",
    "               [0,0,0,0,0,1,1,1,0],\n",
    "               [0,0,0,0,0,1,0,1,0],\n",
    "               [0,0,0,0,0,1,1,1,0],\n",
    "               [0,0,0,0,0,0,0,0,0]])"
   ]
  },
  {
   "cell_type": "code",
   "execution_count": null,
   "metadata": {},
   "outputs": [],
   "source": [
    "BM = BettiMatching(pr, gt, filtration='superlevel')\n",
    "WM = WassersteinMatching(pr, gt, filtration='superlevel')"
   ]
  },
  {
   "cell_type": "markdown",
   "metadata": {},
   "source": [
    "A binarized prediction $P$ (left) which correctly predicts two cycles, but the location inside the image is completely off given the ground truth $G$ (right):"
   ]
  },
  {
   "cell_type": "code",
   "execution_count": null,
   "metadata": {},
   "outputs": [],
   "source": [
    "BM.plot_images()"
   ]
  },
  {
   "cell_type": "markdown",
   "metadata": {},
   "source": [
    "The Betti number error fails to detect the mistake, since it only compares the number of features in both images:"
   ]
  },
  {
   "cell_type": "code",
   "execution_count": null,
   "metadata": {},
   "outputs": [],
   "source": [
    "BM.Betti_number_error(dimensions=[1])"
   ]
  },
  {
   "cell_type": "markdown",
   "metadata": {},
   "source": [
    "Whereas the Betti matching error takes the spatial correspondance into account, by considering both images embeded into a comparison image, and therefore detects the mistake:"
   ]
  },
  {
   "cell_type": "code",
   "execution_count": null,
   "metadata": {},
   "outputs": [],
   "source": [
    "BM.loss(dimensions=[1])"
   ]
  },
  {
   "cell_type": "markdown",
   "metadata": {},
   "source": [
    "All four $1$-cycles in $P$ and $G$ are unmatched:"
   ]
  },
  {
   "cell_type": "code",
   "execution_count": null,
   "metadata": {},
   "outputs": [],
   "source": [
    "BM.get_matching()"
   ]
  },
  {
   "cell_type": "code",
   "execution_count": null,
   "metadata": {},
   "outputs": [],
   "source": [
    "BM.plot_representative_cycles()"
   ]
  },
  {
   "attachments": {},
   "cell_type": "markdown",
   "metadata": {},
   "source": [
    "They are all represented by $(0,1)$ in their persistent diagram and get mapped to $(\\frac{1}{2},\\frac{1}{2})$ under the Betti matching $\\mu(P,G)$ since they are unmatched.\n",
    "\n",
    "Hence they contribute with $(0-\\frac{1}{2})^2+(1-\\frac{1}{2})^2 = \\frac{1}{2}$ to the Betti matching loss $L_{\\text{TM}}(L,G) = \\sum_{q \\in \\text{Dgm}(L)} \\Vert q - \\mu(L,G)(q) \\Vert_2^2$."
   ]
  },
  {
   "cell_type": "markdown",
   "metadata": {},
   "source": [
    "The Wasserstein Matching randomly matches the features in dimension $1$:"
   ]
  },
  {
   "cell_type": "code",
   "execution_count": null,
   "metadata": {},
   "outputs": [],
   "source": [
    "WM.plot_representative_cycles()"
   ]
  },
  {
   "cell_type": "markdown",
   "metadata": {},
   "source": [
    "So its corresponding loss also fails to detect the mistake:"
   ]
  },
  {
   "cell_type": "code",
   "execution_count": null,
   "metadata": {},
   "outputs": [],
   "source": [
    "WM.loss(dimensions=[1])"
   ]
  },
  {
   "cell_type": "markdown",
   "metadata": {},
   "source": [
    "## 5.) Training examples"
   ]
  },
  {
   "cell_type": "markdown",
   "metadata": {},
   "source": [
    "### Cremi"
   ]
  },
  {
   "cell_type": "code",
   "execution_count": null,
   "metadata": {},
   "outputs": [],
   "source": [
    "# Choose image:\n",
    "example = '0114'\n",
    "\n",
    "# Choose area of interest:\n",
    "m_0, m_1 = (0,300)\n",
    "n_0, n_1 = (0,300)\n",
    "\n",
    "# Choose model:\n",
    "model = load_model('models/cremi/DiceTopoMatch_relative_True_bothlevel_alpha_0.005/last_model_DiceTopo0.005-bothlevel_dict.pth')\n",
    "\n",
    "# Load image and ground truth:\n",
    "data_path = os.getcwd()+'/data_examples/CREMI'\n",
    "img = imageio.imread(data_path+'/images/image_'+example+'.png')\n",
    "seg = imageio.imread(data_path+'/labels/label_'+example+'.png')\n",
    "seg = np.array(seg, dtype=float)/255\n",
    "\n",
    "# Compute prediction:\n",
    "input = torchvision.transforms.functional.to_tensor(np.array(img))\n",
    "img = img[:304,:304]\n",
    "input = input.unsqueeze(0)[:,:,:304,:304]\n",
    "seg = seg[:304,:304]\n",
    "output = torch.sigmoid(torch.squeeze(model(input))).detach().numpy()\n",
    "output_bin = (output>0.5)*1.0\n",
    "\n",
    "# Crop the images:\n",
    "img = img[m_0:m_1,n_0:n_1]\n",
    "seg = seg[m_0:m_1,n_0:n_1]\n",
    "output = output[m_0:m_1,n_0:n_1]\n",
    "output_bin = output_bin[m_0:m_1,n_0:n_1]\n",
    "\n",
    "# Compute the matchings:\n",
    "BM = BettiMatching(output, seg, filtration='superlevel')\n",
    "WM = WassersteinMatching(output, seg, filtration='superlevel')"
   ]
  },
  {
   "cell_type": "code",
   "execution_count": null,
   "metadata": {},
   "outputs": [],
   "source": [
    "BM.plot_representative_cycles()"
   ]
  },
  {
   "cell_type": "code",
   "execution_count": null,
   "metadata": {},
   "outputs": [],
   "source": [
    "BM.plot_representative_cycles_app()"
   ]
  },
  {
   "cell_type": "code",
   "execution_count": null,
   "metadata": {},
   "outputs": [],
   "source": [
    "WM.plot_representative_cycles()"
   ]
  },
  {
   "cell_type": "code",
   "execution_count": null,
   "metadata": {},
   "outputs": [],
   "source": [
    "WM.plot_representative_cycles_app()"
   ]
  },
  {
   "cell_type": "code",
   "execution_count": null,
   "metadata": {},
   "outputs": [],
   "source": [
    "# Choose image:\n",
    "example = '0117'\n",
    "\n",
    "# Choose area of interest:\n",
    "m_0, m_1 = (0,300)\n",
    "n_0, n_1 = (0,300)\n",
    "\n",
    "# Choose model:\n",
    "model = load_model('models/cremi/DiceTopoMatch_relative_True_bothlevel_alpha_0.005/last_model_DiceTopo0.005-bothlevel_dict.pth')\n",
    "\n",
    "# Load image and ground truth:\n",
    "data_path = os.getcwd()+'/data_examples/CREMI'\n",
    "img = imageio.imread(data_path+'/images/image_'+example+'.png')\n",
    "seg = imageio.imread(data_path+'/labels/label_'+example+'.png')\n",
    "seg = np.array(seg, dtype=float)/255\n",
    "\n",
    "# Compute prediction:\n",
    "input = torchvision.transforms.functional.to_tensor(np.array(img))\n",
    "img = img[:304,:304]\n",
    "input = input.unsqueeze(0)[:,:,:304,:304]\n",
    "seg = seg[:304,:304]\n",
    "output = torch.sigmoid(torch.squeeze(model(input))).detach().numpy()\n",
    "output_bin = (output>0.5)*1.0\n",
    "\n",
    "# Crop the images:\n",
    "img = img[m_0:m_1,n_0:n_1]\n",
    "seg = seg[m_0:m_1,n_0:n_1]\n",
    "output = output[m_0:m_1,n_0:n_1]\n",
    "output_bin = output_bin[m_0:m_1,n_0:n_1]\n",
    "\n",
    "# Compute the matchings:\n",
    "BM = BettiMatching(output_bin, seg, filtration='superlevel')\n",
    "WM = WassersteinMatching(output_bin, seg, filtration='superlevel')"
   ]
  },
  {
   "cell_type": "code",
   "execution_count": null,
   "metadata": {},
   "outputs": [],
   "source": [
    "BM.plot_representative_cycles()"
   ]
  },
  {
   "cell_type": "code",
   "execution_count": null,
   "metadata": {},
   "outputs": [],
   "source": [
    "BM.plot_representative_cycles_app()"
   ]
  },
  {
   "cell_type": "code",
   "execution_count": null,
   "metadata": {},
   "outputs": [],
   "source": [
    "WM.plot_representative_cycles()"
   ]
  },
  {
   "cell_type": "code",
   "execution_count": null,
   "metadata": {},
   "outputs": [],
   "source": [
    "WM.plot_representative_cycles_app()"
   ]
  },
  {
   "cell_type": "code",
   "execution_count": null,
   "metadata": {},
   "outputs": [],
   "source": [
    "# Choose image:\n",
    "example = '0123'\n",
    "\n",
    "# Choose area of interest:\n",
    "m_0, m_1 = (0,300)\n",
    "n_0, n_1 = (0,300)\n",
    "\n",
    "# Choose model:\n",
    "model = load_model('models/cremi/DiceTopoMatch_relative_True_bothlevel_alpha_0.005/last_model_DiceTopo0.005-bothlevel_dict.pth')\n",
    "\n",
    "# Load image and ground truth:\n",
    "data_path = os.getcwd()+'/data_examples/CREMI'\n",
    "img = imageio.imread(data_path+'/images/image_'+example+'.png')\n",
    "seg = imageio.imread(data_path+'/labels/label_'+example+'.png')\n",
    "seg = np.array(seg, dtype=float)/255\n",
    "\n",
    "# Compute prediction:\n",
    "input = torchvision.transforms.functional.to_tensor(np.array(img))\n",
    "img = img[:304,:304]\n",
    "input = input.unsqueeze(0)[:,:,:304,:304]\n",
    "seg = seg[:304,:304]\n",
    "output = torch.sigmoid(torch.squeeze(model(input))).detach().numpy()\n",
    "output_bin = (output>0.5)*1.0\n",
    "\n",
    "# Crop the images:\n",
    "img = img[m_0:m_1,n_0:n_1]\n",
    "seg = seg[m_0:m_1,n_0:n_1]\n",
    "output = output[m_0:m_1,n_0:n_1]\n",
    "output_bin = output_bin[m_0:m_1,n_0:n_1]\n",
    "\n",
    "# Compute the matchings:\n",
    "BM = BettiMatching(output_bin, seg, filtration='superlevel')\n",
    "WM = WassersteinMatching(output_bin, seg, filtration='superlevel')"
   ]
  },
  {
   "cell_type": "code",
   "execution_count": null,
   "metadata": {},
   "outputs": [],
   "source": [
    "BM.plot_representative_cycles()"
   ]
  },
  {
   "cell_type": "code",
   "execution_count": null,
   "metadata": {},
   "outputs": [],
   "source": [
    "BM.plot_representative_cycles_app()"
   ]
  },
  {
   "cell_type": "code",
   "execution_count": null,
   "metadata": {},
   "outputs": [],
   "source": [
    "WM.plot_representative_cycles()"
   ]
  },
  {
   "cell_type": "code",
   "execution_count": null,
   "metadata": {},
   "outputs": [],
   "source": [
    "WM.plot_representative_cycles_app()"
   ]
  },
  {
   "cell_type": "markdown",
   "metadata": {},
   "source": [
    "### Roads"
   ]
  },
  {
   "cell_type": "code",
   "execution_count": null,
   "metadata": {},
   "outputs": [],
   "source": [
    "# Choose image:\n",
    "example = '0111'\n",
    "\n",
    "# Choose area of interest:\n",
    "m_0, m_1 = (0,300)\n",
    "n_0, n_1 = (0,300)\n",
    "\n",
    "# Choose model:\n",
    "model = load_model('models/roads/DiceTopoMatch_bothlevel_relative_True_alpha_0.5/last_model_dict.pth', in_channels=3, channels=[64,128,256,512,1024])\n",
    "\n",
    "# Load image and ground truth:\n",
    "data_path = os.getcwd()+'/data_examples/roads'\n",
    "img = imageio.imread(data_path+'/images/image_'+example+'.png')\n",
    "seg = imageio.imread(data_path+'/labels/label_'+example+'.png')\n",
    "seg = np.array(seg, dtype=float)/255\n",
    "\n",
    "# Compute prediction:\n",
    "input = torchvision.transforms.functional.to_tensor(np.array(img))\n",
    "img = img[:7*48,:7*48]\n",
    "seg = seg[:7*48,:7*48]\n",
    "input = input.unsqueeze(0)[:,:,:7*48,:7*48]\n",
    "output = torch.sigmoid(torch.squeeze(model(input))).detach().numpy()\n",
    "output_bin = (output>0.5)*1.0\n",
    "\n",
    "# Crop the images:\n",
    "img = img[m_0:m_1,n_0:n_1]\n",
    "seg = seg[m_0:m_1,n_0:n_1]\n",
    "output = output[m_0:m_1,n_0:n_1]\n",
    "output_bin = output_bin[m_0:m_1,n_0:n_1]\n",
    "\n",
    "# Compute the matchings:\n",
    "BM = BettiMatching(output, seg, filtration='superlevel')\n",
    "WM = WassersteinMatching(output, seg, filtration='superlevel')"
   ]
  },
  {
   "cell_type": "code",
   "execution_count": null,
   "metadata": {},
   "outputs": [],
   "source": [
    "BM.plot_representative_cycles(matches=[1,2,3,4,5,6])"
   ]
  },
  {
   "cell_type": "code",
   "execution_count": null,
   "metadata": {},
   "outputs": [],
   "source": [
    "BM.plot_representative_cycles_app()"
   ]
  },
  {
   "cell_type": "code",
   "execution_count": null,
   "metadata": {},
   "outputs": [],
   "source": [
    "WM.plot_representative_cycles(matches=[1,2,3,4,6,7])"
   ]
  },
  {
   "cell_type": "code",
   "execution_count": null,
   "metadata": {},
   "outputs": [],
   "source": [
    "WM.plot_representative_cycles_app()"
   ]
  },
  {
   "cell_type": "code",
   "execution_count": null,
   "metadata": {},
   "outputs": [],
   "source": [
    "# Choose image:\n",
    "example = '0113'\n",
    "\n",
    "# Choose area of interest:\n",
    "m_0, m_1 = (0,300)\n",
    "n_0, n_1 = (0,300)\n",
    "\n",
    "# Choose model:\n",
    "model = load_model('models/roads/DiceTopoMatch_bothlevel_relative_True_alpha_0.5/last_model_dict.pth', in_channels=3, channels=[64,128,256,512,1024])\n",
    "\n",
    "# Load image and ground truth:\n",
    "data_path = os.getcwd()+'/data_examples/roads'\n",
    "img = imageio.imread(data_path+'/images/image_'+example+'.png')\n",
    "seg = imageio.imread(data_path+'/labels/label_'+example+'.png')\n",
    "seg = np.array(seg, dtype=float)/255\n",
    "\n",
    "# Compute prediction:\n",
    "input = torchvision.transforms.functional.to_tensor(np.array(img))\n",
    "img = img[:7*48,:7*48]\n",
    "seg = seg[:7*48,:7*48]\n",
    "input = input.unsqueeze(0)[:,:,:7*48,:7*48]\n",
    "output = torch.sigmoid(torch.squeeze(model(input))).detach().numpy()\n",
    "output_bin = (output>0.5)*1.0\n",
    "\n",
    "# Crop the images:\n",
    "img = img[m_0:m_1,n_0:n_1]\n",
    "seg = seg[m_0:m_1,n_0:n_1]\n",
    "output = output[m_0:m_1,n_0:n_1]\n",
    "output_bin = output_bin[m_0:m_1,n_0:n_1]\n",
    "\n",
    "# Compute the matchings:\n",
    "BM = BettiMatching(output, seg, filtration='superlevel')\n",
    "WM = WassersteinMatching(output, seg, filtration='superlevel')"
   ]
  },
  {
   "cell_type": "code",
   "execution_count": null,
   "metadata": {},
   "outputs": [],
   "source": [
    "BM.plot_representative_cycles(matches=[3,4,5,6,7,8])"
   ]
  },
  {
   "cell_type": "code",
   "execution_count": null,
   "metadata": {},
   "outputs": [],
   "source": [
    "BM.plot_representative_cycles_app()"
   ]
  },
  {
   "cell_type": "code",
   "execution_count": null,
   "metadata": {},
   "outputs": [],
   "source": [
    "WM.plot_representative_cycles(matches=[2,3,4,5,6,7])"
   ]
  },
  {
   "cell_type": "code",
   "execution_count": null,
   "metadata": {},
   "outputs": [],
   "source": [
    "WM.plot_representative_cycles_app()"
   ]
  },
  {
   "cell_type": "code",
   "execution_count": null,
   "metadata": {},
   "outputs": [],
   "source": [
    "# Choose image:\n",
    "example = '0122'\n",
    "\n",
    "# Choose area of interest:\n",
    "m_0, m_1 = (0,300)\n",
    "n_0, n_1 = (0,300)\n",
    "\n",
    "# Choose model:\n",
    "model = load_model('models/roads/DiceTopoMatch_bothlevel_relative_True_alpha_0.5/last_model_dict.pth', in_channels=3, channels=[64,128,256,512,1024])\n",
    "\n",
    "# Load image and ground truth:\n",
    "data_path = os.getcwd()+'/data_examples/roads'\n",
    "img = imageio.imread(data_path+'/images/image_'+example+'.png')\n",
    "seg = imageio.imread(data_path+'/labels/label_'+example+'.png')\n",
    "seg = np.array(seg, dtype=float)/255\n",
    "\n",
    "# Compute prediction:\n",
    "input = torchvision.transforms.functional.to_tensor(np.array(img))\n",
    "img = img[:7*48,:7*48]\n",
    "seg = seg[:7*48,:7*48]\n",
    "input = input.unsqueeze(0)[:,:,:7*48,:7*48]\n",
    "output = torch.sigmoid(torch.squeeze(model(input))).detach().numpy()\n",
    "output_bin = (output>0.5)*1.0\n",
    "\n",
    "# Crop the images:\n",
    "img = img[m_0:m_1,n_0:n_1]\n",
    "seg = seg[m_0:m_1,n_0:n_1]\n",
    "output = output[m_0:m_1,n_0:n_1]\n",
    "output_bin = output_bin[m_0:m_1,n_0:n_1]\n",
    "\n",
    "# Compute the matchings:\n",
    "BM = BettiMatching(output, seg, filtration='superlevel')\n",
    "WM = WassersteinMatching(output, seg, filtration='superlevel')"
   ]
  },
  {
   "cell_type": "code",
   "execution_count": null,
   "metadata": {},
   "outputs": [],
   "source": [
    "BM.plot_representative_cycles(matches=[1,4,6,11,12,15])"
   ]
  },
  {
   "cell_type": "code",
   "execution_count": null,
   "metadata": {},
   "outputs": [],
   "source": [
    "BM.plot_representative_cycles_app()"
   ]
  },
  {
   "cell_type": "code",
   "execution_count": null,
   "metadata": {},
   "outputs": [],
   "source": [
    "WM.plot_representative_cycles()"
   ]
  },
  {
   "cell_type": "code",
   "execution_count": null,
   "metadata": {},
   "outputs": [],
   "source": [
    "WM.plot_representative_cycles_app()"
   ]
  },
  {
   "cell_type": "markdown",
   "metadata": {},
   "source": [
    "### Buildings"
   ]
  },
  {
   "cell_type": "code",
   "execution_count": null,
   "metadata": {},
   "outputs": [],
   "source": [
    "# Choose image:\n",
    "example = '0090'\n",
    "\n",
    "# Choose area of interest:\n",
    "m_0, m_1 = (0,200)\n",
    "n_0, n_1 = (0,200)\n",
    "\n",
    "# Choose model:\n",
    "model = load_model('models/buildings/DiceTopoMatch_bothlevel_relative_True_alpha_0.05/last_model_dict.pth', in_channels=3, channels=[64,128,256,512,1024])\n",
    "\n",
    "# Load image and ground truth:\n",
    "data_path = os.getcwd()+'/data_examples/buildings'\n",
    "img = imageio.imread(data_path+'/images/image_'+example+'.png')\n",
    "seg = imageio.imread(data_path+'/labels/label_'+example+'.png')\n",
    "seg = np.array(seg, dtype=float)/255\n",
    "\n",
    "# Compute prediction:\n",
    "input = torchvision.transforms.functional.to_tensor(np.array(img))\n",
    "img = img[:7*48,:7*48]\n",
    "seg = seg[:7*48,:7*48]\n",
    "input = input.unsqueeze(0)[:,:,:7*48,:7*48]\n",
    "output = torch.sigmoid(torch.squeeze(model(input))).detach().numpy()\n",
    "output_bin = (output>0.5)*1.0\n",
    "\n",
    "# Crop the images:\n",
    "img = img[m_0:m_1,n_0:n_1]\n",
    "seg = seg[m_0:m_1,n_0:n_1]\n",
    "output = output[m_0:m_1,n_0:n_1]\n",
    "output_bin = output_bin[m_0:m_1,n_0:n_1]\n",
    "\n",
    "# Compute the matchings:\n",
    "BM = BettiMatching(output, seg, filtration='superlevel')\n",
    "WM = WassersteinMatching(output, seg, filtration='superlevel')"
   ]
  },
  {
   "cell_type": "code",
   "execution_count": null,
   "metadata": {},
   "outputs": [],
   "source": [
    "BM.plot_representative_cycles(dim=0)"
   ]
  },
  {
   "cell_type": "code",
   "execution_count": null,
   "metadata": {},
   "outputs": [],
   "source": [
    "BM.plot_representative_cycles_app(dim=0)"
   ]
  },
  {
   "cell_type": "code",
   "execution_count": null,
   "metadata": {},
   "outputs": [],
   "source": [
    "WM.plot_representative_cycles(dim=0)"
   ]
  },
  {
   "cell_type": "code",
   "execution_count": null,
   "metadata": {},
   "outputs": [],
   "source": [
    "WM.plot_representative_cycles_app(dim=0)"
   ]
  },
  {
   "cell_type": "code",
   "execution_count": null,
   "metadata": {},
   "outputs": [],
   "source": [
    "# Choose image:\n",
    "example = '0105'\n",
    "\n",
    "# Choose area of interest:\n",
    "m_0, m_1 = (0,200)\n",
    "n_0, n_1 = (0,200)\n",
    "\n",
    "# Choose model:\n",
    "model = load_model('models/buildings/DiceTopoMatch_bothlevel_relative_True_alpha_0.05/last_model_dict.pth', in_channels=3, channels=[64,128,256,512,1024])\n",
    "\n",
    "# Load image and ground truth:\n",
    "data_path = os.getcwd()+'/data_examples/buildings'\n",
    "img = imageio.imread(data_path+'/images/image_'+example+'.png')\n",
    "seg = imageio.imread(data_path+'/labels/label_'+example+'.png')\n",
    "seg = np.array(seg, dtype=float)/255\n",
    "\n",
    "# Compute prediction:\n",
    "input = torchvision.transforms.functional.to_tensor(np.array(img))\n",
    "img = img[:7*48,:7*48]\n",
    "seg = seg[:7*48,:7*48]\n",
    "input = input.unsqueeze(0)[:,:,:7*48,:7*48]\n",
    "output = torch.sigmoid(torch.squeeze(model(input))).detach().numpy()\n",
    "output_bin = (output>0.5)*1.0\n",
    "\n",
    "# Crop the images:\n",
    "img = img[m_0:m_1,n_0:n_1]\n",
    "seg = seg[m_0:m_1,n_0:n_1]\n",
    "output = output[m_0:m_1,n_0:n_1]\n",
    "output_bin = output_bin[m_0:m_1,n_0:n_1]\n",
    "\n",
    "# Compute the matchings:\n",
    "BM = BettiMatching(output, seg, filtration='superlevel')\n",
    "WM = WassersteinMatching(output, seg, filtration='superlevel')"
   ]
  },
  {
   "cell_type": "code",
   "execution_count": null,
   "metadata": {},
   "outputs": [],
   "source": [
    "BM.plot_representative_cycles(dim=0)"
   ]
  },
  {
   "cell_type": "code",
   "execution_count": null,
   "metadata": {},
   "outputs": [],
   "source": [
    "BM.plot_representative_cycles_app(dim=0)"
   ]
  },
  {
   "cell_type": "code",
   "execution_count": null,
   "metadata": {},
   "outputs": [],
   "source": [
    "WM.plot_representative_cycles(dim=0)"
   ]
  },
  {
   "cell_type": "code",
   "execution_count": null,
   "metadata": {},
   "outputs": [],
   "source": [
    "WM.plot_representative_cycles_app(dim=0)"
   ]
  },
  {
   "cell_type": "markdown",
   "metadata": {},
   "source": [
    "### Elegans cells"
   ]
  },
  {
   "cell_type": "code",
   "execution_count": null,
   "metadata": {},
   "outputs": [],
   "source": [
    "# Choose image:\n",
    "example = '0090'\n",
    "\n",
    "# Choose area of interest:\n",
    "m_0, m_1 = (0,200)\n",
    "n_0, n_1 = (0,200)\n",
    "\n",
    "# Choose model:\n",
    "model = load_model('models/elegans/DiceTopoMatch_bothlevel_relative_True_alpha_0.005/last_model_dict.pth')\n",
    "\n",
    "# Load image and ground truth:\n",
    "data_path = os.getcwd()+'/data_examples/elegans_cells'\n",
    "img = imageio.imread(data_path+'/images/image_'+example+'.png')\n",
    "seg = imageio.imread(data_path+'/labels/label_'+example+'.png')\n",
    "seg = np.array(seg, dtype=float)/255\n",
    "\n",
    "# Compute prediction:\n",
    "input = torchvision.transforms.functional.to_tensor(np.array(img))\n",
    "img = img[:7*48,:7*48]\n",
    "seg = seg[:7*48,:7*48]\n",
    "input = input.unsqueeze(0)[:,:,:7*48,:7*48]\n",
    "output = torch.sigmoid(torch.squeeze(model(input))).detach().numpy()\n",
    "output_bin = (output>0.5)*1.0\n",
    "\n",
    "# Crop the images:\n",
    "img = img[m_0:m_1,n_0:n_1]\n",
    "seg = seg[m_0:m_1,n_0:n_1]\n",
    "output = output[m_0:m_1,n_0:n_1]\n",
    "output_bin = output_bin[m_0:m_1,n_0:n_1]\n",
    "\n",
    "# Compute the matchings:\n",
    "BM = BettiMatching(output, seg, filtration='superlevel')\n",
    "WM = WassersteinMatching(output, seg, filtration='superlevel')"
   ]
  },
  {
   "cell_type": "code",
   "execution_count": null,
   "metadata": {},
   "outputs": [],
   "source": [
    "BM.plot_representative_cycles(dim=0)"
   ]
  },
  {
   "cell_type": "code",
   "execution_count": null,
   "metadata": {},
   "outputs": [],
   "source": [
    "BM.plot_representative_cycles_app(dim=0)"
   ]
  },
  {
   "cell_type": "code",
   "execution_count": null,
   "metadata": {},
   "outputs": [],
   "source": [
    "WM.plot_representative_cycles(dim=0)"
   ]
  },
  {
   "cell_type": "code",
   "execution_count": null,
   "metadata": {},
   "outputs": [],
   "source": [
    "WM.plot_representative_cycles_app(dim=0)"
   ]
  },
  {
   "cell_type": "code",
   "execution_count": null,
   "metadata": {},
   "outputs": [],
   "source": [
    "# Choose image:\n",
    "example = '0095'\n",
    "\n",
    "# Choose area of interest:\n",
    "m_0, m_1 = (0,200)\n",
    "n_0, n_1 = (0,200)\n",
    "\n",
    "# Choose model:\n",
    "model = load_model('models/elegans/DiceTopoMatch_bothlevel_relative_True_alpha_0.005/last_model_dict.pth')\n",
    "\n",
    "# Load image and ground truth:\n",
    "data_path = os.getcwd()+'/data_examples/elegans_cells'\n",
    "img = imageio.imread(data_path+'/images/image_'+example+'.png')\n",
    "seg = imageio.imread(data_path+'/labels/label_'+example+'.png')\n",
    "seg = np.array(seg, dtype=float)/255\n",
    "\n",
    "# Compute prediction:\n",
    "input = torchvision.transforms.functional.to_tensor(np.array(img))\n",
    "img = img[:7*48,:7*48]\n",
    "seg = seg[:7*48,:7*48]\n",
    "input = input.unsqueeze(0)[:,:,:7*48,:7*48]\n",
    "output = torch.sigmoid(torch.squeeze(model(input))).detach().numpy()\n",
    "output_bin = (output>0.5)*1.0\n",
    "\n",
    "# Crop the images:\n",
    "img = img[m_0:m_1,n_0:n_1]\n",
    "seg = seg[m_0:m_1,n_0:n_1]\n",
    "output = output[m_0:m_1,n_0:n_1]\n",
    "output_bin = output_bin[m_0:m_1,n_0:n_1]\n",
    "\n",
    "# Compute the matchings:\n",
    "BM = BettiMatching(output, seg, filtration='superlevel')\n",
    "WM = WassersteinMatching(output, seg, filtration='superlevel')"
   ]
  },
  {
   "cell_type": "code",
   "execution_count": null,
   "metadata": {},
   "outputs": [],
   "source": [
    "BM.plot_representative_cycles()"
   ]
  },
  {
   "cell_type": "code",
   "execution_count": null,
   "metadata": {},
   "outputs": [],
   "source": [
    "BM.plot_representative_cycles_app()"
   ]
  },
  {
   "cell_type": "code",
   "execution_count": null,
   "metadata": {},
   "outputs": [],
   "source": [
    "WM.plot_representative_cycles()"
   ]
  },
  {
   "cell_type": "code",
   "execution_count": null,
   "metadata": {},
   "outputs": [],
   "source": [
    "WM.plot_representative_cycles_app()"
   ]
  },
  {
   "cell_type": "markdown",
   "metadata": {},
   "source": [
    "### Colon cancer cells"
   ]
  },
  {
   "cell_type": "code",
   "execution_count": null,
   "metadata": {},
   "outputs": [],
   "source": [
    "# Choose image:\n",
    "example = '0020'\n",
    "\n",
    "# Choose area of interest:\n",
    "m_0, m_1 = (0,200)\n",
    "n_0, n_1 = (0,200)\n",
    "\n",
    "# Choose model:\n",
    "model = load_model('models/colon/DiceTopoMatch_superlevel_relative_True_alpha_0.05/last_model_dict.pth')\n",
    "\n",
    "# Load image and ground truth:\n",
    "data_path = os.getcwd()+'/data_examples/colon_cancer_cells'\n",
    "img = imageio.imread(data_path+'/images/image_'+example+'.png')\n",
    "seg = imageio.imread(data_path+'/labels/label_'+example+'.png')\n",
    "seg = np.array(seg, dtype=float)/255\n",
    "\n",
    "# Compute prediction:\n",
    "input = torchvision.transforms.functional.to_tensor(np.array(img))\n",
    "img = img[:7*48,:7*48]\n",
    "seg = seg[:7*48,:7*48]\n",
    "input = input.unsqueeze(0)[:,:,:7*48,:7*48]\n",
    "output = torch.sigmoid(torch.squeeze(model(input))).detach().numpy()\n",
    "output_bin = (output>0.5)*1.0\n",
    "\n",
    "# Crop the images:\n",
    "img = img[m_0:m_1,n_0:n_1]\n",
    "seg = seg[m_0:m_1,n_0:n_1]\n",
    "output = output[m_0:m_1,n_0:n_1]\n",
    "output_bin = output_bin[m_0:m_1,n_0:n_1]\n",
    "\n",
    "# Compute the matchings:\n",
    "BM = BettiMatching(output, seg, filtration='superlevel')\n",
    "WM = WassersteinMatching(output, seg, filtration='superlevel')"
   ]
  },
  {
   "cell_type": "code",
   "execution_count": null,
   "metadata": {},
   "outputs": [],
   "source": [
    "BM.plot_representative_cycles(dim=0)"
   ]
  },
  {
   "cell_type": "code",
   "execution_count": null,
   "metadata": {},
   "outputs": [],
   "source": [
    "BM.plot_representative_cycles_app(dim=0)"
   ]
  },
  {
   "cell_type": "code",
   "execution_count": null,
   "metadata": {},
   "outputs": [],
   "source": [
    "WM.plot_representative_cycles(dim=0)"
   ]
  },
  {
   "cell_type": "code",
   "execution_count": null,
   "metadata": {},
   "outputs": [],
   "source": [
    "WM.plot_representative_cycles_app(dim=0)"
   ]
  },
  {
   "cell_type": "code",
   "execution_count": null,
   "metadata": {},
   "outputs": [],
   "source": [
    "# Choose image:\n",
    "example = '0022'\n",
    "\n",
    "# Choose area of interest:\n",
    "m_0, m_1 = (0,200)\n",
    "n_0, n_1 = (0,200)\n",
    "\n",
    "# Choose model:\n",
    "model = load_model('models/colon/DiceTopoMatch_superlevel_relative_True_alpha_0.05/last_model_dict.pth')\n",
    "\n",
    "# Load image and ground truth:\n",
    "data_path = os.getcwd()+'/data_examples/colon_cancer_cells'\n",
    "img = imageio.imread(data_path+'/images/image_'+example+'.png')\n",
    "seg = imageio.imread(data_path+'/labels/label_'+example+'.png')\n",
    "seg = np.array(seg, dtype=float)/255\n",
    "\n",
    "# Compute prediction:\n",
    "input = torchvision.transforms.functional.to_tensor(np.array(img))\n",
    "img = img[:7*48,:7*48]\n",
    "seg = seg[:7*48,:7*48]\n",
    "input = input.unsqueeze(0)[:,:,:7*48,:7*48]\n",
    "output = torch.sigmoid(torch.squeeze(model(input))).detach().numpy()\n",
    "output_bin = (output>0.5)*1.0\n",
    "\n",
    "# Crop the images:\n",
    "img = img[m_0:m_1,n_0:n_1]\n",
    "seg = seg[m_0:m_1,n_0:n_1]\n",
    "output = output[m_0:m_1,n_0:n_1]\n",
    "output_bin = output_bin[m_0:m_1,n_0:n_1]\n",
    "\n",
    "# Compute the matchings:\n",
    "BM = BettiMatching(output, seg, filtration='superlevel')\n",
    "WM = WassersteinMatching(output, seg, filtration='superlevel')"
   ]
  },
  {
   "cell_type": "code",
   "execution_count": null,
   "metadata": {},
   "outputs": [],
   "source": [
    "BM.plot_representative_cycles(dim=0)"
   ]
  },
  {
   "cell_type": "code",
   "execution_count": null,
   "metadata": {},
   "outputs": [],
   "source": [
    "BM.plot_representative_cycles_app(dim=0)"
   ]
  },
  {
   "cell_type": "code",
   "execution_count": null,
   "metadata": {},
   "outputs": [],
   "source": [
    "WM.plot_representative_cycles(dim=0)"
   ]
  },
  {
   "cell_type": "code",
   "execution_count": null,
   "metadata": {},
   "outputs": [],
   "source": [
    "WM.plot_representative_cycles_app(dim=0)"
   ]
  },
  {
   "cell_type": "markdown",
   "metadata": {},
   "source": [
    "### MNIST examples"
   ]
  },
  {
   "cell_type": "code",
   "execution_count": null,
   "metadata": {},
   "outputs": [],
   "source": [
    "# Choose image:\n",
    "example = '7'\n",
    "\n",
    "# Choose model:\n",
    "model = load_model('models/mnist/DiceTopoMatch_bothlevel_relative_True_alpha_0.05/last_model_dict.pth')\n",
    "\n",
    "# Load image and ground truth:\n",
    "data_path = os.getcwd()+'/data_examples/mnist'\n",
    "img = np.load(data_path+'/images/img_'+example+'.npy')\n",
    "seg = np.load(data_path+'/labels/seg_'+example+'.npy')\n",
    "seg = np.array(seg, dtype=float)\n",
    "\n",
    "# Compute prediction:\n",
    "input = torchvision.transforms.functional.to_tensor(np.array(img))\n",
    "input = input.unsqueeze(0)\n",
    "output = torch.sigmoid(torch.squeeze(model(input))).detach().numpy()\n",
    "output_bin = (output>0.5)*1.0\n",
    "\n",
    "# Compute the matchings:\n",
    "BM = BettiMatching(output, seg, filtration='superlevel')\n",
    "WM = WassersteinMatching(output, seg, filtration='superlevel')"
   ]
  },
  {
   "cell_type": "code",
   "execution_count": null,
   "metadata": {},
   "outputs": [],
   "source": [
    "BM.plot_representative_cycles(dim=1)"
   ]
  },
  {
   "cell_type": "code",
   "execution_count": null,
   "metadata": {},
   "outputs": [],
   "source": [
    "BM.plot_representative_cycles_app(dim=1)"
   ]
  },
  {
   "cell_type": "code",
   "execution_count": null,
   "metadata": {},
   "outputs": [],
   "source": [
    "WM.plot_representative_cycles(dim=1)"
   ]
  },
  {
   "cell_type": "code",
   "execution_count": null,
   "metadata": {},
   "outputs": [],
   "source": [
    "WM.plot_representative_cycles_app(dim=1)"
   ]
  },
  {
   "cell_type": "code",
   "execution_count": null,
   "metadata": {},
   "outputs": [],
   "source": [
    "# Choose image:\n",
    "example = '61'\n",
    "\n",
    "# Choose model:\n",
    "model = load_model('models/mnist/DiceTopoMatch_bothlevel_relative_True_alpha_0.05/last_model_dict.pth')\n",
    "\n",
    "# Load image and ground truth:\n",
    "data_path = os.getcwd()+'/data_examples/mnist'\n",
    "img = np.load(data_path+'/images/img_'+example+'.npy')\n",
    "seg = np.load(data_path+'/labels/seg_'+example+'.npy')\n",
    "seg = np.array(seg, dtype=float)\n",
    "\n",
    "# Compute prediction:\n",
    "input = torchvision.transforms.functional.to_tensor(np.array(img))\n",
    "input = input.unsqueeze(0)\n",
    "output = torch.sigmoid(torch.squeeze(model(input))).detach().numpy()\n",
    "output_bin = (output>0.5)*1.0\n",
    "\n",
    "# Compute the matchings:\n",
    "BM = BettiMatching(output, seg, filtration='superlevel')\n",
    "WM = WassersteinMatching(output, seg, filtration='superlevel')"
   ]
  },
  {
   "cell_type": "code",
   "execution_count": null,
   "metadata": {},
   "outputs": [],
   "source": [
    "BM.plot_representative_cycles(dim=1)"
   ]
  },
  {
   "cell_type": "code",
   "execution_count": null,
   "metadata": {},
   "outputs": [],
   "source": [
    "BM.plot_representative_cycles_app(dim=1)"
   ]
  },
  {
   "cell_type": "code",
   "execution_count": null,
   "metadata": {},
   "outputs": [],
   "source": [
    "WM.plot_representative_cycles(dim=1)"
   ]
  },
  {
   "cell_type": "code",
   "execution_count": null,
   "metadata": {},
   "outputs": [],
   "source": [
    "WM.plot_representative_cycles_app(dim=1)"
   ]
  },
  {
   "cell_type": "code",
   "execution_count": null,
   "metadata": {},
   "outputs": [],
   "source": []
  }
 ],
 "metadata": {
  "kernelspec": {
   "display_name": "BettiMatching",
   "language": "python",
   "name": "python3"
  },
  "language_info": {
   "codemirror_mode": {
    "name": "ipython",
    "version": 3
   },
   "file_extension": ".py",
   "mimetype": "text/x-python",
   "name": "python",
   "nbconvert_exporter": "python",
   "pygments_lexer": "ipython3",
   "version": "3.10.4"
  },
  "orig_nbformat": 4
 },
 "nbformat": 4,
 "nbformat_minor": 2
}
